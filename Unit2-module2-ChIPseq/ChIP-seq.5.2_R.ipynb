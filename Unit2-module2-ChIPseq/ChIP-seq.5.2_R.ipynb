{
  "cells": [
    {
      "cell_type": "markdown",
      "source": [
        "# ChIP-seq intro 5\n",
        "Huitian Diao\n",
        "* __References__: \n",
        "* [ENCODE ChIP-seq pipeline](https://www.encodeproject.org/pipelines/ENCPL138KID/)"
      ],
      "metadata": {}
    },
    {
      "cell_type": "markdown",
      "source": [
        "### 1.1 ChIPQC\n",
        "* 1.1.0 Load package and sampleSheet\n",
        "* 1.1.1 Create ChIPQC object\n",
        "* 1.1.2 Generate ChIPQC report"
      ],
      "metadata": {}
    },
    {
      "cell_type": "code",
      "source": [
        "setwd(\"/Users/sfchen/Documents/2018_Su/Applied-Bioinformatics-HW/Unit2-module2-ChIPseq/aligned_bam\")\n",
        "\n",
        "# Load ChIPQC package\n",
        "library(ChIPQC)"
      ],
      "outputs": [
        {
          "output_type": "stream",
          "name": "stderr",
          "text": [
            "Loading required package: ggplot2\n",
            "Loading required package: DiffBind\n",
            "Loading required package: GenomicRanges\n",
            "Loading required package: stats4\n",
            "Loading required package: BiocGenerics\n",
            "Loading required package: parallel\n",
            "\n",
            "Attaching package: ‘BiocGenerics’\n",
            "\n",
            "The following objects are masked from ‘package:parallel’:\n",
            "\n",
            "    clusterApply, clusterApplyLB, clusterCall, clusterEvalQ,\n",
            "    clusterExport, clusterMap, parApply, parCapply, parLapply,\n",
            "    parLapplyLB, parRapply, parSapply, parSapplyLB\n",
            "\n",
            "The following objects are masked from ‘package:stats’:\n",
            "\n",
            "    IQR, mad, sd, var, xtabs\n",
            "\n",
            "The following objects are masked from ‘package:base’:\n",
            "\n",
            "    Filter, Find, Map, Position, Reduce, anyDuplicated, append,\n",
            "    as.data.frame, basename, cbind, colMeans, colSums, colnames,\n",
            "    dirname, do.call, duplicated, eval, evalq, get, grep, grepl,\n",
            "    intersect, is.unsorted, lapply, lengths, mapply, match, mget,\n",
            "    order, paste, pmax, pmax.int, pmin, pmin.int, rank, rbind,\n",
            "    rowMeans, rowSums, rownames, sapply, setdiff, sort, table, tapply,\n",
            "    union, unique, unsplit, which, which.max, which.min\n",
            "\n",
            "Loading required package: S4Vectors\n",
            "\n",
            "Attaching package: ‘S4Vectors’\n",
            "\n",
            "The following object is masked from ‘package:base’:\n",
            "\n",
            "    expand.grid\n",
            "\n",
            "Loading required package: IRanges\n",
            "Loading required package: GenomeInfoDb\n",
            "Loading required package: SummarizedExperiment\n",
            "Loading required package: Biobase\n",
            "Welcome to Bioconductor\n",
            "\n",
            "    Vignettes contain introductory material; view with\n",
            "    'browseVignettes()'. To cite Bioconductor, see\n",
            "    'citation(\"Biobase\")', and for packages 'citation(\"pkgname\")'.\n",
            "\n",
            "Loading required package: DelayedArray\n",
            "Loading required package: matrixStats\n",
            "\n",
            "Attaching package: ‘matrixStats’\n",
            "\n",
            "The following objects are masked from ‘package:Biobase’:\n",
            "\n",
            "    anyMissing, rowMedians\n",
            "\n",
            "Loading required package: BiocParallel\n",
            "\n",
            "Attaching package: ‘DelayedArray’\n",
            "\n",
            "The following objects are masked from ‘package:matrixStats’:\n",
            "\n",
            "    colMaxs, colMins, colRanges, rowMaxs, rowMins, rowRanges\n",
            "\n",
            "The following objects are masked from ‘package:base’:\n",
            "\n",
            "    aperm, apply\n",
            "\n\n"
          ]
        }
      ],
      "execution_count": 1,
      "metadata": {}
    },
    {
      "cell_type": "code",
      "source": [
        "# Load sampleSheet\n",
        "samples <- read.csv(\"ChIPQC_samplesheet_chr12.csv\")\n",
        "head(samples)"
      ],
      "outputs": [
        {
          "output_type": "stream",
          "name": "stderr",
          "text": [
            "Warning message in read.table(file = file, header = header, sep = sep, quote = quote, :\n",
            "“incomplete final line found by readTableHeader on 'ChIPQC_samplesheet_chr12.csv'”"
          ]
        },
        {
          "output_type": "display_data",
          "data": {
            "text/html": [
              "<table>\n",
              "<thead><tr><th scope=col>SampleID</th><th scope=col>Tissue</th><th scope=col>Factor</th><th scope=col>Condition</th><th scope=col>Replicate</th><th scope=col>bamReads</th><th scope=col>ControlID</th><th scope=col>bamControl</th><th scope=col>Peaks</th><th scope=col>PeakCaller</th></tr></thead>\n",
              "<tbody>\n",
              "\t<tr><td>SRR3001750_chr12                             </td><td>NA                                           </td><td>NA                                           </td><td>NA                                           </td><td>NA                                           </td><td>SRR3001750_srt_dupr.chr12.srt.bam            </td><td>NA                                           </td><td>NA                                           </td><td>SRR3001750_srt_dupr.chr12.srt_peaks.broadPeak</td><td>macs                                         </td></tr>\n",
              "\t<tr><td>SRR3001751_chr12                             </td><td>NA                                           </td><td>NA                                           </td><td>NA                                           </td><td>NA                                           </td><td>SRR3001751_srt_dupr.chr12.srt.bam            </td><td>NA                                           </td><td>NA                                           </td><td>SRR3001751_srt_dupr.chr12.srt_peaks.broadPeak</td><td>macs                                         </td></tr>\n",
              "</tbody>\n",
              "</table>\n"
            ],
            "text/markdown": [
              "\n",
              "SampleID | Tissue | Factor | Condition | Replicate | bamReads | ControlID | bamControl | Peaks | PeakCaller | \n",
              "|---|---|\n",
              "| SRR3001750_chr12                              | NA                                            | NA                                            | NA                                            | NA                                            | SRR3001750_srt_dupr.chr12.srt.bam             | NA                                            | NA                                            | SRR3001750_srt_dupr.chr12.srt_peaks.broadPeak | macs                                          | \n",
              "| SRR3001751_chr12                              | NA                                            | NA                                            | NA                                            | NA                                            | SRR3001751_srt_dupr.chr12.srt.bam             | NA                                            | NA                                            | SRR3001751_srt_dupr.chr12.srt_peaks.broadPeak | macs                                          | \n",
              "\n\n"
            ],
            "text/latex": [
              "\\begin{tabular}{r|llllllllll}\n",
              " SampleID & Tissue & Factor & Condition & Replicate & bamReads & ControlID & bamControl & Peaks & PeakCaller\\\\\n",
              "\\hline\n",
              "\t SRR3001750\\_chr12                                  & NA                                                  & NA                                                  & NA                                                  & NA                                                  & SRR3001750\\_srt\\_dupr.chr12.srt.bam               & NA                                                  & NA                                                  & SRR3001750\\_srt\\_dupr.chr12.srt\\_peaks.broadPeak & macs                                               \\\\\n",
              "\t SRR3001751\\_chr12                                  & NA                                                  & NA                                                  & NA                                                  & NA                                                  & SRR3001751\\_srt\\_dupr.chr12.srt.bam               & NA                                                  & NA                                                  & SRR3001751\\_srt\\_dupr.chr12.srt\\_peaks.broadPeak & macs                                               \\\\\n",
              "\\end{tabular}\n"
            ],
            "text/plain": [
              "  SampleID         Tissue Factor Condition Replicate\n",
              "1 SRR3001750_chr12 NA     NA     NA        NA       \n",
              "2 SRR3001751_chr12 NA     NA     NA        NA       \n",
              "  bamReads                          ControlID bamControl\n",
              "1 SRR3001750_srt_dupr.chr12.srt.bam NA        NA        \n",
              "2 SRR3001751_srt_dupr.chr12.srt.bam NA        NA        \n",
              "  Peaks                                         PeakCaller\n",
              "1 SRR3001750_srt_dupr.chr12.srt_peaks.broadPeak macs      \n",
              "2 SRR3001751_srt_dupr.chr12.srt_peaks.broadPeak macs      "
            ]
          },
          "metadata": {}
        }
      ],
      "execution_count": 2,
      "metadata": {}
    },
    {
      "cell_type": "code",
      "source": [
        "## Create ChIPQC object\n",
        "chipObj <- ChIPQC(samples, annotation=\"mm10\") "
      ],
      "outputs": [
        {
          "output_type": "stream",
          "name": "stderr",
          "text": [
            "SRR3001750_chr12     NA macs\n",
            "SRR3001751_chr12     NA macs\n",
            "Checking chromosomes:\n",
            "Compiling annotation...\n",
            "Computing metrics for 2 samples...\n",
            "R_zmq_msg_send errno: 4 strerror: Interrupted system call\n",
            "R_zmq_msg_send errno: 4 strerror: Interrupted system call\n",
            "R_zmq_msg_send errno: 4 strerror: Interrupted system call\n",
            "R_zmq_msg_send errno: 4 strerror: Interrupted system call\n",
            "R_zmq_msg_send errno: 4 strerror: Interrupted system call\n",
            "R_zmq_msg_send errno: 4 strerror: Interrupted system call\n",
            "R_zmq_msg_send errno: 4 strerror: Interrupted system call\n",
            " 300 / 300\n",
            "R_zmq_msg_send errno: 4 strerror: Interrupted system call\n",
            "R_zmq_msg_send errno: 4 strerror: Interrupted system call\n",
            "done\n",
            "Calculating coverage\n",
            "Calculating Summits on  chr12  ..[1] 1\n",
            "R_zmq_msg_send errno: 4 strerror: Interrupted system call\n",
            "R_zmq_msg_send errno: 4 strerror: Interrupted system call\n",
            "R_zmq_msg_send errno: 4 strerror: Interrupted system call\n",
            "R_zmq_msg_send errno: 4 strerror: Interrupted system call\n",
            "R_zmq_msg_send errno: 4 strerror: Interrupted system call\n",
            "R_zmq_msg_send errno: 4 strerror: Interrupted system call\n",
            "R_zmq_msg_send errno: 4 strerror: Interrupted system call\n",
            " 300 / 300\n",
            "R_zmq_msg_send errno: 4 strerror: Interrupted system call\n",
            "R_zmq_msg_send errno: 4 strerror: Interrupted system call\n",
            "done\n",
            "Calculating coverage\n",
            "Calculating Summits on  chr12  ..[1] 1\n"
          ]
        },
        {
          "output_type": "stream",
          "name": "stdout",
          "text": [
            "[1] \"chr12\"\n"
          ]
        }
      ],
      "execution_count": 3,
      "metadata": {}
    },
    {
      "cell_type": "code",
      "source": [
        "## Create ChIPQC report\n",
        "ChIPQCreport(chipObj, reportName=\"ChIP QC report - chr12\", reportFolder=\"ChIPQCreportChr12\")"
      ],
      "outputs": [
        {
          "output_type": "stream",
          "name": "stderr",
          "text": [
            "Saving 7 x 7 in image\n",
            "Saving 7 x 7 in image\n",
            "Saving 7 x 7 in image\n",
            "Using Sample as id variables\n",
            "Saving 7 x 7 in image\n",
            "Saving 7 x 7 in image\n"
          ]
        }
      ],
      "execution_count": 4,
      "metadata": {}
    },
    {
      "cell_type": "code",
      "source": [],
      "outputs": [],
      "execution_count": null,
      "metadata": {}
    }
  ],
  "metadata": {
    "kernelspec": {
      "name": "ir",
      "language": "R",
      "display_name": "R"
    },
    "language_info": {
      "name": "R",
      "codemirror_mode": "r",
      "pygments_lexer": "r",
      "mimetype": "text/x-r-source",
      "file_extension": ".r",
      "version": "3.5.1"
    },
    "kernel_info": {
      "name": "ir"
    },
    "nteract": {
      "version": "0.12.3"
    }
  },
  "nbformat": 4,
  "nbformat_minor": 2
}