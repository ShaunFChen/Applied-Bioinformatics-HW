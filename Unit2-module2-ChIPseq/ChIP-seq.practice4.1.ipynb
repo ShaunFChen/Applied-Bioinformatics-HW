{
  "cells": [
    {
      "cell_type": "markdown",
      "source": [
        "### 1. Find Run numbers for ChIP-seq data from this paper:\n",
        "* B. H., Immunity, 2016"
      ],
      "metadata": {}
    },
    {
      "cell_type": "markdown",
      "source": [
        "#### 1.1 Search for GEO accession number from paper\n",
        "GSE76031"
      ],
      "metadata": {}
    },
    {
      "cell_type": "markdown",
      "source": [
        "#### 1.2 Find SubSerie for ChIP-seq data\n",
        "GSE76029"
      ],
      "metadata": {}
    },
    {
      "cell_type": "markdown",
      "source": [
        "#### 1.3 Search for ChIP-seq data accession number in SRA Run Selector\n",
        "https://www.ncbi.nlm.nih.gov/Traces/study/?acc=GSE76029&go=go"
      ],
      "metadata": {}
    },
    {
      "cell_type": "markdown",
      "source": [
        "#### 1.4 Save RunInfo Table"
      ],
      "metadata": {}
    },
    {
      "cell_type": "markdown",
      "source": [
        "### 2. For the first file in the RunInfoTable: \n",
        "#### Save the first 1000 spots into a file named test_1000.fastq"
      ],
      "metadata": {}
    },
    {
      "cell_type": "code",
      "source": [
        "%%bash\n",
        "cd /Users/sfchen/Documents/2018_Su/Applied-Bioinformatics-HW\n",
        "mkdir ChIP-seq.practice4.1\n",
        "cd ChIP-seq.practice4.1\n",
        "fastq-dump --split-files -X 50000 -Z SRR3001750 > test_50000.fastq"
      ],
      "outputs": [
        {
          "output_type": "stream",
          "name": "stderr",
          "text": [
            "Read 50000 spots for SRR3001750\n",
            "Written 50000 spots for SRR3001750\n"
          ]
        }
      ],
      "execution_count": 1,
      "metadata": {}
    },
    {
      "cell_type": "markdown",
      "source": [
        "### 3. Run fastqc for test_1000.fastq\n",
        "#### Check the quality of the sequcnce"
      ],
      "metadata": {}
    },
    {
      "cell_type": "code",
      "source": [
        "%%bash\n",
        "cd /Users/sfchen/Documents/2018_Su/Applied-Bioinformatics-HW/ChIP-seq.practice4.1\n",
        "fastqc test_50000.fastq"
      ],
      "outputs": [
        {
          "output_type": "stream",
          "name": "stdout",
          "text": [
            "Analysis complete for test_50000.fastq\n"
          ]
        },
        {
          "output_type": "stream",
          "name": "stderr",
          "text": [
            "Started analysis of test_50000.fastq\n",
            "Approx 5% complete for test_50000.fastq\n",
            "Approx 10% complete for test_50000.fastq\n",
            "Approx 15% complete for test_50000.fastq\n",
            "Approx 20% complete for test_50000.fastq\n",
            "Approx 25% complete for test_50000.fastq\n",
            "Approx 30% complete for test_50000.fastq\n",
            "Approx 35% complete for test_50000.fastq\n",
            "Approx 40% complete for test_50000.fastq\n",
            "Approx 45% complete for test_50000.fastq\n",
            "Approx 50% complete for test_50000.fastq\n",
            "Approx 55% complete for test_50000.fastq\n",
            "Approx 60% complete for test_50000.fastq\n",
            "Approx 65% complete for test_50000.fastq\n",
            "Approx 70% complete for test_50000.fastq\n",
            "Approx 75% complete for test_50000.fastq\n",
            "Approx 80% complete for test_50000.fastq\n",
            "Approx 85% complete for test_50000.fastq\n",
            "Approx 90% complete for test_50000.fastq\n",
            "Approx 95% complete for test_50000.fastq\n",
            "Approx 100% complete for test_50000.fastq\n"
          ]
        }
      ],
      "execution_count": 3,
      "metadata": {}
    },
    {
      "cell_type": "code",
      "source": [],
      "outputs": [],
      "execution_count": null,
      "metadata": {
        "collapsed": true
      }
    }
  ],
  "metadata": {
    "kernelspec": {
      "name": "python3",
      "language": "python",
      "display_name": "Python 3"
    },
    "language_info": {
      "name": "python",
      "version": "3.7.1",
      "mimetype": "text/x-python",
      "codemirror_mode": {
        "name": "ipython",
        "version": 3
      },
      "pygments_lexer": "ipython3",
      "nbconvert_exporter": "python",
      "file_extension": ".py"
    },
    "kernel_info": {
      "name": "python3"
    },
    "nteract": {
      "version": "0.12.3"
    }
  },
  "nbformat": 4,
  "nbformat_minor": 2
}