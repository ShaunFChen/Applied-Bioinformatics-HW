{
  "cells": [
    {
      "cell_type": "markdown",
      "source": [
        "### 1. Use bowtie2 to align the trimmed and non-trimmed fastq files from Practice 4.3 to Bowtie2Index_mm10chr2/genome_chr2\n",
        "* Compare the alignment rate of the two files"
      ],
      "metadata": {}
    },
    {
      "cell_type": "code",
      "source": [
        "%%bash\n",
        "cd /Users/sfchen/Documents/2018_Su/Applied-Bioinformatics-HW\n",
        "mkdir ChIP-seq.practice4.4\n",
        "cd ChIP-seq.practice4.4\n",
        "\n",
        "non_trim_file=/Users/sfchen/Documents/2018_Su/Applied-Bioinformatics-HW/ChIP-seq.practice4.3/SRR3001750.sample.fastq\n",
        "trimmed_file=/Users/sfchen/Documents/2018_Su/Applied-Bioinformatics-HW/ChIP-seq.practice4.3/SRR3001750.sample_trimmed.fq\n",
        "bowtie2_index_mm10=/Users/sfchen/Documents/2018_Su/UCSC_mm10/Bowtie2Index_mm10chr2/genome_chr2\n",
        "\n",
        "bowtie2 -x $bowtie2_index_mm10 -U $non_trim_file -S SRR3001750.sample.nontrimmed.sam &> SRR3001750.sample.nontrimmed.align.out\n",
        "bowtie2 -x $bowtie2_index_mm10 -U $trimmed_file -S SRR3001750.sample.trimmed.sam &> SRR3001750.sample.trimmed.align.out"
      ],
      "outputs": [],
      "execution_count": 1,
      "metadata": {}
    },
    {
      "cell_type": "code",
      "source": [
        "%%bash\n",
        "cd /Users/sfchen/Documents/2018_Su/Applied-Bioinformatics-HW/ChIP-seq.practice4.4\n",
        "cat SRR3001750.sample.nontrimmed.align.out\n",
        "cat SRR3001750.sample.trimmed.align.out"
      ],
      "outputs": [
        {
          "output_type": "stream",
          "name": "stdout",
          "text": [
            "100000 reads; of these:\n",
            "  100000 (100.00%) were unpaired; of these:\n",
            "    80862 (80.86%) aligned 0 times\n",
            "    6983 (6.98%) aligned exactly 1 time\n",
            "    12155 (12.15%) aligned >1 times\n",
            "19.14% overall alignment rate\n",
            "90969 reads; of these:\n",
            "  90969 (100.00%) were unpaired; of these:\n",
            "    72596 (79.80%) aligned 0 times\n",
            "    6660 (7.32%) aligned exactly 1 time\n",
            "    11713 (12.88%) aligned >1 times\n",
            "20.20% overall alignment rate\n"
          ]
        }
      ],
      "execution_count": 2,
      "metadata": {}
    },
    {
      "cell_type": "markdown",
      "source": [
        "### 2. Sort and filter the alignment output sam files"
      ],
      "metadata": {}
    },
    {
      "cell_type": "code",
      "source": [
        "%%bash\n",
        "cd /Users/sfchen/Documents/2018_Su/Applied-Bioinformatics-HW/ChIP-seq.practice4.4\n",
        "samtools view -bS SRR3001750.sample.nontrimmed.sam > SRR3001750.sample.nontrimmed.bam\n",
        "samtools sort SRR3001750.sample.nontrimmed.bam -o SRR3001750.sample.nontrimmed.srt.bam\n",
        "samtools rmdup -S SRR3001750.sample.nontrimmed.srt.bam SRR3001750.sample.nontrimmed.srt.dupr.bam\n",
        "\n",
        "samtools view -bS SRR3001750.sample.trimmed.sam > SRR3001750.sample.trimmed.bam\n",
        "samtools sort SRR3001750.sample.trimmed.bam -o SRR3001750.sample.trimmed.srt.bam\n",
        "samtools rmdup -S SRR3001750.sample.trimmed.srt.bam SRR3001750.sample.trimmed.srt.dupr.bam"
      ],
      "outputs": [
        {
          "output_type": "stream",
          "name": "stderr",
          "text": [
            "[bam_rmdupse_core] 1796 / 19138 = 0.0938 in library '\t'\n",
            "[bam_rmdupse_core] 1744 / 18373 = 0.0949 in library '\t'\n"
          ]
        }
      ],
      "execution_count": 3,
      "metadata": {}
    },
    {
      "cell_type": "code",
      "source": [],
      "outputs": [],
      "execution_count": null,
      "metadata": {}
    }
  ],
  "metadata": {
    "kernelspec": {
      "name": "python3",
      "language": "python",
      "display_name": "Python 3"
    },
    "language_info": {
      "name": "python",
      "version": "3.7.1",
      "mimetype": "text/x-python",
      "codemirror_mode": {
        "name": "ipython",
        "version": 3
      },
      "pygments_lexer": "ipython3",
      "nbconvert_exporter": "python",
      "file_extension": ".py"
    },
    "kernel_info": {
      "name": "python3"
    },
    "nteract": {
      "version": "0.12.3"
    }
  },
  "nbformat": 4,
  "nbformat_minor": 2
}