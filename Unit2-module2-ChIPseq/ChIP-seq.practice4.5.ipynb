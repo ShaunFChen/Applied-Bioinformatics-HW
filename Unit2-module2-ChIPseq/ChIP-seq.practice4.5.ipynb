{
  "cells": [
    {
      "cell_type": "markdown",
      "source": [
        "#### 2. Filter blacklisted regions from the bam file, name output SRR3001750_srt_dupr.chr2.chr11_flb.bam"
      ],
      "metadata": {}
    },
    {
      "cell_type": "code",
      "source": [
        "%%bash\n",
        "cd /Users/sfchen/Documents/2018_Su/Applied-Bioinformatics-HW/ChIP-seq.practice4.5\n",
        "bedtools intersect -abam SRR3001750_srt_dupr.chr2.chr11.bam -b mm10.blacklist.bed -v > SRR3001750_srt_dupr.chr2.chr11_flb.bam"
      ],
      "outputs": [],
      "execution_count": 1,
      "metadata": {}
    },
    {
      "cell_type": "code",
      "source": [
        "%%bash\n",
        "cd /Users/sfchen/Documents/2018_Su/Applied-Bioinformatics-HW/ChIP-seq.practice4.5\n",
        "ls -l"
      ],
      "outputs": [
        {
          "output_type": "stream",
          "name": "stdout",
          "text": [
            "total 459952\n",
            "-rw-r--r--@ 1 sfchen  staff  102250566 Nov 14 00:28 SRR3001750_srt_dupr.chr2.chr11.bam\n",
            "-rw-r--r--  1 sfchen  staff  101887581 Dec  8 11:36 SRR3001750_srt_dupr.chr2.chr11_flb.bam\n",
            "-rw-r--r--  1 sfchen  staff       3767 Nov 14 00:35 mm10.blacklist.bed\n",
            "-rw-r--r--@ 1 sfchen  staff       1405 Feb  7  2012 mm10.chrom.sizes\n",
            "-rw-r--r--  1 sfchen  staff      88634 Nov 14 00:39 predictd\n"
          ]
        }
      ],
      "execution_count": 2,
      "metadata": {}
    },
    {
      "cell_type": "markdown",
      "source": [
        "#### 3. Filter out chr11 reads from SRR3001750_srt_dupr.chr2.chr11_flb.bam, name SRR3001750_srt_dupr.chr2.chr11_flb_flt.bam"
      ],
      "metadata": {}
    },
    {
      "cell_type": "code",
      "source": [
        "%%bash\n",
        "cd /Users/sfchen/Documents/2018_Su/Applied-Bioinformatics-HW/ChIP-seq.practice4.5\n",
        "samtools view -h SRR3001750_srt_dupr.chr2.chr11_flb.bam | awk '{if ($3!=\"chr11\") {print $0}}' > SRR3001750_srt_dupr.chr2.chr11_flb_flt.sam\n",
        "samtools view -bS SRR3001750_srt_dupr.chr2.chr11_flb_flt.sam > SRR3001750_srt_dupr.chr2.chr11_flb_flt.bam\n",
        "rm SRR3001750_srt_dupr.chr2.chr11_flb_flt.sam\n",
        "ls -l\n",
        "samtools view SRR3001750_srt_dupr.chr2.chr11_flb_flt.bam | head\n"
      ],
      "outputs": [
        {
          "output_type": "stream",
          "name": "stdout",
          "text": [
            "total 568256\n",
            "-rw-r--r--@ 1 sfchen  staff  102250566 Nov 14 00:28 SRR3001750_srt_dupr.chr2.chr11.bam\n",
            "-rw-r--r--  1 sfchen  staff  101887581 Dec  8 11:36 SRR3001750_srt_dupr.chr2.chr11_flb.bam\n",
            "-rw-r--r--  1 sfchen  staff   54757092 Dec  8 11:40 SRR3001750_srt_dupr.chr2.chr11_flb_flt.bam\n",
            "-rw-r--r--  1 sfchen  staff       3767 Nov 14 00:35 mm10.blacklist.bed\n",
            "-rw-r--r--@ 1 sfchen  staff       1405 Feb  7  2012 mm10.chrom.sizes\n",
            "-rw-r--r--  1 sfchen  staff      88634 Nov 14 00:39 predictd\n",
            "SRR3001750.10646571\t16\tchr2\t3050671\t0\t28M1D22M\t*\t0\t0\tTAATGCCAGCACTCTGGAGGCAGTGGTAATGCAGAAGCAAGCAGGTTTCT\tJJJJJJJJIIHFHHJJJJJJJJJJIJJJJJJJJJJJJHHHHHFFFFFCCC\tAS:i:-19\tXS:i:-25\tXN:i:0\tXM:i:2\tXO:i:1\tXG:i:1\tNM:i:3\tMD:Z:28^G1G9G10\tYT:Z:UU\n",
            "SRR3001750.9755936\t0\tchr2\t3050860\t1\t50M\t*\t0\t0\tATAAAGAAAGAAAGAAACAAAGAAACAAAGAAACAAAGAAACAAAGAAAC\t+1?DBDEFHHHHHJJIJJIIJJJJJJJJJJJIGGGIIJIJIJIIJJJJII\tAS:i:-3\tXS:i:-3\tXN:i:0\tXM:i:1\tXO:i:0\tXG:i:0\tNM:i:1\tMD:Z:1G48\tYT:Z:UU\n",
            "SRR3001750.1340458\t16\tchr2\t3051201\t42\t50M\t*\t0\t0\tGAGTTCGAGGCTTTTTCCCTAAAAAGTACTAGGGCTGAACCTGCGTGGTT\tEGCGGIIIIIIIIIIIGCIIIIEIIHCGIIIIIIHIIHHHGHFFDDD=8<\tAS:i:0\tXN:i:0\tXM:i:0\tXO:i:0\tXG:i:0\tNM:i:0\tMD:Z:50\tYT:Z:UU\n",
            "SRR3001750.403476\t0\tchr2\t3052163\t1\t50M\t*\t0\t0\tGGAGTGAGACAGTGGAGTTGTGGCAGTTCTGTTTGAGGTGGTCTGGGAAC\t@@CFDFFFHGHHHGGIJIGIIJEHHIIIJICEGH??BA9D=@*??DH?BB\tAS:i:0\tXS:i:0\tXN:i:0\tXM:i:0\tXO:i:0\tXG:i:0\tNM:i:0\tMD:Z:50\tYT:Z:UU\n",
            "SRR3001750.3521352\t16\tchr2\t3052252\t30\t50M\t*\t0\t0\tGGAATTGAATCCCTGTCTTCTGAAAGGGTGGCTAGTATTCTTCACACCTG\tJJGIJIIHGEGIGIIHGGGCIJIIJJIGIIIJIJJJJHHHHHFDDDF@C@\tAS:i:0\tXS:i:-6\tXN:i:0\tXM:i:0\tXO:i:0\tXG:i:0\tNM:i:0\tMD:Z:50\tYT:Z:UU\n",
            "SRR3001750.8327062\t0\tchr2\t3052785\t42\t50M\t*\t0\t0\tCCGGCATGCTGGTGAAATTCAAAATGGGCAGCACAGCGAAGGGCAGCAGT\t=1:BDFFDHFBF<?FHIIJIJJJJIGCFGHJJIJJJJIJGH@GGIBHIGC\tAS:i:-3\tXN:i:0\tXM:i:1\tXO:i:0\tXG:i:0\tNM:i:1\tMD:Z:1T48\tYT:Z:UU\n",
            "SRR3001750.8465746\t16\tchr2\t3052787\t42\t48M\t*\t0\t0\tGGCATGCTGGTGAAATTCAAAATGGGCAGCACAGCGAAGGGCAGCAGT\tIJJJJJIIJJGHJJIHIIJJIHIJJJJIJIJIJIGFHHHHFFFFFC@@\tAS:i:0\tXN:i:0\tXM:i:0\tXO:i:0\tXG:i:0\tNM:i:0\tMD:Z:48\tYT:Z:UU\n",
            "SRR3001750.7074175\t0\tchr2\t3052793\t42\t50M\t*\t0\t0\tCTGGTGAAATTCAAAATGGGCAGCACAGCGAAGGGCAGCAGTAGACTCTG\t@@@FDE4BFHDFFBEGHICGGGEEIJGHG1CFHGBGIIHGIHGDCHHEIC\tAS:i:0\tXN:i:0\tXM:i:0\tXO:i:0\tXG:i:0\tNM:i:0\tMD:Z:50\tYT:Z:UU\n",
            "SRR3001750.8023218\t16\tchr2\t3052897\t30\t50M\t*\t0\t0\tTACACCTAGATTGTAGACATGTCCCACAACACCTAGAGTATAGACATTTC\tFBF@IHGEGF?GFFFACGHGAE6;BEDGFFCGGGEIGFGHFFDB?BF@@@\tAS:i:0\tXS:i:-5\tXN:i:0\tXM:i:0\tXO:i:0\tXG:i:0\tNM:i:0\tMD:Z:50\tYT:Z:UU\n",
            "SRR3001750.12426695\t16\tchr2\t3052952\t42\t47M\t*\t0\t0\tGCATGAAGTCTATAGACCTGTCCCACTACACGAAGTCTATAGACATG\tF<HHAGIJIGGIIHFDDDJIGGHGHEGJIGJIJIFFFHBDADDB=+?\tAS:i:0\tXN:i:0\tXM:i:0\tXO:i:0\tXG:i:0\tNM:i:0\tMD:Z:47\tYT:Z:UU\n"
          ]
        }
      ],
      "execution_count": 4,
      "metadata": {}
    },
    {
      "cell_type": "code",
      "source": [],
      "outputs": [],
      "execution_count": null,
      "metadata": {}
    }
  ],
  "metadata": {
    "kernelspec": {
      "name": "python3",
      "language": "python",
      "display_name": "Python 3"
    },
    "language_info": {
      "name": "python",
      "version": "3.7.1",
      "mimetype": "text/x-python",
      "codemirror_mode": {
        "name": "ipython",
        "version": 3
      },
      "pygments_lexer": "ipython3",
      "nbconvert_exporter": "python",
      "file_extension": ".py"
    },
    "kernel_info": {
      "name": "python3"
    },
    "nteract": {
      "version": "0.12.3"
    }
  },
  "nbformat": 4,
  "nbformat_minor": 2
}