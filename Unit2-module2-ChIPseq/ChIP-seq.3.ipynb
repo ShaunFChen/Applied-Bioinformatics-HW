{
  "cells": [
    {
      "cell_type": "markdown",
      "source": [
        "# ChIP-seq intro 3\n",
        "Huitian Diao\n",
        "* __References__: \n",
        "* [ENCODE ChIP-seq pipeline](https://www.encodeproject.org/pipelines/ENCPL138KID/)"
      ],
      "metadata": {}
    },
    {
      "cell_type": "markdown",
      "source": [
        "## 1. Filter blacklisted regions\n",
        "### 1.1 Download blacklisted regions\n",
        "* [Chip-blacklisted regions](https://sites.google.com/site/anshulkundaje/projects/blacklists)"
      ],
      "metadata": {}
    },
    {
      "cell_type": "markdown",
      "source": [
        "### 1.2 Download aligned files\n",
        "* [SRR3001750_srt_dupr.chr10.bam](https://drive.google.com/open?id=17ASjdXGqagqblAzk2V3WBBDbcuEYyXDY)"
      ],
      "metadata": {}
    },
    {
      "cell_type": "markdown",
      "source": [
        "* Move download bam file and blacklist bed file into the new folder"
      ],
      "metadata": {}
    },
    {
      "cell_type": "markdown",
      "source": [
        "### 1.3 Use bedtools to remove blacklisted regions (Optional)\n",
        "* [Bioconda: bedtools](https://bioconda.github.io/recipes/bedtools/README.html)\n",
        "* [bedtools - intersect](https://bedtools.readthedocs.io/en/latest/content/tools/intersect.html)"
      ],
      "metadata": {}
    },
    {
      "cell_type": "code",
      "source": [
        "%%bash\n",
        "cd /Users/sfchen/Documents/2018_Su/ChIP-seq_3\n",
        "bedtools intersect -abam SRR3001750_srt_dupr.chr10.bam -b mm10.blacklist.bed -v > SRR3001750_srt_dupr.chr10_flb.bam"
      ],
      "outputs": [],
      "execution_count": 3,
      "metadata": {}
    },
    {
      "cell_type": "code",
      "source": [
        "%%bash\n",
        "cd /Users/sfchen/Documents/2018_Su/ChIP-seq_3\n",
        "ls -alh SRR3001750_srt_dupr*"
      ],
      "outputs": [
        {
          "output_type": "stream",
          "name": "stdout",
          "text": [
            "-rw-r--r--@ 1 sfchen  staff    36M Nov 13 08:28 SRR3001750_srt_dupr.chr10.bam\n",
            "-rw-r--r--  1 sfchen  staff    36M Nov 13 08:36 SRR3001750_srt_dupr.chr10_flb.bam\n",
            "-rw-r--r--@ 1 sfchen  staff    32M Nov 13 08:28 SRR3001750_srt_dupr.chr12.bam\n",
            "-rw-r--r--@ 1 sfchen  staff    98M Nov 13 08:28 SRR3001750_srt_dupr.chr2.chr11.bam\n"
          ]
        }
      ],
      "execution_count": 7,
      "metadata": {}
    },
    {
      "cell_type": "markdown",
      "source": [
        "### 1.4 Use awk to filter chrM (Optional)"
      ],
      "metadata": {}
    },
    {
      "cell_type": "code",
      "source": [
        "%%bash\n",
        "cd /Users/sfchen/Documents/2018_Su/ChIP-seq_3\n",
        "samtools view -h SRR3001750_srt_dupr.chr10_flb.bam | awk '{if ($3!=\"chrM\") {print $0}}' > SRR3001750_srt_dupr.chr10_flb_flt.sam\n",
        "samtools view -bS SRR3001750_srt_dupr.chr10_flb_flt.sam > SRR3001750_srt_dupr.chr10_flb_flt.bam\n",
        "rm SRR3001750_srt_dupr.chr10_flb_flt.sam"
      ],
      "outputs": [],
      "execution_count": 8,
      "metadata": {}
    },
    {
      "cell_type": "markdown",
      "source": [
        "## 2. Peak calling with MACS2\n",
        "### 2.1 Peak calling"
      ],
      "metadata": {}
    },
    {
      "cell_type": "markdown",
      "source": [
        "* [__MACS2 parameters__](https://github.com/taoliu/MACS)\n",
        "* -t: Treatment filename\n",
        "* -f: Format\n",
        "* -g: Genome size\n",
        "* -n: Name string of experiment\n",
        "* -p: P-value cutoff\n",
        "* --broad: Broad regions\n",
        "* --nomodel: Bypass shifting model\n",
        "* --bdg: Store the fragment pileup, control lambda, -log10pvalue and -log10qvalue scores in bedGraph files\n",
        "* --shift: move 5' end towards 5' -> 3'\n",
        "* --extsize: extend reads from 5' -> 3'\n",
        "* --keep-dup: keep duplicate tags at exact same location"
      ],
      "metadata": {}
    },
    {
      "cell_type": "markdown",
      "source": [
        "#### 2.1.1 Use MACS2 to estimate extension size"
      ],
      "metadata": {}
    },
    {
      "cell_type": "code",
      "source": [
        "%%bash\n",
        "cd /Users/sfchen/Documents/2018_Su/ChIP-seq_3 \n",
        "macs2 predictd -i SRR3001750_srt_dupr.chr10_flb_flt.bam &> SRR3001750_srt_dupr.chr10_flb_flt.predictd"
      ],
      "outputs": [],
      "execution_count": 9,
      "metadata": {}
    },
    {
      "cell_type": "markdown",
      "source": [
        "#### 2.1.2 Peak calling for histone modification ChIP-seq\n",
        "* [Guidline from MACS Github page](https://github.com/taoliu/MACS/wiki/Call-differential-binding-events)"
      ],
      "metadata": {}
    },
    {
      "cell_type": "code",
      "source": [
        "%%bash\n",
        "cd /Users/sfchen/Documents/2018_Su/ChIP-seq_3\n",
        "macs2 callpeak -t SRR3001750_srt_dupr.chr10_flb_flt.bam -f BAM -n SRR3001750_srt_dupr.chr10 -g mm -p 1e-2 --broad --nomodel --bdg --shift 0 --extsize 147 --keep-dup all "
      ],
      "outputs": [
        {
          "output_type": "stream",
          "name": "stderr",
          "text": [
            "INFO  @ Tue, 13 Nov 2018 08:40:06: \n",
            "# Command line: callpeak -t SRR3001750_srt_dupr.chr10_flb_flt.bam -f BAM -n SRR3001750_srt_dupr.chr10 -g mm -p 1e-2 --broad --nomodel --bdg --shift 0 --extsize 147 --keep-dup all\n",
            "# ARGUMENTS LIST:\n",
            "# name = SRR3001750_srt_dupr.chr10\n",
            "# format = BAM\n",
            "# ChIP-seq file = ['SRR3001750_srt_dupr.chr10_flb_flt.bam']\n",
            "# control file = None\n",
            "# effective genome size = 1.87e+09\n",
            "# band width = 300\n",
            "# model fold = [5, 50]\n",
            "# pvalue cutoff for narrow/strong regions = 1.00e-02\n",
            "# pvalue cutoff for broad/weak regions = 1.00e-01\n",
            "# qvalue will not be calculated and reported as -1 in the final output.\n",
            "# The maximum gap between significant sites is assigned as the read length/tag size.\n",
            "# The minimum length of peaks is assigned as the predicted fragment length \"d\".\n",
            "# Larger dataset will be scaled towards smaller dataset.\n",
            "# Range for calculating regional lambda is: 10000 bps\n",
            "# Broad region calling is on\n",
            "# Paired-End mode is off\n",
            " \n",
            "INFO  @ Tue, 13 Nov 2018 08:40:06: #1 read tag files... \n",
            "INFO  @ Tue, 13 Nov 2018 08:40:06: #1 read treatment tags... \n",
            "INFO  @ Tue, 13 Nov 2018 08:40:08: #1 tag size is determined as 49 bps \n",
            "INFO  @ Tue, 13 Nov 2018 08:40:08: #1 tag size = 49.0 \n",
            "INFO  @ Tue, 13 Nov 2018 08:40:08: #1  total tags in treatment: 607205 \n",
            "INFO  @ Tue, 13 Nov 2018 08:40:08: #1 finished! \n",
            "INFO  @ Tue, 13 Nov 2018 08:40:08: #2 Build Peak Model... \n",
            "INFO  @ Tue, 13 Nov 2018 08:40:08: #2 Skipped... \n",
            "INFO  @ Tue, 13 Nov 2018 08:40:08: #2 Use 147 as fragment length \n",
            "INFO  @ Tue, 13 Nov 2018 08:40:08: #3 Call peaks... \n",
            "INFO  @ Tue, 13 Nov 2018 08:40:08: #3 Call broad peaks with given level1 -log10pvalue cutoff and level2: 2.00000, 1.00000... \n",
            "INFO  @ Tue, 13 Nov 2018 08:40:08: #3 Pre-compute pvalue-qvalue table... \n",
            "INFO  @ Tue, 13 Nov 2018 08:40:09: #3 In the peak calling step, the following will be performed simultaneously: \n",
            "INFO  @ Tue, 13 Nov 2018 08:40:09: #3   Write bedGraph files for treatment pileup (after scaling if necessary)... SRR3001750_srt_dupr.chr10_treat_pileup.bdg \n",
            "INFO  @ Tue, 13 Nov 2018 08:40:09: #3   Write bedGraph files for control lambda (after scaling if necessary)... SRR3001750_srt_dupr.chr10_control_lambda.bdg \n",
            "INFO  @ Tue, 13 Nov 2018 08:40:09: #3 Call peaks for each chromosome... \n",
            "INFO  @ Tue, 13 Nov 2018 08:40:18: #4 Write output xls file... SRR3001750_srt_dupr.chr10_peaks.xls \n",
            "INFO  @ Tue, 13 Nov 2018 08:40:19: #4 Write broad peak in broadPeak format file... SRR3001750_srt_dupr.chr10_peaks.broadPeak \n",
            "INFO  @ Tue, 13 Nov 2018 08:40:19: #4 Write broad peak in bed12/gappedPeak format file... SRR3001750_srt_dupr.chr10_peaks.gappedPeak \n",
            "INFO  @ Tue, 13 Nov 2018 08:40:19: Done! \n"
          ]
        }
      ],
      "execution_count": 10,
      "metadata": {}
    },
    {
      "cell_type": "markdown",
      "source": [
        "### 2.2 Check output files\n",
        "* NAME_peaks.broadPeak: BED6+4 format file which contains the peak locations together with peak summit, pvalue and qvalue.\n",
        "* NAME_peaks.gappedPeak: BED12+3 format which contains both the broad region and narrow peaks. \n",
        "* NAME_treat_pileup.bdg: Fragment pileup, control lambda, -log10pvalue and -log10qvalue scores\n",
        "* NAME_control_lambda.bdg: Local lambda values from control\n",
        "* NAME_peaks.xls: A tabular file which contains information about called peaks. "
      ],
      "metadata": {}
    },
    {
      "cell_type": "code",
      "source": [
        "%%bash\n",
        "cd /Users/sfchen/Documents/2018_Su/ChIP-seq_3\n",
        "wc -l *"
      ],
      "outputs": [
        {
          "output_type": "stream",
          "name": "stdout",
          "text": [
            "  161849 SRR3001750_srt_dupr.chr10.bam\n",
            " 1201248 SRR3001750_srt_dupr.chr10_control_lambda.bdg\n",
            "  162223 SRR3001750_srt_dupr.chr10_flb.bam\n",
            "  149477 SRR3001750_srt_dupr.chr10_flb_flt.bam\n",
            "      17 SRR3001750_srt_dupr.chr10_flb_flt.predictd\n",
            "   95496 SRR3001750_srt_dupr.chr10_peaks.broadPeak\n",
            "   95496 SRR3001750_srt_dupr.chr10_peaks.gappedPeak\n",
            "   95520 SRR3001750_srt_dupr.chr10_peaks.xls\n",
            " 1195664 SRR3001750_srt_dupr.chr10_treat_pileup.bdg\n",
            "  148051 SRR3001750_srt_dupr.chr12.bam\n",
            "  440113 SRR3001750_srt_dupr.chr2.chr11.bam\n",
            "  329402 SRR3001751_srt_dupr.chr10.bam\n",
            "  296321 SRR3001751_srt_dupr.chr12.bam\n",
            "     164 mm10.blacklist.bed\n",
            "      17 predictd\n",
            " 4371058 total\n"
          ]
        }
      ],
      "execution_count": 11,
      "metadata": {}
    },
    {
      "cell_type": "code",
      "source": [
        "%%bash\n",
        "cd /Users/sfchen/Documents/2018_Su/ChIP-seq_3\n",
        "head SRR3001750_srt_dupr.chr10_peaks.broadPeak"
      ],
      "outputs": [
        {
          "output_type": "stream",
          "name": "stdout",
          "text": [
            "chr10\t3099953\t3100100\tSRR3001750_srt_dupr.chr10_peak_1\t5\t.\t1.57646\t1.51967\t0.50929\n",
            "chr10\t3100698\t3101016\tSRR3001750_srt_dupr.chr10_peak_2\t6\t.\t1.92416\t1.94794\t0.66660\n",
            "chr10\t3101562\t3102167\tSRR3001750_srt_dupr.chr10_peak_3\t7\t.\t2.07886\t2.16806\t0.76456\n",
            "chr10\t3102603\t3102750\tSRR3001750_srt_dupr.chr10_peak_4\t4\t.\t1.45300\t1.25693\t0.46500\n",
            "chr10\t3103031\t3103734\tSRR3001750_srt_dupr.chr10_peak_5\t5\t.\t1.60470\t1.42813\t0.52361\n",
            "chr10\t3109444\t3110068\tSRR3001750_srt_dupr.chr10_peak_6\t34\t.\t2.17264\t6.60279\t3.42375\n",
            "chr10\t3110304\t3110452\tSRR3001750_srt_dupr.chr10_peak_7\t13\t.\t1.71785\t3.46310\t1.36576\n",
            "chr10\t3111278\t3114010\tSRR3001750_srt_dupr.chr10_peak_8\t21\t.\t1.76784\t4.59360\t2.13602\n",
            "chr10\t3114302\t3115301\tSRR3001750_srt_dupr.chr10_peak_9\t13\t.\t1.63792\t3.42048\t1.37027\n",
            "chr10\t3116068\t3117178\tSRR3001750_srt_dupr.chr10_peak_10\t44\t.\t2.28970\t8.14642\t4.40802\n"
          ]
        }
      ],
      "execution_count": 12,
      "metadata": {}
    },
    {
      "cell_type": "markdown",
      "source": [
        "chr10\t3099953\t3100100\tSRR3001750_srt_dupr.chr10_peak_1\t5\t.\t1.57646\t1.51967\t0.50929\n",
        "chr10\t3100698\t3103734\tSRR3001750_srt_dupr.chr10_peak_2\t6\t.\t1.82648\t1.78537\t0.63420\n",
        "chr10\t3109444\t3110452\tSRR3001750_srt_dupr.chr10_peak_3\t29\t.\t2.07850\t5.95290\t2.99776\n",
        "chr10\t3111278\t3115301\tSRR3001750_srt_dupr.chr10_peak_4\t20\t.\t1.74597\t4.39613\t2.00712\n",
        "chr10\t3116068\t3117178\tSRR3001750_srt_dupr.chr10_peak_5\t44\t.\t2.28970\t8.14641\t4.40801\n",
        "chr10\t3124590\t3125334\tSRR3001750_srt_dupr.chr10_peak_6\t5\t.\t1.66666\t1.45416\t0.52554\n",
        "chr10\t3126076\t3128929\tSRR3001750_srt_dupr.chr10_peak_7\t5\t.\t1.64651\t1.47578\t0.53620\n",
        "chr10\t3129691\t3130649\tSRR3001750_srt_dupr.chr10_peak_8\t4\t.\t1.39770\t1.12225\t0.42857\n",
        "chr10\t3131826\t3131973\tSRR3001750_srt_dupr.chr10_peak_9\t4\t.\t1.34671\t1.06692\t0.42004\n",
        "chr10\t3132717\t3132997\tSRR3001750_srt_dupr.chr10_peak_10\t4\t.\t1.38884\t1.12172\t0.43652"
      ],
      "metadata": {}
    },
    {
      "cell_type": "code",
      "source": [
        "%%bash\n",
        "cd /Users/sfchen/Documents/2018_Su/ChIP-seq_3\n",
        "head SRR3001750_srt_dupr.chr10_peaks.gappedPeak"
      ],
      "outputs": [
        {
          "output_type": "stream",
          "name": "stdout",
          "text": [
            "chr10\t3099953\t3100100\tSRR3001750_srt_dupr.chr10_peak_1\t5\t.\t3099953\t3100100\t0\t2\t1,1\t0,146\t1.57646\t1.51967\t0.50929\n",
            "chr10\t3100698\t3101016\tSRR3001750_srt_dupr.chr10_peak_2\t6\t.\t3100698\t3101016\t0\t2\t1,1\t0,317\t1.92416\t1.94794\t0.66660\n",
            "chr10\t3101562\t3102167\tSRR3001750_srt_dupr.chr10_peak_3\t7\t.\t3101562\t3102167\t0\t3\t1,273,1\t0,74,604\t2.07886\t2.16806\t0.76456\n",
            "chr10\t3102603\t3102750\tSRR3001750_srt_dupr.chr10_peak_4\t4\t.\t3102603\t3102750\t0\t2\t1,1\t0,146\t1.45300\t1.25693\t0.46500\n",
            "chr10\t3103031\t3103734\tSRR3001750_srt_dupr.chr10_peak_5\t5\t.\t3103031\t3103734\t0\t2\t1,1\t0,702\t1.60470\t1.42813\t0.52361\n",
            "chr10\t3109444\t3110068\tSRR3001750_srt_dupr.chr10_peak_6\t34\t.\t3109444\t3110068\t0\t4\t1,344,155,1\t0,13,457,623\t2.17264\t6.60279\t3.42375\n",
            "chr10\t3110304\t3110452\tSRR3001750_srt_dupr.chr10_peak_7\t13\t.\t3110304\t3110452\t0\t2\t1,1\t0,147\t1.71785\t3.46310\t1.36576\n",
            "chr10\t3111278\t3114010\tSRR3001750_srt_dupr.chr10_peak_8\t21\t.\t3111278\t3114010\t0\t5\t1,1696,183,509,1\t0,13,1837,2213,2731\t1.76784\t4.59360\t2.13602\n",
            "chr10\t3114302\t3115301\tSRR3001750_srt_dupr.chr10_peak_9\t13\t.\t3114302\t3115301\t0\t4\t1,147,180,1\t0,226,569,998\t1.63792\t3.42048\t1.37027\n",
            "chr10\t3116068\t3117178\tSRR3001750_srt_dupr.chr10_peak_10\t44\t.\t3116068\t3117178\t0\t3\t1,1008,1\t0,92,1109\t2.28970\t8.14642\t4.40802\n"
          ]
        }
      ],
      "execution_count": 13,
      "metadata": {}
    },
    {
      "cell_type": "code",
      "source": [
        "%%bash\n",
        "cd /Users/sfchen/Documents/2018_Su/ChIP-seq_3\n",
        "head SRR3001750_srt_dupr.chr10_treat_pileup.bdg"
      ],
      "outputs": [
        {
          "output_type": "stream",
          "name": "stdout",
          "text": [
            "chr10\t0\t3099953\t0.00000\n",
            "chr10\t3099953\t3100100\t1.00000\n",
            "chr10\t3100100\t3100698\t0.00000\n",
            "chr10\t3100698\t3100845\t1.00000\n",
            "chr10\t3100845\t3100867\t0.00000\n",
            "chr10\t3100867\t3100869\t1.00000\n",
            "chr10\t3100869\t3101014\t2.00000\n",
            "chr10\t3101014\t3101016\t1.00000\n",
            "chr10\t3101016\t3101562\t0.00000\n",
            "chr10\t3101562\t3101636\t1.00000\n"
          ]
        }
      ],
      "execution_count": 14,
      "metadata": {}
    },
    {
      "cell_type": "markdown",
      "source": [
        "#### Convert bedgraph to bw\n",
        "* [bedGraphToBigWig usage](https://genome.ucsc.edu/goldenpath/help/bigWig.html)\n",
        "* [mm10.chrom.sizes](http://hgdownload.cse.ucsc.edu/goldenPath/mm10/bigZips/mm10.chrom.sizes)"
      ],
      "metadata": {}
    },
    {
      "cell_type": "code",
      "source": [
        "%%bash\n",
        "cd /Users/sfchen/Documents/2018_Su/ChIP-seq_3\n",
        "bedGraphToBigWig SRR3001750_srt_dupr.chr10_treat_pileup.bdg mm10.chrom.sizes SRR3001750_srt_dupr.chr10_treat_pileup.bw "
      ],
      "outputs": [],
      "execution_count": 16,
      "metadata": {}
    },
    {
      "cell_type": "code",
      "source": [
        "%%bash\n",
        "cd /Users/sfchen/Documents/2018_Su/ChIP-seq_3\n",
        "ls -lh"
      ],
      "outputs": [
        {
          "output_type": "stream",
          "name": "stdout",
          "text": [
            "total 1071144\n",
            "-rw-r--r--@ 1 sfchen  staff    36M Nov 13 08:28 SRR3001750_srt_dupr.chr10.bam\n",
            "-rw-r--r--  1 sfchen  staff    37M Nov 13 08:40 SRR3001750_srt_dupr.chr10_control_lambda.bdg\n",
            "-rw-r--r--  1 sfchen  staff    36M Nov 13 08:36 SRR3001750_srt_dupr.chr10_flb.bam\n",
            "-rw-r--r--  1 sfchen  staff    36M Nov 13 08:39 SRR3001750_srt_dupr.chr10_flb_flt.bam\n",
            "-rw-r--r--  1 sfchen  staff   1.1K Nov 13 08:39 SRR3001750_srt_dupr.chr10_flb_flt.predictd\n",
            "-rw-r--r--  1 sfchen  staff   8.1M Nov 13 08:40 SRR3001750_srt_dupr.chr10_peaks.broadPeak\n",
            "-rw-r--r--  1 sfchen  staff    11M Nov 13 08:40 SRR3001750_srt_dupr.chr10_peaks.gappedPeak\n",
            "-rw-r--r--  1 sfchen  staff   8.6M Nov 13 08:40 SRR3001750_srt_dupr.chr10_peaks.xls\n",
            "-rw-r--r--  1 sfchen  staff    37M Nov 13 08:40 SRR3001750_srt_dupr.chr10_treat_pileup.bdg\n",
            "-rw-r--r--  1 sfchen  staff   5.4M Nov 13 08:45 SRR3001750_srt_dupr.chr10_treat_pileup.bw\n",
            "-rw-r--r--@ 1 sfchen  staff    32M Nov 13 08:28 SRR3001750_srt_dupr.chr12.bam\n",
            "-rw-r--r--@ 1 sfchen  staff    98M Nov 13 08:28 SRR3001750_srt_dupr.chr2.chr11.bam\n",
            "-rw-r--r--@ 1 sfchen  staff    79M Nov 13 08:28 SRR3001751_srt_dupr.chr10.bam\n",
            "-rw-r--r--@ 1 sfchen  staff    71M Nov 13 08:28 SRR3001751_srt_dupr.chr12.bam\n",
            "-rw-r--r--  1 sfchen  staff   3.7K Nov 13 08:35 mm10.blacklist.bed\n",
            "-rw-r--r--@ 1 sfchen  staff   1.4K Feb  6  2012 mm10.chrom.sizes\n",
            "-rw-r--r--  1 sfchen  staff    87K Nov 13 08:39 predictd\n"
          ]
        }
      ],
      "execution_count": 18,
      "metadata": {}
    },
    {
      "cell_type": "code",
      "source": [],
      "outputs": [],
      "execution_count": null,
      "metadata": {}
    }
  ],
  "metadata": {
    "kernelspec": {
      "name": "python3",
      "language": "python",
      "display_name": "Python 3"
    },
    "language_info": {
      "name": "python",
      "version": "3.7.0",
      "mimetype": "text/x-python",
      "codemirror_mode": {
        "name": "ipython",
        "version": 3
      },
      "pygments_lexer": "ipython3",
      "nbconvert_exporter": "python",
      "file_extension": ".py"
    },
    "kernel_info": {
      "name": "python3"
    },
    "nteract": {
      "version": "0.12.3"
    }
  },
  "nbformat": 4,
  "nbformat_minor": 2
}