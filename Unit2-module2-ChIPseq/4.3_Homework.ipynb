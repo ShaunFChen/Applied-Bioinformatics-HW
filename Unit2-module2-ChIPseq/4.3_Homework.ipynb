{
  "cells": [
    {
      "cell_type": "markdown",
      "source": [
        "# Homework 4.1"
      ],
      "metadata": {
        "collapsed": false,
        "outputHidden": false,
        "inputHidden": false
      }
    },
    {
      "cell_type": "markdown",
      "source": [
        "### 1. Run ChIPQC for:\n",
        "https://drive.google.com/open?id=1dKLt_m_vnHjNVo-1qoACu9GZZC9OBa9v  \n",
        "(Links to an external site.)\n",
        "\n",
        "__EFF_H3K4Me1_1_srt_dupr_chr11.bam__  \n",
        "__EFF_H3K4Me1_2_srt_dupr_chr11.bam__  \n",
        "__EFF_Input_srt_dupr_chr11.bam (Control)__  \n",
        "- Sort and index bam file  \n",
        "- Run MACS2\n",
        "\n__NOTE:__ MACS2 -c/--control The control or mock data file."
      ],
      "metadata": {}
    },
    {
      "cell_type": "code",
      "source": [
        "%%bash\n",
        "cd /Users/sfchen/Documents/2018_Su/aligned_bam_homework_1\n",
        "\n",
        "printf \"EFF_H3K4Me1_1_srt_dupr_chr11\\nEFF_H3K4Me1_2_srt_dupr_chr11\\n\" > EFF.txt\n",
        "\n",
        "while read FILE; do\n",
        "\n",
        "    # Sort the bam file\n",
        "    samtools sort -o ${FILE}.srt.bam ${FILE}.bam\n",
        "\n",
        "    # Index the bam file\n",
        "    samtools index ${FILE}.srt.bam\n",
        "\n",
        "    # MACS2 peak calling\n",
        "    macs2 callpeak \\\n",
        "        -t ${FILE}.srt.bam \\\n",
        "        -c EFF_Input_srt_dupr_chr11.bam \\\n",
        "        -f BAM -n ${FILE}.srt \\\n",
        "        -g mm \\\n",
        "        -p 1e-2 \\\n",
        "        --broad \\\n",
        "        --nomodel \\\n",
        "        --bdg \\\n",
        "        --shift 0 \\\n",
        "        --extsize 147 \\\n",
        "        --keep-dup all &> ${FILE}.srt.MACS2.out\n",
        "\ndone < EFF.txt"
      ],
      "outputs": [],
      "execution_count": 5,
      "metadata": {
        "collapsed": false,
        "outputHidden": false,
        "inputHidden": false
      }
    },
    {
      "cell_type": "markdown",
      "source": [
        "### # Check \"4.3_Homework_R.ipynb\"\n",
        "- Create sample sheet  \n",
        "- ChIPQC "
      ],
      "metadata": {}
    },
    {
      "cell_type": "markdown",
      "source": [
        "### 2. Use Homer to search for TF motifs in broadPeak file (from Q1, EFF_H3K4Me1_1_srt_dupr_chr11.bam)\n",
        "genome reference: genome_chr11.fa\n"
      ],
      "metadata": {}
    },
    {
      "cell_type": "code",
      "source": [
        "%%bash\n",
        "cd /Users/sfchen/Documents/2018_Su/aligned_bam_homework\n",
        "bed_name=EFF_H3K4Me1_1_srt_dupr_chr11.srt_peaks.broadPeak\n",
        "chr11_genome=/Users/sfchen/Documents/2018_Su/UCSC_mm10/genome_chr11.fa\n",
        "out_name=EFF_H3K4Me1_1_srt_dupr_chr11_HomerMF\n",
        "err_name=EFF_H3K4Me1_1_srt_dupr_chr11_HomerMF.out\n",
        "findMotifsGenome.pl $bed_name $chr11_genome $out_name &> $err_name"
      ],
      "outputs": [],
      "execution_count": null,
      "metadata": {
        "collapsed": false,
        "outputHidden": false,
        "inputHidden": false
      }
    },
    {
      "cell_type": "markdown",
      "source": [
        "### - What are the top 5 knownResults?"
      ],
      "metadata": {}
    },
    {
      "cell_type": "code",
      "source": [
        "%%bash\n",
        "cd /Users/sfchen/Documents/2018_Su/aligned_bam_homework/EFF_H3K4Me1_1_srt_dupr_chr11_HomerMF\n",
        "head -6 knownResults.txt | cut -f 1"
      ],
      "outputs": [
        {
          "output_type": "stream",
          "name": "stdout",
          "text": [
            "Motif Name\n",
            "AT1G76870(Trihelix)/col-AT1G76870-DAP-Seq(GSE60143)/Homer\n",
            "MYB4(MYB)/col200-MYB4-DAP-Seq(GSE60143)/Homer\n",
            "CEBP:AP1(bZIP)/ThioMac-CEBPb-ChIP-Seq(GSE21512)/Homer\n",
            "Eomes(T-box)/H9-Eomes-ChIP-Seq(GSE26097)/Homer\n",
            "ETV1(ETS)/GIST48-ETV1-ChIP-Seq(GSE22441)/Homer\n"
          ]
        }
      ],
      "execution_count": 5,
      "metadata": {
        "collapsed": false,
        "outputHidden": false,
        "inputHidden": false
      }
    },
    {
      "cell_type": "markdown",
      "source": [
        "PB0132.1_Hbp1_2/Jaspar(0.816)\n",
        "HLTF/MA0109.1/Jaspar(0.689)\n",
        "MR1(KH)/Drosophila_melanogaster-RNCMPT00015-PBM/HughesRNA(0.791)\n",
        "AT1G76870(Trihelix)/col-AT1G76870-DAP-Seq(GSE60143)/Homer(0.837)\n",
        "ZNF264(Zf)/HEK293-ZNF264.GFP-ChIP-Seq(GSE58341)/Homer(0.801)"
      ],
      "metadata": {}
    },
    {
      "cell_type": "markdown",
      "source": [
        "### - What is the difference between knownResults and homerResults?"
      ],
      "metadata": {}
    },
    {
      "cell_type": "markdown",
      "source": [
        "7. Check enrichment of known motifs\n",
        "\n",
        "The known motif enrichment is performed first since it is usually faster, and gives a faster look at what's enriched in your target regions.  \n",
        "\n",
        "8. de novo motif finding\n",
        "\nBest saved for last.  By default, HOMER will search for motifs of len 8, 10, and 12 bp.  For a more detail description of the motif discovery algorithm, see here.  "
      ],
      "metadata": {}
    },
    {
      "cell_type": "markdown",
      "source": [],
      "metadata": {}
    }
  ],
  "metadata": {
    "kernel_info": {
      "name": "python3"
    },
    "language_info": {
      "name": "python",
      "version": "3.7.1",
      "mimetype": "text/x-python",
      "codemirror_mode": {
        "name": "ipython",
        "version": 3
      },
      "pygments_lexer": "ipython3",
      "nbconvert_exporter": "python",
      "file_extension": ".py"
    },
    "kernelspec": {
      "name": "python3",
      "language": "python",
      "display_name": "Python 3"
    },
    "nteract": {
      "version": "0.12.3"
    }
  },
  "nbformat": 4,
  "nbformat_minor": 4
}