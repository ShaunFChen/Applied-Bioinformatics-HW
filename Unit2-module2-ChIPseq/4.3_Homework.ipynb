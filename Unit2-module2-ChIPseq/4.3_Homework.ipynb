{
  "cells": [
    {
      "cell_type": "markdown",
      "source": [
        "# Homework 4.1"
      ],
      "metadata": {
        "collapsed": false,
        "outputHidden": false,
        "inputHidden": false
      }
    },
    {
      "cell_type": "markdown",
      "source": [
        "1. Run ChIPQC for:  \n",
        "__SRR3001750_srt_dupr.chr2.chr11.bam__\n",
        "- Sort and index bam file\n",
        "- Run MACS2\n",
        "- Create sample sheet\n",
        "- ChIPQC"
      ],
      "metadata": {}
    },
    {
      "cell_type": "code",
      "source": [
        "%%bash\n",
        "cd /Users/sfchen/Documents/2018_Su/Applied-Bioinformatics-HW/Unit2-module2-ChIPseq/aligned_bam\n",
        "\n",
        "FILE=\"SRR3001750_srt_dupr.chr2.chr11\"\n",
        "\n",
        "# Sort the bam file\n",
        "samtools sort -o ${FILE}.srt.bam ${FILE}.bam\n",
        "\n",
        "# Index the bam file\n",
        "samtools index ${FILE}.srt.bam\n",
        "\n",
        "# MACS2 peak calling\n",
        "macs2 callpeak \\\n",
        "    -t ${FILE}.srt.bam \\\n",
        "    -f BAM -n ${FILE}.srt \\\n",
        "    -g mm \\\n",
        "    -p 1e-2 \\\n",
        "    --broad \\\n",
        "    --nomodel \\\n",
        "    --bdg \\\n",
        "    --shift 0 \\\n",
        "    --extsize 147 \\\n",
        "    --keep-dup all &> ${FILE}.srt.MACS2.out\n"
      ],
      "outputs": [],
      "execution_count": 10,
      "metadata": {
        "collapsed": false,
        "outputHidden": false,
        "inputHidden": false
      }
    },
    {
      "cell_type": "markdown",
      "source": [
        "2. Use Homer to search for TF motifs in broadPeak file (from Q1)\n",
        "- What are the top 5 knownResults?\n",
        "- What is the difference between knownResults and homerResults?"
      ],
      "metadata": {}
    },
    {
      "cell_type": "code",
      "source": [],
      "outputs": [],
      "execution_count": null,
      "metadata": {
        "collapsed": false,
        "outputHidden": false,
        "inputHidden": false
      }
    }
  ],
  "metadata": {
    "kernel_info": {
      "name": "python3"
    },
    "language_info": {
      "name": "python",
      "version": "3.7.1",
      "mimetype": "text/x-python",
      "codemirror_mode": {
        "name": "ipython",
        "version": 3
      },
      "pygments_lexer": "ipython3",
      "nbconvert_exporter": "python",
      "file_extension": ".py"
    },
    "kernelspec": {
      "name": "python3",
      "language": "python",
      "display_name": "Python 3"
    },
    "nteract": {
      "version": "0.12.3"
    }
  },
  "nbformat": 4,
  "nbformat_minor": 4
}