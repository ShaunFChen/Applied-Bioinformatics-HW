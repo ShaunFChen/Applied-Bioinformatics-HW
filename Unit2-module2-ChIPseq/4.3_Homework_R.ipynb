{
  "cells": [
    {
      "cell_type": "markdown",
      "source": [
        "# Homework 4.3_R"
      ],
      "metadata": {}
    },
    {
      "cell_type": "code",
      "source": [
        "setwd(\"/Users/sfchen/Documents/2018_Su/aligned_bam_homework_1\")\n",
        "\n",
        "# Load ChIPQC package\n",
        "library(ChIPQC)"
      ],
      "outputs": [],
      "execution_count": 18,
      "metadata": {
        "collapsed": false,
        "outputHidden": false,
        "inputHidden": false
      }
    },
    {
      "cell_type": "code",
      "source": [
        "samples <- read.csv(\"ChIPQC_samplesheet_EFF.csv\")\n",
        "head(samples)"
      ],
      "outputs": [
        {
          "output_type": "stream",
          "name": "stderr",
          "text": [
            "Warning message in read.table(file = file, header = header, sep = sep, quote = quote, :\n",
            "“incomplete final line found by readTableHeader on 'ChIPQC_samplesheet_EFF.csv'”"
          ]
        },
        {
          "output_type": "display_data",
          "data": {
            "text/html": [
              "<table>\n",
              "<thead><tr><th scope=col>SampleID</th><th scope=col>Tissue</th><th scope=col>Factor</th><th scope=col>Condition</th><th scope=col>Replicate</th><th scope=col>bamReads</th><th scope=col>ControlID</th><th scope=col>bamControl</th><th scope=col>Peaks</th><th scope=col>PeakCaller</th></tr></thead>\n",
              "<tbody>\n",
              "\t<tr><td>H3K4Me1_1                                       </td><td>NA                                              </td><td>NA                                              </td><td>NA                                              </td><td>1                                               </td><td>EFF_H3K4Me1_1_srt_dupr_chr11.srt.bam            </td><td>Input                                           </td><td>EFF_Input_srt_dupr_chr11.srt.bam                </td><td>EFF_H3K4Me1_1_srt_dupr_chr11.srt_peaks.broadPeak</td><td>macs                                            </td></tr>\n",
              "\t<tr><td>H3K4Me1_2                                       </td><td>NA                                              </td><td>NA                                              </td><td>NA                                              </td><td>2                                               </td><td>EFF_H3K4Me1_2_srt_dupr_chr11.srt.bam            </td><td>Input                                           </td><td>EFF_Input_srt_dupr_chr11.srt.bam                </td><td>EFF_H3K4Me1_2_srt_dupr_chr11.srt_peaks.broadPeak</td><td>macs                                            </td></tr>\n",
              "</tbody>\n",
              "</table>\n"
            ],
            "text/markdown": [
              "\n",
              "SampleID | Tissue | Factor | Condition | Replicate | bamReads | ControlID | bamControl | Peaks | PeakCaller | \n",
              "|---|---|\n",
              "| H3K4Me1_1                                        | NA                                               | NA                                               | NA                                               | 1                                                | EFF_H3K4Me1_1_srt_dupr_chr11.srt.bam             | Input                                            | EFF_Input_srt_dupr_chr11.srt.bam                 | EFF_H3K4Me1_1_srt_dupr_chr11.srt_peaks.broadPeak | macs                                             | \n",
              "| H3K4Me1_2                                        | NA                                               | NA                                               | NA                                               | 2                                                | EFF_H3K4Me1_2_srt_dupr_chr11.srt.bam             | Input                                            | EFF_Input_srt_dupr_chr11.srt.bam                 | EFF_H3K4Me1_2_srt_dupr_chr11.srt_peaks.broadPeak | macs                                             | \n",
              "\n\n"
            ],
            "text/latex": [
              "\\begin{tabular}{r|llllllllll}\n",
              " SampleID & Tissue & Factor & Condition & Replicate & bamReads & ControlID & bamControl & Peaks & PeakCaller\\\\\n",
              "\\hline\n",
              "\t H3K4Me1\\_1                                                  & NA                                                           & NA                                                           & NA                                                           & 1                                                            & EFF\\_H3K4Me1\\_1\\_srt\\_dupr\\_chr11.srt.bam               & Input                                                        & EFF\\_Input\\_srt\\_dupr\\_chr11.srt.bam                     & EFF\\_H3K4Me1\\_1\\_srt\\_dupr\\_chr11.srt\\_peaks.broadPeak & macs                                                        \\\\\n",
              "\t H3K4Me1\\_2                                                  & NA                                                           & NA                                                           & NA                                                           & 2                                                            & EFF\\_H3K4Me1\\_2\\_srt\\_dupr\\_chr11.srt.bam               & Input                                                        & EFF\\_Input\\_srt\\_dupr\\_chr11.srt.bam                     & EFF\\_H3K4Me1\\_2\\_srt\\_dupr\\_chr11.srt\\_peaks.broadPeak & macs                                                        \\\\\n",
              "\\end{tabular}\n"
            ],
            "text/plain": [
              "  SampleID  Tissue Factor Condition Replicate\n",
              "1 H3K4Me1_1 NA     NA     NA        1        \n",
              "2 H3K4Me1_2 NA     NA     NA        2        \n",
              "  bamReads                             ControlID\n",
              "1 EFF_H3K4Me1_1_srt_dupr_chr11.srt.bam Input    \n",
              "2 EFF_H3K4Me1_2_srt_dupr_chr11.srt.bam Input    \n",
              "  bamControl                      \n",
              "1 EFF_Input_srt_dupr_chr11.srt.bam\n",
              "2 EFF_Input_srt_dupr_chr11.srt.bam\n",
              "  Peaks                                            PeakCaller\n",
              "1 EFF_H3K4Me1_1_srt_dupr_chr11.srt_peaks.broadPeak macs      \n",
              "2 EFF_H3K4Me1_2_srt_dupr_chr11.srt_peaks.broadPeak macs      "
            ]
          },
          "metadata": {}
        }
      ],
      "execution_count": 22,
      "metadata": {
        "collapsed": false,
        "outputHidden": false,
        "inputHidden": false
      }
    },
    {
      "cell_type": "code",
      "source": [
        "chipObj <- ChIPQC(samples, annotation=\"mm10\") "
      ],
      "outputs": [
        {
          "output_type": "stream",
          "name": "stderr",
          "text": [
            "H3K4Me1_1     1 macs\n",
            "H3K4Me1_2     2 macs\n",
            "Checking chromosomes:\n",
            "Compiling annotation...\n",
            "Computing metrics for 3 samples...\n",
            "R_zmq_msg_send errno: 4 strerror: Interrupted system call\n",
            "R_zmq_msg_send errno: 4 strerror: Interrupted system call\n",
            "R_zmq_msg_send errno: 4 strerror: Interrupted system call\n",
            "R_zmq_msg_send errno: 4 strerror: Interrupted system call\n",
            "R_zmq_msg_send errno: 4 strerror: Interrupted system call\n",
            "R_zmq_msg_send errno: 4 strerror: Interrupted system call\n",
            " 300 / 300\n",
            "R_zmq_msg_send errno: 4 strerror: Interrupted system call\n",
            "[1] 1\n",
            "R_zmq_msg_send errno: 4 strerror: Interrupted system call\n",
            "R_zmq_msg_send errno: 4 strerror: Interrupted system call\n",
            "R_zmq_msg_send errno: 4 strerror: Interrupted system call\n",
            "R_zmq_msg_send errno: 4 strerror: Interrupted system call\n",
            "R_zmq_msg_send errno: 4 strerror: Interrupted system call\n",
            "R_zmq_msg_send errno: 4 strerror: Interrupted system call\n",
            "R_zmq_msg_send errno: 4 strerror: Interrupted system call\n",
            " 300 / 300\n",
            "R_zmq_msg_send errno: 4 strerror: Interrupted system call\n",
            "R_zmq_msg_send errno: 4 strerror: Interrupted system call\n",
            "done\n",
            "Calculating coverage\n",
            "Calculating Summits on  chr11  ..[1] 1\n",
            "R_zmq_msg_send errno: 4 strerror: Interrupted system call\n",
            "R_zmq_msg_send errno: 4 strerror: Interrupted system call\n",
            "R_zmq_msg_send errno: 4 strerror: Interrupted system call\n",
            "R_zmq_msg_send errno: 4 strerror: Interrupted system call\n",
            "R_zmq_msg_send errno: 4 strerror: Interrupted system call\n",
            "R_zmq_msg_send errno: 4 strerror: Interrupted system call\n",
            "R_zmq_msg_send errno: 4 strerror: Interrupted system call\n",
            " 300 / 300\n",
            "R_zmq_msg_send errno: 4 strerror: Interrupted system call\n",
            "R_zmq_msg_send errno: 4 strerror: Interrupted system call\n",
            "done\n",
            "Calculating coverage\n",
            "Calculating Summits on  chr11  ..[1] 1\n"
          ]
        },
        {
          "output_type": "stream",
          "name": "stdout",
          "text": [
            "[1] \"chr11\"\n"
          ]
        }
      ],
      "execution_count": 23,
      "metadata": {
        "collapsed": false,
        "outputHidden": false,
        "inputHidden": false
      }
    },
    {
      "cell_type": "code",
      "source": [
        "ChIPQCreport(chipObj, reportName=\"ChIP.QC.report.chr11\", reportFolder=\"ChIPQCreportChr11\")"
      ],
      "outputs": [
        {
          "output_type": "stream",
          "name": "stderr",
          "text": [
            "Saving 7 x 7 in image\n",
            "Saving 7 x 7 in image\n",
            "Saving 7 x 7 in image\n",
            "Using Sample as id variables\n",
            "Saving 7 x 7 in image\n",
            "Saving 7 x 7 in image\n"
          ]
        }
      ],
      "execution_count": 24,
      "metadata": {
        "collapsed": false,
        "outputHidden": false,
        "inputHidden": false
      }
    },
    {
      "cell_type": "code",
      "source": [],
      "outputs": [],
      "execution_count": null,
      "metadata": {
        "collapsed": false,
        "outputHidden": false,
        "inputHidden": false
      }
    }
  ],
  "metadata": {
    "kernel_info": {
      "name": "ir"
    },
    "language_info": {
      "name": "R",
      "codemirror_mode": "r",
      "pygments_lexer": "r",
      "mimetype": "text/x-r-source",
      "file_extension": ".r",
      "version": "3.5.1"
    },
    "kernelspec": {
      "name": "ir",
      "language": "R",
      "display_name": "R"
    },
    "nteract": {
      "version": "0.12.3"
    }
  },
  "nbformat": 4,
  "nbformat_minor": 4
}