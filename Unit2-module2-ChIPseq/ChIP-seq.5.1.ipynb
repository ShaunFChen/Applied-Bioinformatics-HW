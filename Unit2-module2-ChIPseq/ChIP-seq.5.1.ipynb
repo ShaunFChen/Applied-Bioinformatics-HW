{
  "cells": [
    {
      "cell_type": "markdown",
      "source": [
        "# ChIP-seq intro 5\n",
        "Huitian Diao\n",
        "* __References__: \n",
        "* [ENCODE ChIP-seq pipeline](https://www.encodeproject.org/pipelines/ENCPL138KID/)"
      ],
      "metadata": {}
    },
    {
      "cell_type": "markdown",
      "source": [
        "## 1. ChIPQC\n",
        "### 1.0 Preparation: _Bam file_ and _MACS2_ \n",
        "* 1.0.0 Download bam files: https://drive.google.com/open?id=1EJJ58DaOKSG_9d_--8WSZ1qkeD3KHZAR\n",
        "* 1.0.1 Index bam files\n",
        "* 1.0.2 Peak calling\n",
        "* 1.0.3 Create __sampleSheet__ file"
      ],
      "metadata": {}
    },
    {
      "cell_type": "code",
      "source": [
        "%%bash\n",
        "cd /Users/sfchen/Documents/2018_Su/Applied-Bioinformatics-HW/Unit2-module2-ChIPseq/aligned_bam\n",
        "\n",
        "# Sort all the bam files\n",
        "for i in *.bam\n",
        "do\n",
        "samtools sort -o ${i/.bam/.srt.bam} $i\n",
        "done"
      ],
      "outputs": [],
      "execution_count": 1,
      "metadata": {}
    },
    {
      "cell_type": "code",
      "source": [
        "%%bash\n",
        "cd /Users/sfchen/Documents/2018_Su/Applied-Bioinformatics-HW/Unit2-module2-ChIPseq/aligned_bam\n",
        "\n",
        "# Index all the bam files\n",
        "for i in *.srt.bam\n",
        "do\n",
        "samtools index $i\n",
        "done"
      ],
      "outputs": [],
      "execution_count": 2,
      "metadata": {}
    },
    {
      "cell_type": "code",
      "source": [
        "%%bash\n",
        "cd /Users/sfchen/Documents/2018_Su/Applied-Bioinformatics-HW/Unit2-module2-ChIPseq/aligned_bam\n",
        "\n",
        "# MACS2 Peak calling\n",
        "for i in *.srt.bam\n",
        "do\n",
        "macs2 callpeak -t $i -f BAM -n ${i/.bam/} -g mm -p 1e-2 --broad --nomodel --bdg --shift 0 --extsize 147 --keep-dup all &> ${i/.bam/.MACS2.out}\n",
        "done\n"
      ],
      "outputs": [],
      "execution_count": 3,
      "metadata": {}
    },
    {
      "cell_type": "code",
      "source": [],
      "outputs": [],
      "execution_count": null,
      "metadata": {}
    }
  ],
  "metadata": {
    "kernelspec": {
      "name": "python3",
      "language": "python",
      "display_name": "Python 3"
    },
    "language_info": {
      "name": "python",
      "version": "3.7.1",
      "mimetype": "text/x-python",
      "codemirror_mode": {
        "name": "ipython",
        "version": 3
      },
      "pygments_lexer": "ipython3",
      "nbconvert_exporter": "python",
      "file_extension": ".py"
    },
    "kernel_info": {
      "name": "python3"
    },
    "nteract": {
      "version": "0.12.3"
    }
  },
  "nbformat": 4,
  "nbformat_minor": 2
}