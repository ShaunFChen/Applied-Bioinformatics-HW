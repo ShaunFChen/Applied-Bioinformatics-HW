{
  "cells": [
    {
      "cell_type": "markdown",
      "source": [
        "### 1. Build a folder named Sample_fastq\n",
        "#### 2.1 Redirect to the new folder"
      ],
      "metadata": {}
    },
    {
      "cell_type": "code",
      "source": [
        "%%bash\n",
        "cd /Users/sfchen/Documents/2018_Su/Applied-Bioinformatics-HW\n",
        "mkdir Sample_fastq\n",
        "cd Sample_fastq"
      ],
      "outputs": [],
      "execution_count": 1,
      "metadata": {}
    },
    {
      "cell_type": "markdown",
      "source": [
        "#### 2.2 Save the first 1000 spots of each file into SRRXXXXX.500.fastq with a for loop"
      ],
      "metadata": {}
    },
    {
      "cell_type": "markdown",
      "source": [
        "__Google__: generate array of number in shell ->\n",
        "https://stackoverflow.com/questions/39267836/create-an-array-with-a-sequence-of-numbers-in-bash"
      ],
      "metadata": {}
    },
    {
      "cell_type": "code",
      "source": [
        "%%bash\n",
        "seq 3001750 3001776"
      ],
      "outputs": [
        {
          "output_type": "stream",
          "name": "stdout",
          "text": [
            "3.00175e+06\n",
            "3.00175e+06\n",
            "3.00175e+06\n",
            "3.00175e+06\n",
            "3.00175e+06\n",
            "3.00176e+06\n",
            "3.00176e+06\n",
            "3.00176e+06\n",
            "3.00176e+06\n",
            "3.00176e+06\n",
            "3.00176e+06\n",
            "3.00176e+06\n",
            "3.00176e+06\n",
            "3.00176e+06\n",
            "3.00176e+06\n",
            "3.00176e+06\n",
            "3.00177e+06\n",
            "3.00177e+06\n",
            "3.00177e+06\n",
            "3.00177e+06\n",
            "3.00177e+06\n",
            "3.00177e+06\n",
            "3.00177e+06\n",
            "3.00177e+06\n",
            "3.00177e+06\n",
            "3.00178e+06\n",
            "3.00178e+06\n"
          ]
        }
      ],
      "execution_count": 2,
      "metadata": {}
    },
    {
      "cell_type": "markdown",
      "source": [
        "__Google__: shell seq output scientific notation -> https://stackoverflow.com/questions/47213538/bash-number-sequence-returned-in-scientific-notation"
      ],
      "metadata": {}
    },
    {
      "cell_type": "code",
      "source": [
        "%%bash\n",
        "seq -f %1.0f 3001750 3001776"
      ],
      "outputs": [
        {
          "output_type": "stream",
          "name": "stdout",
          "text": [
            "3001750\n",
            "3001751\n",
            "3001752\n",
            "3001753\n",
            "3001754\n",
            "3001755\n",
            "3001756\n",
            "3001757\n",
            "3001758\n",
            "3001759\n",
            "3001760\n",
            "3001761\n",
            "3001762\n",
            "3001763\n",
            "3001764\n",
            "3001765\n",
            "3001766\n",
            "3001767\n",
            "3001768\n",
            "3001769\n",
            "3001770\n",
            "3001771\n",
            "3001772\n",
            "3001773\n",
            "3001774\n",
            "3001775\n",
            "3001776\n"
          ]
        }
      ],
      "execution_count": 3,
      "metadata": {}
    },
    {
      "cell_type": "markdown",
      "source": [
        "__Google__: shell convert stdout to array -> https://stackoverflow.com/questions/11426529/reading-output-of-a-command-into-an-array-in-bash"
      ],
      "metadata": {}
    },
    {
      "cell_type": "code",
      "source": [
        "%%bash\n",
        "for i in $(seq -f %1.0f 3001750 3001776)\n",
        "do\n",
        "echo $i\n",
        "done"
      ],
      "outputs": [
        {
          "output_type": "stream",
          "name": "stdout",
          "text": [
            "3001750\n",
            "3001751\n",
            "3001752\n",
            "3001753\n",
            "3001754\n",
            "3001755\n",
            "3001756\n",
            "3001757\n",
            "3001758\n",
            "3001759\n",
            "3001760\n",
            "3001761\n",
            "3001762\n",
            "3001763\n",
            "3001764\n",
            "3001765\n",
            "3001766\n",
            "3001767\n",
            "3001768\n",
            "3001769\n",
            "3001770\n",
            "3001771\n",
            "3001772\n",
            "3001773\n",
            "3001774\n",
            "3001775\n",
            "3001776\n"
          ]
        }
      ],
      "execution_count": 4,
      "metadata": {}
    },
    {
      "cell_type": "code",
      "source": [
        "%%bash\n",
        "for i in $(seq -f %1.0f 3001750 3001776)\n",
        "do\n",
        "echo SRR$i\n",
        "done"
      ],
      "outputs": [
        {
          "output_type": "stream",
          "name": "stdout",
          "text": [
            "SRR3001750\n",
            "SRR3001751\n",
            "SRR3001752\n",
            "SRR3001753\n",
            "SRR3001754\n",
            "SRR3001755\n",
            "SRR3001756\n",
            "SRR3001757\n",
            "SRR3001758\n",
            "SRR3001759\n",
            "SRR3001760\n",
            "SRR3001761\n",
            "SRR3001762\n",
            "SRR3001763\n",
            "SRR3001764\n",
            "SRR3001765\n",
            "SRR3001766\n",
            "SRR3001767\n",
            "SRR3001768\n",
            "SRR3001769\n",
            "SRR3001770\n",
            "SRR3001771\n",
            "SRR3001772\n",
            "SRR3001773\n",
            "SRR3001774\n",
            "SRR3001775\n",
            "SRR3001776\n"
          ]
        }
      ],
      "execution_count": 5,
      "metadata": {}
    },
    {
      "cell_type": "code",
      "source": [
        "%%bash\n",
        "cd /Users/sfchen/Documents/2018_Su/Applied-Bioinformatics-HW/Sample_fastq\n",
        "for i in $(seq -f %1.0f 3001750 3001776)\n",
        "do\n",
        "fastq-dump  --split-files -X 500 -Z SRR$i > SRR$i.500.fastq\n",
        "done"
      ],
      "outputs": [
        {
          "output_type": "stream",
          "name": "stderr",
          "text": [
            "Read 500 spots for SRR3001750\n",
            "Written 500 spots for SRR3001750\n",
            "Read 500 spots for SRR3001751\n",
            "Written 500 spots for SRR3001751\n",
            "Read 500 spots for SRR3001752\n",
            "Written 500 spots for SRR3001752\n",
            "Read 500 spots for SRR3001753\n",
            "Written 500 spots for SRR3001753\n",
            "Read 500 spots for SRR3001754\n",
            "Written 500 spots for SRR3001754\n",
            "Read 500 spots for SRR3001755\n",
            "Written 500 spots for SRR3001755\n",
            "Read 500 spots for SRR3001756\n",
            "Written 500 spots for SRR3001756\n",
            "Read 500 spots for SRR3001757\n",
            "Written 500 spots for SRR3001757\n",
            "Read 500 spots for SRR3001758\n",
            "Written 500 spots for SRR3001758\n",
            "Read 500 spots for SRR3001759\n",
            "Written 500 spots for SRR3001759\n",
            "Read 500 spots for SRR3001760\n",
            "Written 500 spots for SRR3001760\n",
            "Read 500 spots for SRR3001761\n",
            "Written 500 spots for SRR3001761\n",
            "Read 500 spots for SRR3001762\n",
            "Written 500 spots for SRR3001762\n",
            "Read 500 spots for SRR3001763\n",
            "Written 500 spots for SRR3001763\n",
            "Read 500 spots for SRR3001764\n",
            "Written 500 spots for SRR3001764\n",
            "Read 500 spots for SRR3001765\n",
            "Written 500 spots for SRR3001765\n",
            "Read 500 spots for SRR3001766\n",
            "Written 500 spots for SRR3001766\n",
            "Read 500 spots for SRR3001767\n",
            "Written 500 spots for SRR3001767\n",
            "Read 500 spots for SRR3001768\n",
            "Written 500 spots for SRR3001768\n",
            "Read 500 spots for SRR3001769\n",
            "Written 500 spots for SRR3001769\n",
            "Read 500 spots for SRR3001770\n",
            "Written 500 spots for SRR3001770\n",
            "Read 500 spots for SRR3001771\n",
            "Written 500 spots for SRR3001771\n",
            "Read 500 spots for SRR3001772\n",
            "Written 500 spots for SRR3001772\n",
            "Read 500 spots for SRR3001773\n",
            "Written 500 spots for SRR3001773\n",
            "Read 500 spots for SRR3001774\n",
            "Written 500 spots for SRR3001774\n",
            "Read 500 spots for SRR3001775\n",
            "Written 500 spots for SRR3001775\n",
            "Read 500 spots for SRR3001776\n",
            "Written 500 spots for SRR3001776\n"
          ]
        }
      ],
      "execution_count": 6,
      "metadata": {}
    },
    {
      "cell_type": "markdown",
      "source": [
        "#### 2.3 Run fastqc on all the files"
      ],
      "metadata": {}
    },
    {
      "cell_type": "code",
      "source": [
        "%%bash\n",
        "cd /Users/sfchen/Documents/2018_Su/Applied-Bioinformatics-HW/Sample_fastq\n",
        "for i in *.fastq\n",
        "do\n",
        "fastqc $i\n",
        "done"
      ],
      "outputs": [
        {
          "output_type": "stream",
          "name": "stdout",
          "text": [
            "Analysis complete for SRR3001750.500.fastq\n",
            "Analysis complete for SRR3001751.500.fastq\n",
            "Analysis complete for SRR3001752.500.fastq\n",
            "Analysis complete for SRR3001753.500.fastq\n",
            "Analysis complete for SRR3001754.500.fastq\n",
            "Analysis complete for SRR3001755.500.fastq\n",
            "Analysis complete for SRR3001756.500.fastq\n",
            "Analysis complete for SRR3001757.500.fastq\n",
            "Analysis complete for SRR3001758.500.fastq\n",
            "Analysis complete for SRR3001759.500.fastq\n",
            "Analysis complete for SRR3001760.500.fastq\n",
            "Analysis complete for SRR3001761.500.fastq\n",
            "Analysis complete for SRR3001762.500.fastq\n",
            "Analysis complete for SRR3001763.500.fastq\n",
            "Analysis complete for SRR3001764.500.fastq\n",
            "Analysis complete for SRR3001765.500.fastq\n",
            "Analysis complete for SRR3001766.500.fastq\n",
            "Analysis complete for SRR3001767.500.fastq\n",
            "Analysis complete for SRR3001768.500.fastq\n",
            "Analysis complete for SRR3001769.500.fastq\n",
            "Analysis complete for SRR3001770.500.fastq\n",
            "Analysis complete for SRR3001771.500.fastq\n",
            "Analysis complete for SRR3001772.500.fastq\n",
            "Analysis complete for SRR3001773.500.fastq\n",
            "Analysis complete for SRR3001774.500.fastq\n",
            "Analysis complete for SRR3001775.500.fastq\n",
            "Analysis complete for SRR3001776.500.fastq\n"
          ]
        },
        {
          "output_type": "stream",
          "name": "stderr",
          "text": [
            "Started analysis of SRR3001750.500.fastq\n",
            "Started analysis of SRR3001751.500.fastq\n",
            "Started analysis of SRR3001752.500.fastq\n",
            "Started analysis of SRR3001753.500.fastq\n",
            "Started analysis of SRR3001754.500.fastq\n",
            "Started analysis of SRR3001755.500.fastq\n",
            "Started analysis of SRR3001756.500.fastq\n",
            "Started analysis of SRR3001757.500.fastq\n",
            "Started analysis of SRR3001758.500.fastq\n",
            "Started analysis of SRR3001759.500.fastq\n",
            "Started analysis of SRR3001760.500.fastq\n",
            "Started analysis of SRR3001761.500.fastq\n",
            "Started analysis of SRR3001762.500.fastq\n",
            "Started analysis of SRR3001763.500.fastq\n",
            "Started analysis of SRR3001764.500.fastq\n",
            "Started analysis of SRR3001765.500.fastq\n",
            "Started analysis of SRR3001766.500.fastq\n",
            "Started analysis of SRR3001767.500.fastq\n",
            "Started analysis of SRR3001768.500.fastq\n",
            "Started analysis of SRR3001769.500.fastq\n",
            "Started analysis of SRR3001770.500.fastq\n",
            "Started analysis of SRR3001771.500.fastq\n",
            "Started analysis of SRR3001772.500.fastq\n",
            "Started analysis of SRR3001773.500.fastq\n",
            "Started analysis of SRR3001774.500.fastq\n",
            "Started analysis of SRR3001775.500.fastq\n",
            "Started analysis of SRR3001776.500.fastq\n"
          ]
        }
      ],
      "execution_count": 7,
      "metadata": {}
    },
    {
      "cell_type": "markdown",
      "source": [
        "### 3. MultiQC"
      ],
      "metadata": {}
    },
    {
      "cell_type": "code",
      "source": [
        "%%bash\n",
        "cd /Users/sfchen/Documents/2018_Su/Applied-Bioinformatics-HW/Sample_fastq\n",
        "multiqc . -n Sample_fastq.500.html"
      ],
      "outputs": [
        {
          "output_type": "stream",
          "name": "stderr",
          "text": [
            "[INFO   ]         multiqc : This is MultiQC v1.6\n",
            "[INFO   ]         multiqc : Template    : default\n",
            "[INFO   ]         multiqc : Searching '.'\n",
            "[INFO   ]          fastqc : Found 27 reports\n",
            "[INFO   ]         multiqc : Compressing plot data\n",
            "[INFO   ]         multiqc : Report      : Sample_fastq.500.html\n",
            "[INFO   ]         multiqc : Data        : Sample_fastq.500_data\n",
            "[INFO   ]         multiqc : MultiQC complete\n"
          ]
        }
      ],
      "execution_count": 8,
      "metadata": {}
    },
    {
      "cell_type": "markdown",
      "source": [
        "__Google__: decorator 4.0.11 error https://stackoverflow.com/questions/50882504/networkx-2-1-has-requirement-decorator-4-1-0-but-youll-have-decorator-4-0-11"
      ],
      "metadata": {}
    },
    {
      "cell_type": "code",
      "source": [],
      "outputs": [],
      "execution_count": null,
      "metadata": {}
    }
  ],
  "metadata": {
    "kernelspec": {
      "name": "python3",
      "language": "python",
      "display_name": "Python 3"
    },
    "language_info": {
      "name": "python",
      "version": "3.7.1",
      "mimetype": "text/x-python",
      "codemirror_mode": {
        "name": "ipython",
        "version": 3
      },
      "pygments_lexer": "ipython3",
      "nbconvert_exporter": "python",
      "file_extension": ".py"
    },
    "kernel_info": {
      "name": "python3"
    },
    "nteract": {
      "version": "0.12.3"
    }
  },
  "nbformat": 4,
  "nbformat_minor": 2
}