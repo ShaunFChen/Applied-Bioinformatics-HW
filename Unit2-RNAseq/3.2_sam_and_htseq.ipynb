{
  "cells": [
    {
      "cell_type": "markdown",
      "source": [
        "## RNAseq notebook 3.2: SAM files and read counting"
      ],
      "metadata": {}
    },
    {
      "cell_type": "markdown",
      "source": [
        "## Homework (1)\n",
        "Use awk to check the number of columns in the SAM file for all rows and print only the unique column counts.  \n",
        "__Step 1__ Count the column number of each line by awk.  \n",
        "__Step 2__ Pipe the results to __```sort```__ numerically.  \n",
        "__Step 3__ Pipe the results to __```uniq```__ and count the occurrence of each number."
      ],
      "metadata": {
        "collapsed": false,
        "outputHidden": false,
        "inputHidden": false
      }
    },
    {
      "cell_type": "code",
      "source": [
        "%%bash\n",
        "cd /Users/sfchen/Documents/2018_Su/Applied-Bioinformatics-HW/Unit2-RNAseq\n",
        "printf \"Number\\tCount\\n\"\n",
        "awk '{print NF}' SRR5454079.sam | sort -n | uniq -c | awk '{print$2,\"\\t\",$1}'"
      ],
      "outputs": [
        {
          "output_type": "stream",
          "name": "stdout",
          "text": [
            "Number\tCount\n",
            "3 \t 195\n",
            "12 \t 810879\n",
            "13 \t 22860\n",
            "20 \t 13316252\n",
            "21 \t 9549841\n",
            "22 \t 443098\n"
          ]
        }
      ],
      "execution_count": 3,
      "metadata": {
        "collapsed": false,
        "outputHidden": false,
        "inputHidden": false
      }
    },
    {
      "cell_type": "markdown",
      "source": [
        "## Homework (2)\n",
        "Count how many reads from SRR5454079 mapped to chromosome 20 with 2 soft-clipped bases at the start of the read. HINT: Consult the SAM documentation on CIGAR strings.  \n",
        "__Step 1__ Use __```awk```__ to print lines matched __20__ at the third column (RNAME: reference sequence name).  \n",
        "__Step 2__ Pipe the results to select lines starting with __2S__ at the sixth column (the CIGAR string) by __```awk```__.  \n",
        "__Step 3__ Count the line number of matched results."
      ],
      "metadata": {
        "collapsed": false,
        "outputHidden": false,
        "inputHidden": false
      }
    },
    {
      "cell_type": "code",
      "source": [
        "%%bash\n",
        "cd /Users/sfchen/Documents/2018_Su/Applied-Bioinformatics-HW/Unit2-RNAseq\n",
        "cat SRR5454079.sam | awk '$3 == \"20\" {print$0}' | awk '$6 ~ /^2S/ {print$0}' | wc -l"
      ],
      "outputs": [
        {
          "output_type": "stream",
          "name": "stdout",
          "text": [
            "    5725\n"
          ]
        }
      ],
      "execution_count": 5,
      "metadata": {
        "collapsed": false,
        "outputHidden": false,
        "inputHidden": false
      }
    },
    {
      "cell_type": "markdown",
      "source": [
        "## Homework (3)  \n",
        "Using the human transcriptome annotations by Ensembl, calculate counts per gene in the bam file for SRR5454079 and print the first 10 lines (use -s reverse.)  "
      ],
      "metadata": {
        "collapsed": false,
        "outputHidden": false,
        "inputHidden": false
      }
    },
    {
      "cell_type": "code",
      "source": [
        "%%bash\n",
        "cd /Users/sfchen/Documents/2018_Su/Applied-Bioinformatics-HW/Unit2-RNAseq\n",
        "echo \"htseq-count -f bam -s reverse SRR5454079.bam Homo_sapiens.GRCh38.94.gtf > SRR5454079_counts.txt\"\n",
        "echo \"Gene_Ensembl_ID Number_of_alignments_per_gene\"\n",
        "head -10 SRR5454079_counts.txt"
      ],
      "outputs": [
        {
          "output_type": "stream",
          "name": "stdout",
          "text": [
            "htseq-count -f bam -s reverse SRR5454079.bam Homo_sapiens.GRCh38.94.gtf > SRR5454079_counts.txt\n",
            "Gene_Ensembl_ID Number_of_alignments_per_gene\n",
            "ENSG00000000003\t433\n",
            "ENSG00000000005\t1\n",
            "ENSG00000000419\t247\n",
            "ENSG00000000457\t194\n",
            "ENSG00000000460\t168\n",
            "ENSG00000000938\t5\n",
            "ENSG00000000971\t1\n",
            "ENSG00000001036\t224\n",
            "ENSG00000001084\t427\n",
            "ENSG00000001167\t1040\n"
          ]
        }
      ],
      "execution_count": 13,
      "metadata": {
        "collapsed": false,
        "outputHidden": false,
        "inputHidden": false
      }
    },
    {
      "cell_type": "code",
      "source": [],
      "outputs": [],
      "execution_count": null,
      "metadata": {
        "collapsed": false,
        "outputHidden": false,
        "inputHidden": false
      }
    }
  ],
  "metadata": {
    "kernelspec": {
      "name": "python3",
      "language": "python",
      "display_name": "Python 3"
    },
    "language_info": {
      "name": "python",
      "version": "3.6.6",
      "mimetype": "text/x-python",
      "codemirror_mode": {
        "name": "ipython",
        "version": 3
      },
      "pygments_lexer": "ipython3",
      "nbconvert_exporter": "python",
      "file_extension": ".py"
    },
    "kernel_info": {
      "name": "python3"
    },
    "nteract": {
      "version": "0.12.2"
    }
  },
  "nbformat": 4,
  "nbformat_minor": 2
}