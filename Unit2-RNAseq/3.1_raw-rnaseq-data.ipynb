{
  "cells": [
    {
      "cell_type": "markdown",
      "source": [
        "## Applied Bioinformatics Unit 2 Module 1: RNA-seq\n",
        "### Notebook 3.1: Raw data"
      ],
      "metadata": {}
    },
    {
      "cell_type": "markdown",
      "source": [
        "### Exercises I:\n",
        "1) What read length was used in the sequencing study _A Distinct Population of Thirst-Associated Preoptic Neurons Encodes an Aversive Motivational Drive_?\n",
        "\n2) Using bash, print the first 5 ‘spots’ of the first RNA-seq run from the study above"
      ],
      "metadata": {}
    },
    {
      "cell_type": "markdown",
      "source": [
        "## Exercises I-(1)\n",
        "76 bp"
      ],
      "metadata": {
        "collapsed": false,
        "outputHidden": false,
        "inputHidden": false
      }
    },
    {
      "cell_type": "markdown",
      "source": [
        "## Exercises I-(2)"
      ],
      "metadata": {
        "collapsed": false,
        "outputHidden": false,
        "inputHidden": false
      }
    },
    {
      "cell_type": "code",
      "source": [
        "%%bash  \n",
        "cd /Users/sfchen/bin\n",
        "./sratoolkit.2.9.2-mac64/bin/fastq-dump --split-files -X 5 -Z SRR5830640"
      ],
      "outputs": [
        {
          "output_type": "stream",
          "name": "stdout",
          "text": [
            "@SRR5830640.1 1 length=76\n",
            "GTAGCCCAGTAATCATCTTACCTCAGGCTCCCCTATCTGGCTTCATGGTACTTCCCTGATGTATTTCAGAGAAATG\n",
            "+SRR5830640.1 1 length=76\n",
            "AAAAAEEAEEEEEEEAEEEE6EE6EEEEEEEAEEEEEEEEEE/EEEEEAEEE6EA6EEAEEE/EAAA/AAE//AE/\n",
            "@SRR5830640.1 1 length=76\n",
            "ACACTGAAGATGTAAGAATTTCACCGGATATTAACAGTGCCTGAAGTTAAAACACTACCACACTTTAGCTAGATGT\n",
            "+SRR5830640.1 1 length=76\n",
            "/AAAAE/AE/AEE6<AE6EAEAAEEEE/E/A//AEAEAEE666/AA6A///E666A6A//EE//A//66//A/<A/\n",
            "@SRR5830640.2 2 length=76\n",
            "ATACTATGTAGCCCACAGATTGACTCCTTCACCATCGTGTACTTGGATTGCTTCCTTGCTTCCTTCTCCTGGCAGT\n",
            "+SRR5830640.2 2 length=76\n",
            "AAAAAEEEEEEEEEEEEEEEEEEEEEEEEEAEEEEEEEEEEEEEEEEEEEEEEEEEEEEEEEEEEEEEEEEEE/EA\n",
            "@SRR5830640.2 2 length=76\n",
            "CCTCTGGGCCACGGTGGACTCGCCCTCTATAACCCTAAGCCCAAATAAACTCTCTGGCCTGTAAATTACTGGTCAT\n",
            "+SRR5830640.2 2 length=76\n",
            "AAAAAEEEEEEEEEEEEEEEEEEEEEEEEEEEEEEEEEEEEEEAAEAEEEEEEEEEEEEEEE//AEEEAAEEEEAE\n",
            "@SRR5830640.3 3 length=76\n",
            "ATGCACGCATATGCTCACACACAAACTCAGACTCTGAAGTCTGGTAGCCTGTGAATGTTCCTTTTGTAAAATGCTT\n",
            "+SRR5830640.3 3 length=76\n",
            "AAAAAEEEEEEEEEEEAEEEEEEEEEEEEEAEEEEEEEEEEEEEEEEEEEEEEEEEEEEEEEEEEEA6EEEEEEEE\n",
            "@SRR5830640.3 3 length=76\n",
            "CCTTAACCGTTTCTTTGGGGTTTCTGATGGTTAGGACAGGGTTGGAGCAAAGAGGCTTTTGGAAGCATTTTACAAA\n",
            "+SRR5830640.3 3 length=76\n",
            "AAAAAAEEEAE6AEAAAEEEEE6EEE/AEEAA6AE/A6E/EA<EA/E/666A/AEA6AA/E<//A//AA<//A///\n",
            "@SRR5830640.4 4 length=76\n",
            "GTGCAGAGTAATGCCATCACTGCCCACTGGGAATGCAGCCCGAATAATTAATAGCCACCCCTCAGACGGAGGACCA\n",
            "+SRR5830640.4 4 length=76\n",
            "A/AAAEEEEEEEEEEEEEEEEEEEAAE<EEEEEEAEEE/EEEAEAEEEEEEEEEAAEEEEEEE/AEEEE/EEAEEE\n",
            "@SRR5830640.4 4 length=76\n",
            "CCTTGGAGGTGGAGCCCAGTGACACCATCGAGAATGTGAAGGCCAAGATCCAGGATAAAGAGGGCATCCCCCCTGA\n",
            "+SRR5830640.4 4 length=76\n",
            "AAAAAEEEEEEE6EEEEAEEEEEEEEAEEE6EEEEEEEEEEEEEAEE6EEEEEA//AEE6AEEEAEEAEEAA/<A/\n",
            "@SRR5830640.5 5 length=76\n",
            "CTTTAATATACGCTATTGGAGCTGGAATTACCGCGGCTGCTGGCACCAGACTTTCCCTCCAATCGATCCTCGATAA\n",
            "+SRR5830640.5 5 length=76\n",
            "AAAAA/E</EEEE<E/EEEEEEEEEEEEE//A<///EA/EEE///EEE/E<EE/A///6AEEE///EEAEEE/6</\n",
            "@SRR5830640.5 5 length=76\n",
            "CATCCAAGGAAGGCAGCAGGCGCGCAAATTACCCACTCCCGACCCGGGGAGGTAGTGACGAAAAATAACAAAACAG\n",
            "+SRR5830640.5 5 length=76\n",
            "/A/A//E///EEA6EE//<<<E/EE666E66///<66/E/EAAAA/E/A/</E/E//<///<A//////////E/6\n"
          ]
        },
        {
          "output_type": "stream",
          "name": "stderr",
          "text": [
            "Read 5 spots for SRR5830640\n",
            "Written 5 spots for SRR5830640\n"
          ]
        }
      ],
      "execution_count": 9,
      "metadata": {
        "collapsed": false,
        "outputHidden": false,
        "inputHidden": false
      }
    },
    {
      "cell_type": "markdown",
      "source": [
        "## HomeWork #0\n",
        "__HW0__ Now print the first 100 ‘spots’ of the first 5 runs (alphabetically) of the study each into a separate file and quantify how many times the nucleotide adenine occurs in each one. How does this compare to the other nucleotides? What are the possible reasons?\n",
        "\n__Step 1:__ Print the first 100 ‘spots’ of the first 5 runs (alphabetically, from SRR5830136 to SRR5830140) of the study each into a separate file."
      ],
      "metadata": {
        "collapsed": false,
        "outputHidden": false,
        "inputHidden": false
      }
    },
    {
      "cell_type": "code",
      "source": [
        "%%bash  \n",
        "cd /Users/sfchen/bin\n",
        "./sratoolkit.2.9.2-mac64/bin/fastq-dump --split-files -X 100 -O /Users/sfchen/Documents/2018_Su/Applied-Bioinformatics-HW/Unit2-RNAseq SRR5830136\n",
        "./sratoolkit.2.9.2-mac64/bin/fastq-dump --split-files -X 100 -O /Users/sfchen/Documents/2018_Su/Applied-Bioinformatics-HW/Unit2-RNAseq SRR5830137\n",
        "./sratoolkit.2.9.2-mac64/bin/fastq-dump --split-files -X 100 -O /Users/sfchen/Documents/2018_Su/Applied-Bioinformatics-HW/Unit2-RNAseq SRR5830138\n",
        "./sratoolkit.2.9.2-mac64/bin/fastq-dump --split-files -X 100 -O /Users/sfchen/Documents/2018_Su/Applied-Bioinformatics-HW/Unit2-RNAseq SRR5830139\n",
        "./sratoolkit.2.9.2-mac64/bin/fastq-dump --split-files -X 100 -O /Users/sfchen/Documents/2018_Su/Applied-Bioinformatics-HW/Unit2-RNAseq SRR5830140"
      ],
      "outputs": [
        {
          "output_type": "stream",
          "name": "stdout",
          "text": [
            "Read 100 spots for SRR5830136\n",
            "Written 100 spots for SRR5830136\n",
            "Read 100 spots for SRR5830137\n",
            "Written 100 spots for SRR5830137\n",
            "Read 100 spots for SRR5830138\n",
            "Written 100 spots for SRR5830138\n",
            "Read 100 spots for SRR5830139\n",
            "Written 100 spots for SRR5830139\n",
            "Read 100 spots for SRR5830140\n",
            "Written 100 spots for SRR5830140\n"
          ]
        }
      ],
      "execution_count": 32,
      "metadata": {
        "collapsed": false,
        "outputHidden": false,
        "inputHidden": false
      }
    },
    {
      "cell_type": "markdown",
      "source": [
        "__Step2:__ Count the occurrence of different nucleotides in each one. "
      ],
      "metadata": {
        "collapsed": false,
        "outputHidden": false,
        "inputHidden": false
      }
    },
    {
      "cell_type": "code",
      "source": [
        "%%bash  \n",
        "cd /Users/sfchen/Documents/2018_Su/Applied-Bioinformatics-HW/Unit2-RNAseq\n",
        "for f in {A,T,C,G}; do\n",
        "echo \"${f}\"\n",
        "    for i in {36..40}; do\n",
        "        printf \"SRR58301${i}_1\"\n",
        "        awk '/@/{getline; print}' SRR58301${i}_1.fastq | grep -o ${f} | wc -l\n",
        "        printf \"SRR58301${i}_2\"\n",
        "        awk '/@/{getline; print}' SRR58301${i}_2.fastq | grep -o ${f} | wc -l\n",
        "    done\n",
        "done"
      ],
      "outputs": [
        {
          "output_type": "stream",
          "name": "stdout",
          "text": [
            "A\n",
            "SRR5830136_1    1949\n",
            "SRR5830136_2    2026\n",
            "SRR5830137_1    1938\n",
            "SRR5830137_2    2037\n",
            "SRR5830138_1    1818\n",
            "SRR5830138_2    1866\n",
            "SRR5830139_1    1906\n",
            "SRR5830139_2    1878\n",
            "SRR5830140_1    1879\n",
            "SRR5830140_2    1830\n",
            "T\n",
            "SRR5830136_1    1986\n",
            "SRR5830136_2    1961\n",
            "SRR5830137_1    2092\n",
            "SRR5830137_2    2003\n",
            "SRR5830138_1    1870\n",
            "SRR5830138_2    1836\n",
            "SRR5830139_1    1851\n",
            "SRR5830139_2    1994\n",
            "SRR5830140_1    1848\n",
            "SRR5830140_2    1826\n",
            "C\n",
            "SRR5830136_1    1809\n",
            "SRR5830136_2    1889\n",
            "SRR5830137_1    1802\n",
            "SRR5830137_2    1817\n",
            "SRR5830138_1    1956\n",
            "SRR5830138_2    1932\n",
            "SRR5830139_1    1925\n",
            "SRR5830139_2    1912\n",
            "SRR5830140_1    1888\n",
            "SRR5830140_2    1940\n",
            "G\n",
            "SRR5830136_1    1856\n",
            "SRR5830136_2    1724\n",
            "SRR5830137_1    1768\n",
            "SRR5830137_2    1743\n",
            "SRR5830138_1    1956\n",
            "SRR5830138_2    1966\n",
            "SRR5830139_1    1918\n",
            "SRR5830139_2    1814\n",
            "SRR5830140_1    1985\n",
            "SRR5830140_2    2004\n"
          ]
        }
      ],
      "execution_count": 81,
      "metadata": {
        "collapsed": false,
        "outputHidden": false,
        "inputHidden": false,
        "outputExpanded": true
      }
    },
    {
      "cell_type": "markdown",
      "source": [
        "__Step 3:__ Comparison of the sum of other nucleotides"
      ],
      "metadata": {
        "collapsed": false,
        "outputHidden": false,
        "inputHidden": false
      }
    },
    {
      "cell_type": "code",
      "source": [
        "%%bash  \n",
        "cd /Users/sfchen/Documents/2018_Su/Applied-Bioinformatics-HW/Unit2-RNAseq\n",
        "for f in {A,T,C,G}; do\n",
        "echo \"${f}\"\n",
        "    for i in {36..40}; do\n",
        "        printf \"SRR58301${i}_1\"\n",
        "        awk '/@/{getline; print}' SRR58301${i}_1.fastq | grep -o ${f} | wc -l\n",
        "        printf \"SRR58301${i}_2\"\n",
        "        awk '/@/{getline; print}' SRR58301${i}_2.fastq | grep -o ${f} | wc -l\n",
        "    done > ${f}.awk.log\n",
        "    cat ${f}.awk.log | awk '{sum += $2} END {print sum}' \n",
        "done"
      ],
      "outputs": [
        {
          "output_type": "stream",
          "name": "stdout",
          "text": [
            "A\n",
            "19127\n",
            "T\n",
            "19267\n",
            "C\n",
            "18870\n",
            "G\n",
            "18734\n"
          ]
        }
      ],
      "execution_count": 4,
      "metadata": {
        "collapsed": false,
        "outputHidden": false,
        "inputHidden": false
      }
    },
    {
      "cell_type": "markdown",
      "source": [
        "## Discussion\n",
        "\n",
        "Among the 4 nucleotides, adenosine didn't show significant different between the others(, although polyA-tail sometimes contribute to the adenosine-rich effect.) One of the possible reason to get the occurrence of \"A\" relatively high is to include the letter \"A\" in Qscores line as false-positive, which is chose\n",
        "__```cat filename``` __\n",
        "to print the whole file instead of \n",
        "__```awk '/@/{getline; print}' filename```__\n",
        "to select the sequence line. \n",
        "\nTest as the following cell."
      ],
      "metadata": {
        "collapsed": false,
        "outputHidden": false,
        "inputHidden": false
      }
    },
    {
      "cell_type": "code",
      "source": [
        "%%bash  \n",
        "cd /Users/sfchen/Documents/2018_Su/Applied-Bioinformatics-HW/Unit2-RNAseq\n",
        "for f in {A,T,C,G}; do\n",
        "echo \"${f}\"\n",
        "    for i in {36..40}; do\n",
        "        printf \"SRR58301${i}_1\"\n",
        "        cat SRR58301${i}_1.fastq | grep -o ${f} | wc -l\n",
        "        printf \"SRR58301${i}_2\"\n",
        "        cat SRR58301${i}_2.fastq | grep -o ${f} | wc -l\n",
        "    done > ${f}.cat.log\n",
        "    cat ${f}.cat.log | awk '{sum += $2} END {print sum}' \n",
        "done"
      ],
      "outputs": [
        {
          "output_type": "stream",
          "name": "stdout",
          "text": [
            "A\n",
            "29760\n",
            "T\n",
            "19267\n",
            "C\n",
            "18870\n",
            "G\n",
            "18734\n"
          ]
        }
      ],
      "execution_count": 5,
      "metadata": {
        "collapsed": false,
        "outputHidden": false,
        "inputHidden": false,
        "tags": []
      }
    },
    {
      "cell_type": "markdown",
      "source": [
        "## Exercises II:\n",
        "1) It is common for RNA-seq reads to be contaminated with leftover adapter sequences. Test if the file SRR5454079_1.fastq contains any i7 adapter sequences ATCACGAC or ACAGTGGT.  \n",
        "1-2) What would be a proper way to determine if there is significant barcode contamination?"
      ],
      "metadata": {}
    },
    {
      "cell_type": "code",
      "source": [
        "%%bash\n",
        "cd /Users/sfchen/Documents/2018_Su/Applied-Bioinformatics-HW/Unit2-RNAseq\n",
        "grep ^ATCACGAC SRR5454079_1.fastq | head"
      ],
      "outputs": [
        {
          "output_type": "stream",
          "name": "stdout",
          "text": [
            "ATCACGACTGGGGTCTCGAAGAGGACGGGGGTAGGAAATCCTCCAGGATC\n",
            "ATCACGACCAGCTTCACCAGGAGCACCGTTGACTCCAGGACTACCCAC\n",
            "ATCACGACTGGGGTCTCGAAGAGGACGGGGGTAGGAAATCCTCCAGGATC\n",
            "ATCACGACGCAGGTCACTCAGGAACCGCTCCTGGTCGTTCTCCACCTGA\n",
            "ATCACGACTAACGTCGCTTTGCTATCAAAATCTGTATTTCTGATCCGTT\n",
            "ATCACGACTGGGGTCTCGAAGAGGACGGGGGTAGGAAATCCTCCAGGATC\n",
            "ATCACGACCAGAGACAGAAAGCCGGGCTATTGGTGGATCAGCCACCAAA\n",
            "ATCACGACAGGGTGGACAAGGTGCCATCACACTTCTTTTTTGTAATTCA\n",
            "ATCACGACTGGGGTCTCGAAGAGGACGGGGGTAGGAAATCCTCCAGGATC\n",
            "ATCACGACCCCATTGCCATAAAGTCCTATCACTCTCCCACACTTGTCT\n"
          ]
        }
      ],
      "execution_count": 1,
      "metadata": {
        "collapsed": false,
        "outputHidden": false,
        "inputHidden": false
      }
    },
    {
      "cell_type": "code",
      "source": [
        "%%bash\n",
        "cd /Users/sfchen/Documents/2018_Su/Applied-Bioinformatics-HW/Unit2-RNAseq\n",
        "grep ATCACGAC$ SRR5454079_1.fastq | head"
      ],
      "outputs": [
        {
          "output_type": "stream",
          "name": "stdout",
          "text": [
            "CTTGTAGGGTCCCTCAGCCATGGTTAACTCCACACTGTTCTCATCACGAC\n",
            "TCAGTCACTCAGTGCCTGGGATCTCGGGGCCTTCCTCGGTATCACGAC\n",
            "CTTCCACTCTCTTCGTTTAAATTGCCAAATACGTGCTGTCCCATCACGAC\n",
            "GTCTGTGGCTGTTTTTCCCGACAGTGGCAGAGGTGAGTAATCACGAC\n",
            "CTCGATACACACAACATCCAGGACTTGTGCCCTTGCCCCATCACGAC\n",
            "GATCACTTAAGCCTGGGGGTGTCAAGGCTGCAGTGAGCTGAGATCACGAC\n",
            "TCCATTGGATTTAAACTTCAAAGCTAATAGTTCAACGATGATATCACGAC\n",
            "ATGCAATGCAGGAAATAACCTTTCATTCTCCCCCCTAGAGGATCACGAC\n",
            "GCAGTTCAGAAGTCCCGCCTGCGAGTCTCAGCGCTCCCCAGCATCACGAC\n",
            "CTTGACTGGAACACCCGATCAAATGCATAAGGCTTGGACGCGATCACGAC\n"
          ]
        }
      ],
      "execution_count": 2,
      "metadata": {
        "collapsed": false,
        "outputHidden": false,
        "inputHidden": false
      }
    },
    {
      "cell_type": "code",
      "source": [
        "%%bash\n",
        "cd /Users/sfchen/Documents/2018_Su/Applied-Bioinformatics-HW/Unit2-RNAseq\n",
        "grep ^ACAGTGGT SRR5454079_1.fastq | head"
      ],
      "outputs": [
        {
          "output_type": "stream",
          "name": "stdout",
          "text": [
            "ACAGTGGTGACAGGCACTACACGGGGCCTCACCTCCCTCCCTGGCTCCGT\n",
            "ACAGTGGTCTGCTGGGGACAAAAGGAAAAACGGGTCAAGAAAATATTCTT\n",
            "ACAGTGGTGCCTGGAAAATAAATTAAAACAGAAATGCATCAAAACAAA\n",
            "ACAGTGGTGAAATGACTGGCCAGAGGTTAGCCAGCTAGCACGTGGCAG\n",
            "ACAGTGGTGGCTACCTGGCTAGGCTGGGCACTACAGGGGCATGACTCCT\n",
            "ACAGTGGTGGCCGTGTGAGTGGTGCCCGTCTCGTGGGTCTCACAGGGGGG\n",
            "ACAGTGGTGAGACGTGTTTTTCTTTTCAGGTGCCCCATGATGGCATAC\n",
            "ACAGTGGTATGGATGGTAGGGGTGACAGCTGCCGCAGGACCAGGGCTTGG\n",
            "ACAGTGGTTGGAAGTTCTATTTTATTGCAATGGTCCTGATTGCAGCAAT\n",
            "ACAGTGGTCAGAGTAGTGAATTCATAGGCTGCCACCTCAGAATATACCCC\n"
          ]
        }
      ],
      "execution_count": 3,
      "metadata": {
        "collapsed": false,
        "outputHidden": false,
        "inputHidden": false
      }
    },
    {
      "cell_type": "code",
      "source": [
        "%%bash\n",
        "cd /Users/sfchen/Documents/2018_Su/Applied-Bioinformatics-HW/Unit2-RNAseq\n",
        "grep ACAGTGGT$ SRR5454079_1.fastq | head"
      ],
      "outputs": [
        {
          "output_type": "stream",
          "name": "stdout",
          "text": [
            "GCCAAAGCGCCTTTGTCTTCCGAGTTCACCTGTGTGAAGGCGACAGTGGT\n",
            "TCCTGATGAGCAGTAAAAGTCAAGGGCTTATATGAGTACATACAGTGGT\n",
            "GCCAAAGCGCCTTTGTCTTCCGAGTTCACCTGTGTGAAGGCGACAGTGGT\n",
            "CGTCTCCCCAACATCAGCCACATATCCATAGCTGAAGAAATGACAGTGGT\n",
            "ATCCGCTGAGGCAGAGCTTTGGAGTAGGGAGCAGGGCGCGGCACAGTGGT\n",
            "CTGTAAAGGGTGAACATGTTTCTGCAACAATAGCTATTGCTACAGTGGT\n",
            "AAGGAAATAGTGGCACTGGTAGAGGAGGGAGCCTGGTTGTGGACAGTGGT\n",
            "AAGGAAATAGTGGCACTGGTAGAGGAGGGAGCCTGGTTGTGGACAGTGGT\n",
            "CTGGCTGTGCTTGGCACTACAGTCCCATTCAGTCCGGTAAAACAGTGGT\n",
            "TTCAGTTTCATCTGGGAAATGTGTAGCAGGAGGGCTTGAAGACAGTGGT\n"
          ]
        }
      ],
      "execution_count": 4,
      "metadata": {
        "collapsed": false,
        "outputHidden": false,
        "inputHidden": false
      }
    },
    {
      "cell_type": "markdown",
      "source": [
        "## HomeWork #1\n",
        "__HW1__: Map SRR5454079 to the human genome using HISAT2."
      ],
      "metadata": {
        "collapsed": false,
        "outputHidden": false,
        "inputHidden": false
      }
    },
    {
      "cell_type": "code",
      "source": [
        "%%bash\n",
        "cd /Users/sfchen/Documents/2018_Su/Applied-Bioinformatics-HW/Unit2-RNAseq\n",
        "/Users/sfchen/bin/sratoolkit.2.9.2-mac64/bin/fastq-dump SRR5454079"
      ],
      "outputs": [
        {
          "output_type": "stream",
          "name": "stdout",
          "text": [
            "Read 18699038 spots for SRR5454079\n",
            "Written 18699038 spots for SRR5454079\n"
          ]
        }
      ],
      "execution_count": 6,
      "metadata": {
        "collapsed": false,
        "outputHidden": false,
        "inputHidden": false
      }
    },
    {
      "cell_type": "code",
      "source": [
        "%%bash\n",
        "cd /Users/sfchen/Documents/2018_Su/Applied-Bioinformatics-HW/Unit2-RNAseq\n",
        "/Users/sfchen/bin/hisat2-2.1.0/hisat2 \\\n",
        "-x /Users/sfchen/Documents/2018_Su/Applied-Bioinformatics-HW/Unit2-RNAseq/grch38/genome \\\n",
        "-U SRR5454079.fastq \\\n",
        "-S SRR5454079.sam"
      ],
      "outputs": [
        {
          "output_type": "stream",
          "name": "stderr",
          "text": [
            "18699038 reads; of these:\n",
            "  18699038 (100.00%) were unpaired; of these:\n",
            "    833738 (4.46%) aligned 0 times\n",
            "    15806483 (84.53%) aligned exactly 1 time\n",
            "    2058817 (11.01%) aligned >1 times\n",
            "95.54% overall alignment rate\n"
          ]
        }
      ],
      "execution_count": 7,
      "metadata": {
        "collapsed": false,
        "outputHidden": false,
        "inputHidden": false
      }
    },
    {
      "cell_type": "markdown",
      "source": [
        "## HomeWork #2\n",
        "__HW2__: Check the first 5 reads contained in the FASTQ files. Which chromosome did they align to?  \n",
        "Answer: Display as the 3rd column in sam file, the first 5 reads did match to any chromosome in human genome."
      ],
      "metadata": {
        "collapsed": false,
        "outputHidden": false,
        "inputHidden": false
      }
    },
    {
      "cell_type": "code",
      "source": [
        "%%bash\n",
        "cd /Users/sfchen/Documents/2018_Su/Applied-Bioinformatics-HW/Unit2-RNAseq\n",
        "head -20 SRR5454079.fastq | grep \"@\""
      ],
      "outputs": [
        {
          "output_type": "stream",
          "name": "stdout",
          "text": [
            "@SRR5454079.1 1 length=49\n",
            "@SRR5454079.2 2 length=50\n",
            "@SRR5454079.3 3 length=50\n",
            "@SRR5454079.4 4 length=49\n",
            "@SRR5454079.5 5 length=50\n"
          ]
        }
      ],
      "execution_count": 13,
      "metadata": {
        "collapsed": false,
        "outputHidden": false,
        "inputHidden": false
      }
    },
    {
      "cell_type": "code",
      "source": [
        "%%bash\n",
        "cd /Users/sfchen/Documents/2018_Su/Applied-Bioinformatics-HW/Unit2-RNAseq\n",
        "grep -m1 \"SRR5454079.1\" SRR5454079.sam\n",
        "grep -m1 \"SRR5454079.2\" SRR5454079.sam\n",
        "grep -m1 \"SRR5454079.3\" SRR5454079.sam\n",
        "grep -m1 \"SRR5454079.4\" SRR5454079.sam\n",
        "grep -m1 \"SRR5454079.5\" SRR5454079.sam"
      ],
      "outputs": [
        {
          "output_type": "stream",
          "name": "stdout",
          "text": [
            "SRR5454079.1\t4\t*\t0\t0\t*\t*\t0\t0\tNTCTTTCAGGTTTAGTTAGACGTCCTCCAAAAAGAGGCCANAANTCACC\t#AAAFFJJJJJFAF-FAFAJJJ7JJFJJJJJJJJJJ<FJJ#JJ#JJJJJ\tYT:Z:UU\n",
            "SRR5454079.2\t4\t*\t0\t0\t*\t*\t0\t0\tNTGCGCGTGCAGCCCCGGACATCTAAGGGCATCACAGACCNGTNATTGNT\t#AAAFJJJJJJJJJJJJJJJJJFJJJJJFJJFJJJJJJJJ#JJ#JJJJ#J\tYT:Z:UU\n",
            "SRR5454079.3\t4\t*\t0\t0\t*\t*\t0\t0\tNAAGATAATTGCTTTGGTCATCTGTAAGTCACTTTAGCCANTGNGTCTNC\t#AAFFJJJJJJJJJJJJJJFJJJJJJJJJJJJJJJJJJJJ#JJ#JJJJ#J\tYT:Z:UU\n",
            "SRR5454079.4\t4\t*\t0\t0\t*\t*\t0\t0\tNTGGATTGCCTGAGGTCAGGAATTCGAGGCCAGTCTGGCCNACNTGATN\t#AAFFJJJJJJJJJJJJJJJJJJJJJJJJJJJJJJJJJJJ#JJ#JJJJ#\tYT:Z:UU\n",
            "SRR5454079.5\t4\t*\t0\t0\t*\t*\t0\t0\tNGGCAATGCAAACAGCAATCCTACATAATGTAGAATAATTNTTNTTCTNT\t#AAFFJJJJJJJJJJJJJJJJJJJJJJJJJJJJJJJJJJJ#JJ#JJJJ#J\tYT:Z:UU\n"
          ]
        }
      ],
      "execution_count": 1,
      "metadata": {
        "collapsed": false,
        "outputHidden": false,
        "inputHidden": false
      }
    },
    {
      "cell_type": "markdown",
      "source": [
        "## HomeWork #3\n",
        "__HW3__: Convert the output sam file into a sorted bam file."
      ],
      "metadata": {
        "collapsed": false,
        "outputHidden": false,
        "inputHidden": false
      }
    },
    {
      "cell_type": "code",
      "source": [
        "%%bash\n",
        "cd /Users/sfchen/Documents/2018_Su/Applied-Bioinformatics-HW/Unit2-RNAseq\n",
        "samtools sort SRR5454079.sam -o SRR5454079.sorted.bam"
      ],
      "outputs": [
        {
          "output_type": "stream",
          "name": "stderr",
          "text": [
            "[bam_sort_core] merging from 6 files and 1 in-memory blocks...\n"
          ]
        }
      ],
      "execution_count": 2,
      "metadata": {
        "collapsed": false,
        "outputHidden": false,
        "inputHidden": false
      }
    },
    {
      "cell_type": "code",
      "source": [],
      "outputs": [],
      "execution_count": null,
      "metadata": {
        "collapsed": false,
        "outputHidden": false,
        "inputHidden": false
      }
    }
  ],
  "metadata": {
    "kernelspec": {
      "name": "python3",
      "language": "python",
      "display_name": "Python 3"
    },
    "language_info": {
      "name": "python",
      "version": "3.6.6",
      "mimetype": "text/x-python",
      "codemirror_mode": {
        "name": "ipython",
        "version": 3
      },
      "pygments_lexer": "ipython3",
      "nbconvert_exporter": "python",
      "file_extension": ".py"
    },
    "kernel_info": {
      "name": "python3"
    },
    "nteract": {
      "version": "0.12.2"
    }
  },
  "nbformat": 4,
  "nbformat_minor": 2
}