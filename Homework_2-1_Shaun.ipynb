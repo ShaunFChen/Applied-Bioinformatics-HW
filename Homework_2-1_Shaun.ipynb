{
  "cells": [
    {
      "cell_type": "markdown",
      "source": [
        "## Homework 2.1"
      ],
      "metadata": {}
    },
    {
      "cell_type": "markdown",
      "source": [
        "## 1. Hello world everyday!\n",
        "### 1.1 Make a vector containing days of the week, from Monday to Sunday.\n",
        "### 1.2 Use a for loop to pring \"Hello world XXXday!\" for each day of the week."
      ],
      "metadata": {}
    },
    {
      "cell_type": "code",
      "source": [
        "# 1-Hello world everyday!\n",
        "week <- c(\"Monday\", \"Tuesday\", \"Wednesday\", \"Thursday\", \"Friday\", \"Saturday\", \"Sunday\")\n",
        "for (day in week) {\n",
        "    print(paste(\"Hello world \", day, \"!\", sep = \"\"))\n",
        "}"
      ],
      "outputs": [
        {
          "output_type": "stream",
          "name": "stdout",
          "text": [
            "[1] \"Hello world Monday!\"\n",
            "[1] \"Hello world Tuesday!\"\n",
            "[1] \"Hello world Wednesday!\"\n",
            "[1] \"Hello world Thursday!\"\n",
            "[1] \"Hello world Friday!\"\n",
            "[1] \"Hello world Saturday!\"\n",
            "[1] \"Hello world Sunday!\"\n"
          ]
        }
      ],
      "execution_count": 167,
      "metadata": {
        "collapsed": false,
        "outputHidden": false,
        "inputHidden": false
      }
    },
    {
      "cell_type": "markdown",
      "source": [
        "## 2. The Pie\n",
        "### 2.1 In the first 100 digits of pie, count how many numbers are even. \n",
        "### 2.2 Convert the first 200 digits of pie into a 20x10 matrix\n",
        "https://www.piday.org/million/"
      ],
      "metadata": {}
    },
    {
      "cell_type": "code",
      "source": [
        "# 2.1-Counting even numbers in the 100 digit of pie\n",
        "pie <- \"3.14159265358979323846264338327950288419716939937510582097494459230781640628620899862803482534211706798214808651328230664709384460955058223172535940812848111745028410270193852110555964462294895493038196\"\n",
        "str <- strsplit(pie, split=\"\")\n",
        "digit <- str[[1]][-1:-2]\n",
        "even.count = 0\n",
        "for (i in c(1:100)) {\n",
        "    if (as.integer(digit[i])%%2 == 0) {\n",
        "        even.count = even.count + 1\n",
        "    }    \n",
        "}\n",
        "print(even.count)\n",
        "\n",
        "# 2.2-Convert first 200 digits of pie into a 20x10 matrix\n",
        "digit.matrix <- matrix(as.integer(digit[1:200]), nrow=20, ncol=10, byrow=TRUE)\n",
        "digit.matrix"
      ],
      "outputs": [
        {
          "output_type": "stream",
          "name": "stdout",
          "text": [
            "[1] 51\n"
          ]
        },
        {
          "output_type": "display_data",
          "data": {
            "text/html": [
              "<table>\n",
              "<tbody>\n",
              "\t<tr><td>1</td><td>4</td><td>1</td><td>5</td><td>9</td><td>2</td><td>6</td><td>5</td><td>3</td><td>5</td></tr>\n",
              "\t<tr><td>8</td><td>9</td><td>7</td><td>9</td><td>3</td><td>2</td><td>3</td><td>8</td><td>4</td><td>6</td></tr>\n",
              "\t<tr><td>2</td><td>6</td><td>4</td><td>3</td><td>3</td><td>8</td><td>3</td><td>2</td><td>7</td><td>9</td></tr>\n",
              "\t<tr><td>5</td><td>0</td><td>2</td><td>8</td><td>8</td><td>4</td><td>1</td><td>9</td><td>7</td><td>1</td></tr>\n",
              "\t<tr><td>6</td><td>9</td><td>3</td><td>9</td><td>9</td><td>3</td><td>7</td><td>5</td><td>1</td><td>0</td></tr>\n",
              "\t<tr><td>5</td><td>8</td><td>2</td><td>0</td><td>9</td><td>7</td><td>4</td><td>9</td><td>4</td><td>4</td></tr>\n",
              "\t<tr><td>5</td><td>9</td><td>2</td><td>3</td><td>0</td><td>7</td><td>8</td><td>1</td><td>6</td><td>4</td></tr>\n",
              "\t<tr><td>0</td><td>6</td><td>2</td><td>8</td><td>6</td><td>2</td><td>0</td><td>8</td><td>9</td><td>9</td></tr>\n",
              "\t<tr><td>8</td><td>6</td><td>2</td><td>8</td><td>0</td><td>3</td><td>4</td><td>8</td><td>2</td><td>5</td></tr>\n",
              "\t<tr><td>3</td><td>4</td><td>2</td><td>1</td><td>1</td><td>7</td><td>0</td><td>6</td><td>7</td><td>9</td></tr>\n",
              "\t<tr><td>8</td><td>2</td><td>1</td><td>4</td><td>8</td><td>0</td><td>8</td><td>6</td><td>5</td><td>1</td></tr>\n",
              "\t<tr><td>3</td><td>2</td><td>8</td><td>2</td><td>3</td><td>0</td><td>6</td><td>6</td><td>4</td><td>7</td></tr>\n",
              "\t<tr><td>0</td><td>9</td><td>3</td><td>8</td><td>4</td><td>4</td><td>6</td><td>0</td><td>9</td><td>5</td></tr>\n",
              "\t<tr><td>5</td><td>0</td><td>5</td><td>8</td><td>2</td><td>2</td><td>3</td><td>1</td><td>7</td><td>2</td></tr>\n",
              "\t<tr><td>5</td><td>3</td><td>5</td><td>9</td><td>4</td><td>0</td><td>8</td><td>1</td><td>2</td><td>8</td></tr>\n",
              "\t<tr><td>4</td><td>8</td><td>1</td><td>1</td><td>1</td><td>7</td><td>4</td><td>5</td><td>0</td><td>2</td></tr>\n",
              "\t<tr><td>8</td><td>4</td><td>1</td><td>0</td><td>2</td><td>7</td><td>0</td><td>1</td><td>9</td><td>3</td></tr>\n",
              "\t<tr><td>8</td><td>5</td><td>2</td><td>1</td><td>1</td><td>0</td><td>5</td><td>5</td><td>5</td><td>9</td></tr>\n",
              "\t<tr><td>6</td><td>4</td><td>4</td><td>6</td><td>2</td><td>2</td><td>9</td><td>4</td><td>8</td><td>9</td></tr>\n",
              "\t<tr><td>5</td><td>4</td><td>9</td><td>3</td><td>0</td><td>3</td><td>8</td><td>1</td><td>9</td><td>6</td></tr>\n",
              "</tbody>\n",
              "</table>\n"
            ],
            "text/markdown": [
              "\n",
              "| 1 | 4 | 1 | 5 | 9 | 2 | 6 | 5 | 3 | 5 | \n",
              "| 8 | 9 | 7 | 9 | 3 | 2 | 3 | 8 | 4 | 6 | \n",
              "| 2 | 6 | 4 | 3 | 3 | 8 | 3 | 2 | 7 | 9 | \n",
              "| 5 | 0 | 2 | 8 | 8 | 4 | 1 | 9 | 7 | 1 | \n",
              "| 6 | 9 | 3 | 9 | 9 | 3 | 7 | 5 | 1 | 0 | \n",
              "| 5 | 8 | 2 | 0 | 9 | 7 | 4 | 9 | 4 | 4 | \n",
              "| 5 | 9 | 2 | 3 | 0 | 7 | 8 | 1 | 6 | 4 | \n",
              "| 0 | 6 | 2 | 8 | 6 | 2 | 0 | 8 | 9 | 9 | \n",
              "| 8 | 6 | 2 | 8 | 0 | 3 | 4 | 8 | 2 | 5 | \n",
              "| 3 | 4 | 2 | 1 | 1 | 7 | 0 | 6 | 7 | 9 | \n",
              "| 8 | 2 | 1 | 4 | 8 | 0 | 8 | 6 | 5 | 1 | \n",
              "| 3 | 2 | 8 | 2 | 3 | 0 | 6 | 6 | 4 | 7 | \n",
              "| 0 | 9 | 3 | 8 | 4 | 4 | 6 | 0 | 9 | 5 | \n",
              "| 5 | 0 | 5 | 8 | 2 | 2 | 3 | 1 | 7 | 2 | \n",
              "| 5 | 3 | 5 | 9 | 4 | 0 | 8 | 1 | 2 | 8 | \n",
              "| 4 | 8 | 1 | 1 | 1 | 7 | 4 | 5 | 0 | 2 | \n",
              "| 8 | 4 | 1 | 0 | 2 | 7 | 0 | 1 | 9 | 3 | \n",
              "| 8 | 5 | 2 | 1 | 1 | 0 | 5 | 5 | 5 | 9 | \n",
              "| 6 | 4 | 4 | 6 | 2 | 2 | 9 | 4 | 8 | 9 | \n",
              "| 5 | 4 | 9 | 3 | 0 | 3 | 8 | 1 | 9 | 6 | \n",
              "\n\n"
            ],
            "text/latex": [
              "\\begin{tabular}{llllllllll}\n",
              "\t 1 & 4 & 1 & 5 & 9 & 2 & 6 & 5 & 3 & 5\\\\\n",
              "\t 8 & 9 & 7 & 9 & 3 & 2 & 3 & 8 & 4 & 6\\\\\n",
              "\t 2 & 6 & 4 & 3 & 3 & 8 & 3 & 2 & 7 & 9\\\\\n",
              "\t 5 & 0 & 2 & 8 & 8 & 4 & 1 & 9 & 7 & 1\\\\\n",
              "\t 6 & 9 & 3 & 9 & 9 & 3 & 7 & 5 & 1 & 0\\\\\n",
              "\t 5 & 8 & 2 & 0 & 9 & 7 & 4 & 9 & 4 & 4\\\\\n",
              "\t 5 & 9 & 2 & 3 & 0 & 7 & 8 & 1 & 6 & 4\\\\\n",
              "\t 0 & 6 & 2 & 8 & 6 & 2 & 0 & 8 & 9 & 9\\\\\n",
              "\t 8 & 6 & 2 & 8 & 0 & 3 & 4 & 8 & 2 & 5\\\\\n",
              "\t 3 & 4 & 2 & 1 & 1 & 7 & 0 & 6 & 7 & 9\\\\\n",
              "\t 8 & 2 & 1 & 4 & 8 & 0 & 8 & 6 & 5 & 1\\\\\n",
              "\t 3 & 2 & 8 & 2 & 3 & 0 & 6 & 6 & 4 & 7\\\\\n",
              "\t 0 & 9 & 3 & 8 & 4 & 4 & 6 & 0 & 9 & 5\\\\\n",
              "\t 5 & 0 & 5 & 8 & 2 & 2 & 3 & 1 & 7 & 2\\\\\n",
              "\t 5 & 3 & 5 & 9 & 4 & 0 & 8 & 1 & 2 & 8\\\\\n",
              "\t 4 & 8 & 1 & 1 & 1 & 7 & 4 & 5 & 0 & 2\\\\\n",
              "\t 8 & 4 & 1 & 0 & 2 & 7 & 0 & 1 & 9 & 3\\\\\n",
              "\t 8 & 5 & 2 & 1 & 1 & 0 & 5 & 5 & 5 & 9\\\\\n",
              "\t 6 & 4 & 4 & 6 & 2 & 2 & 9 & 4 & 8 & 9\\\\\n",
              "\t 5 & 4 & 9 & 3 & 0 & 3 & 8 & 1 & 9 & 6\\\\\n",
              "\\end{tabular}\n"
            ],
            "text/plain": [
              "      [,1] [,2] [,3] [,4] [,5] [,6] [,7] [,8] [,9] [,10]\n",
              " [1,] 1    4    1    5    9    2    6    5    3    5    \n",
              " [2,] 8    9    7    9    3    2    3    8    4    6    \n",
              " [3,] 2    6    4    3    3    8    3    2    7    9    \n",
              " [4,] 5    0    2    8    8    4    1    9    7    1    \n",
              " [5,] 6    9    3    9    9    3    7    5    1    0    \n",
              " [6,] 5    8    2    0    9    7    4    9    4    4    \n",
              " [7,] 5    9    2    3    0    7    8    1    6    4    \n",
              " [8,] 0    6    2    8    6    2    0    8    9    9    \n",
              " [9,] 8    6    2    8    0    3    4    8    2    5    \n",
              "[10,] 3    4    2    1    1    7    0    6    7    9    \n",
              "[11,] 8    2    1    4    8    0    8    6    5    1    \n",
              "[12,] 3    2    8    2    3    0    6    6    4    7    \n",
              "[13,] 0    9    3    8    4    4    6    0    9    5    \n",
              "[14,] 5    0    5    8    2    2    3    1    7    2    \n",
              "[15,] 5    3    5    9    4    0    8    1    2    8    \n",
              "[16,] 4    8    1    1    1    7    4    5    0    2    \n",
              "[17,] 8    4    1    0    2    7    0    1    9    3    \n",
              "[18,] 8    5    2    1    1    0    5    5    5    9    \n",
              "[19,] 6    4    4    6    2    2    9    4    8    9    \n",
              "[20,] 5    4    9    3    0    3    8    1    9    6    "
            ]
          },
          "metadata": {}
        }
      ],
      "execution_count": 187,
      "metadata": {
        "collapsed": false,
        "outputHidden": false,
        "inputHidden": false
      }
    },
    {
      "cell_type": "markdown",
      "source": [
        "## 3. Prime numbers\n",
        "### Find first 500 prime numbers. What is the 500th prime number?"
      ],
      "metadata": {}
    },
    {
      "cell_type": "code",
      "source": [
        "# 3-Find the Nth prime number\n",
        "Primetest <- function(x){\n",
        "    i=1\n",
        "    num=0\n",
        "    while (i<=x) {\n",
        "        num = num + 1\n",
        "        if (num == 2) {\n",
        "            i = i + 1\n",
        "        }\n",
        "        else if (num == 1 || any(num %% 2:sqrt(num) == 0)) {\n",
        "            next\n",
        "        }\n",
        "        else {\n",
        "            i = i + 1\n",
        "        }\n",
        "    }\n",
        "    if (x == 1) {\n",
        "        print(paste(x, \"st prime number is \", num, \".\", sep=\"\"))\n",
        "    }\n",
        "    else if (x == 2) {\n",
        "        print(paste(x, \"nd prime number is \", num, \".\", sep=\"\"))\n",
        "    }\n",
        "    else {\n",
        "        print(paste(x, \"th prime number is \", num, \".\", sep=\"\"))\n",
        "    }\n",
        "}\n",
        "\nPrimetest(500)"
      ],
      "outputs": [
        {
          "output_type": "stream",
          "name": "stdout",
          "text": [
            "[1] \"500th prime number is 3571.\"\n"
          ]
        }
      ],
      "execution_count": 206,
      "metadata": {
        "collapsed": false,
        "outputHidden": false,
        "inputHidden": false
      }
    },
    {
      "cell_type": "markdown",
      "source": [
        "## 4. Fibonacci number\n",
        "### Define a function to return the Xth fibonacci number\n",
        "https://en.wikipedia.org/wiki/Fibonacci_number"
      ],
      "metadata": {}
    },
    {
      "cell_type": "code",
      "source": [
        "# 4-Find the Xth fibonacci number\n",
        "Fibonacci <- function(x) {\n",
        "    if (x%%1!=0) {\n",
        "        print(\"Please input an integer...\")\n",
        "    }\n",
        "    else if (x == 1 || x == 2) {\n",
        "        output <- paste(\"The 1th fibonacci number is 1.\")\n",
        "        print(output)\n",
        "    }\n",
        "    else {\n",
        "        a <- 1\n",
        "        b <- 1\n",
        "        for (i in c(3:x)){\n",
        "            sum = a + b\n",
        "            a = b\n",
        "            b = sum\n",
        "        }\n",
        "        output <- paste(\"The \", x, \"th fibonacci number is \", sum, \".\", sep = \"\")\n",
        "        print(output)\n",
        "    }\n",
        "}\n",
        "\nFibonacci(10)"
      ],
      "outputs": [
        {
          "output_type": "stream",
          "name": "stdout",
          "text": [
            "[1] \"The 10th fibonacci number is 55.\"\n"
          ]
        }
      ],
      "execution_count": 186,
      "metadata": {
        "collapsed": false,
        "outputHidden": false,
        "inputHidden": false
      }
    },
    {
      "cell_type": "markdown",
      "source": [
        "## 5. Read both NAV-D14_DEseq2.csv and NAV-MEM-DEseq2.csv into dataframes: df.nav.d14 and df.nav.mem .\n",
        "### 5.1 Subset both dataframes to include only \"baseMean\", \"log2FoldChange\" and \"padj\"\n",
        "### 5.2 Merge the two dataframes (Change column names so that there are no repetative column names. The base mean in two spreadsheets are the same so delete the extra one.) into a dataframe df.nav.d14.mem.\n",
        "### 5.3 Sort the new dataframe on \" baseMean\".\n",
        "### 5.4 Define a function to evaluate padj output:\n",
        "    - padj > 0.05: nonsig\n",
        "    - padj <= 0.05: sig\n",
        "### 5.5 Apply the function to both nav.mem and nav.d14 and create one column to add the evaluation result."
      ],
      "metadata": {}
    },
    {
      "cell_type": "code",
      "source": [
        "# 5-Read the 2 dataframes\n",
        "df.nav.d14 <- read.csv(\"NAV-D14_DEseq2.csv\", head = TRUE)\n",
        "df.nav.mem <- read.csv(\"NAV-MEM_DEseq2.csv\", head = TRUE)\n",
        "head(df.nav.d14)\n",
        "head(df.nav.mem)"
      ],
      "outputs": [
        {
          "output_type": "display_data",
          "data": {
            "text/html": [
              "<table>\n",
              "<thead><tr><th scope=col>gene.name</th><th scope=col>baseMean</th><th scope=col>log2FoldChange</th><th scope=col>lfcSE</th><th scope=col>stat</th><th scope=col>pvalue</th><th scope=col>padj</th></tr></thead>\n",
              "<tbody>\n",
              "\t<tr><td>TSPAN6      </td><td> 25.256745  </td><td> 1.30246882 </td><td>0.4166710   </td><td> 3.1258926  </td><td>1.772662e-03</td><td>8.209295e-03</td></tr>\n",
              "\t<tr><td>TNMD        </td><td>  0.288508  </td><td>-0.05077872 </td><td>0.4875003   </td><td>-0.1041614  </td><td>9.170413e-01</td><td>          NA</td></tr>\n",
              "\t<tr><td>DPM1        </td><td>163.507773  </td><td>-0.05502833 </td><td>0.2492486   </td><td>-0.2207769  </td><td>8.252662e-01</td><td>9.144493e-01</td></tr>\n",
              "\t<tr><td>SCYL3       </td><td>296.461713  </td><td> 0.27370099 </td><td>0.1964251   </td><td> 1.3934117  </td><td>1.634953e-01</td><td>3.312390e-01</td></tr>\n",
              "\t<tr><td>C1orf112    </td><td>199.011986  </td><td>-1.62012005 </td><td>0.2833121   </td><td>-5.7184998  </td><td>1.070000e-08</td><td>1.590000e-07</td></tr>\n",
              "\t<tr><td>FGR         </td><td>122.792530  </td><td>-5.60936805 </td><td>0.6378324   </td><td>-8.7944226  </td><td>1.440000e-18</td><td>7.150000e-17</td></tr>\n",
              "</tbody>\n",
              "</table>\n"
            ],
            "text/markdown": [
              "\n",
              "gene.name | baseMean | log2FoldChange | lfcSE | stat | pvalue | padj | \n",
              "|---|---|---|---|---|---|\n",
              "| TSPAN6       |  25.256745   |  1.30246882  | 0.4166710    |  3.1258926   | 1.772662e-03 | 8.209295e-03 | \n",
              "| TNMD         |   0.288508   | -0.05077872  | 0.4875003    | -0.1041614   | 9.170413e-01 |           NA | \n",
              "| DPM1         | 163.507773   | -0.05502833  | 0.2492486    | -0.2207769   | 8.252662e-01 | 9.144493e-01 | \n",
              "| SCYL3        | 296.461713   |  0.27370099  | 0.1964251    |  1.3934117   | 1.634953e-01 | 3.312390e-01 | \n",
              "| C1orf112     | 199.011986   | -1.62012005  | 0.2833121    | -5.7184998   | 1.070000e-08 | 1.590000e-07 | \n",
              "| FGR          | 122.792530   | -5.60936805  | 0.6378324    | -8.7944226   | 1.440000e-18 | 7.150000e-17 | \n",
              "\n\n"
            ],
            "text/latex": [
              "\\begin{tabular}{r|lllllll}\n",
              " gene.name & baseMean & log2FoldChange & lfcSE & stat & pvalue & padj\\\\\n",
              "\\hline\n",
              "\t TSPAN6       &  25.256745   &  1.30246882  & 0.4166710    &  3.1258926   & 1.772662e-03 & 8.209295e-03\\\\\n",
              "\t TNMD         &   0.288508   & -0.05077872  & 0.4875003    & -0.1041614   & 9.170413e-01 &           NA\\\\\n",
              "\t DPM1         & 163.507773   & -0.05502833  & 0.2492486    & -0.2207769   & 8.252662e-01 & 9.144493e-01\\\\\n",
              "\t SCYL3        & 296.461713   &  0.27370099  & 0.1964251    &  1.3934117   & 1.634953e-01 & 3.312390e-01\\\\\n",
              "\t C1orf112     & 199.011986   & -1.62012005  & 0.2833121    & -5.7184998   & 1.070000e-08 & 1.590000e-07\\\\\n",
              "\t FGR          & 122.792530   & -5.60936805  & 0.6378324    & -8.7944226   & 1.440000e-18 & 7.150000e-17\\\\\n",
              "\\end{tabular}\n"
            ],
            "text/plain": [
              "  gene.name baseMean   log2FoldChange lfcSE     stat       pvalue      \n",
              "1 TSPAN6     25.256745  1.30246882    0.4166710  3.1258926 1.772662e-03\n",
              "2 TNMD        0.288508 -0.05077872    0.4875003 -0.1041614 9.170413e-01\n",
              "3 DPM1      163.507773 -0.05502833    0.2492486 -0.2207769 8.252662e-01\n",
              "4 SCYL3     296.461713  0.27370099    0.1964251  1.3934117 1.634953e-01\n",
              "5 C1orf112  199.011986 -1.62012005    0.2833121 -5.7184998 1.070000e-08\n",
              "6 FGR       122.792530 -5.60936805    0.6378324 -8.7944226 1.440000e-18\n",
              "  padj        \n",
              "1 8.209295e-03\n",
              "2           NA\n",
              "3 9.144493e-01\n",
              "4 3.312390e-01\n",
              "5 1.590000e-07\n",
              "6 7.150000e-17"
            ]
          },
          "metadata": {}
        },
        {
          "output_type": "display_data",
          "data": {
            "text/html": [
              "<table>\n",
              "<thead><tr><th scope=col>gene.name</th><th scope=col>baseMean</th><th scope=col>log2FoldChange</th><th scope=col>lfcSE</th><th scope=col>stat</th><th scope=col>pvalue</th><th scope=col>padj</th></tr></thead>\n",
              "<tbody>\n",
              "\t<tr><td>TSPAN6      </td><td> 25.256745  </td><td> 0.79648366 </td><td>0.3778646   </td><td> 2.1078545  </td><td>3.504358e-02</td><td>1.592970e-01</td></tr>\n",
              "\t<tr><td>TNMD        </td><td>  0.288508  </td><td> 0.11136908 </td><td>0.5380579   </td><td> 0.2069835  </td><td>8.360228e-01</td><td>          NA</td></tr>\n",
              "\t<tr><td>DPM1        </td><td>163.507773  </td><td>-0.35399129 </td><td>0.2170358   </td><td>-1.6310274  </td><td>1.028845e-01</td><td>3.222973e-01</td></tr>\n",
              "\t<tr><td>SCYL3       </td><td>296.461713  </td><td> 0.07204111 </td><td>0.1698354   </td><td> 0.4241819  </td><td>6.714331e-01</td><td>8.587087e-01</td></tr>\n",
              "\t<tr><td>C1orf112    </td><td>199.011986  </td><td> 0.20171786 </td><td>0.2517235   </td><td> 0.8013470  </td><td>4.229308e-01</td><td>6.914181e-01</td></tr>\n",
              "\t<tr><td>FGR         </td><td>122.792530  </td><td>-3.99706084 </td><td>0.5938327   </td><td>-6.7309544  </td><td>1.690000e-11</td><td>1.250000e-09</td></tr>\n",
              "</tbody>\n",
              "</table>\n"
            ],
            "text/markdown": [
              "\n",
              "gene.name | baseMean | log2FoldChange | lfcSE | stat | pvalue | padj | \n",
              "|---|---|---|---|---|---|\n",
              "| TSPAN6       |  25.256745   |  0.79648366  | 0.3778646    |  2.1078545   | 3.504358e-02 | 1.592970e-01 | \n",
              "| TNMD         |   0.288508   |  0.11136908  | 0.5380579    |  0.2069835   | 8.360228e-01 |           NA | \n",
              "| DPM1         | 163.507773   | -0.35399129  | 0.2170358    | -1.6310274   | 1.028845e-01 | 3.222973e-01 | \n",
              "| SCYL3        | 296.461713   |  0.07204111  | 0.1698354    |  0.4241819   | 6.714331e-01 | 8.587087e-01 | \n",
              "| C1orf112     | 199.011986   |  0.20171786  | 0.2517235    |  0.8013470   | 4.229308e-01 | 6.914181e-01 | \n",
              "| FGR          | 122.792530   | -3.99706084  | 0.5938327    | -6.7309544   | 1.690000e-11 | 1.250000e-09 | \n",
              "\n\n"
            ],
            "text/latex": [
              "\\begin{tabular}{r|lllllll}\n",
              " gene.name & baseMean & log2FoldChange & lfcSE & stat & pvalue & padj\\\\\n",
              "\\hline\n",
              "\t TSPAN6       &  25.256745   &  0.79648366  & 0.3778646    &  2.1078545   & 3.504358e-02 & 1.592970e-01\\\\\n",
              "\t TNMD         &   0.288508   &  0.11136908  & 0.5380579    &  0.2069835   & 8.360228e-01 &           NA\\\\\n",
              "\t DPM1         & 163.507773   & -0.35399129  & 0.2170358    & -1.6310274   & 1.028845e-01 & 3.222973e-01\\\\\n",
              "\t SCYL3        & 296.461713   &  0.07204111  & 0.1698354    &  0.4241819   & 6.714331e-01 & 8.587087e-01\\\\\n",
              "\t C1orf112     & 199.011986   &  0.20171786  & 0.2517235    &  0.8013470   & 4.229308e-01 & 6.914181e-01\\\\\n",
              "\t FGR          & 122.792530   & -3.99706084  & 0.5938327    & -6.7309544   & 1.690000e-11 & 1.250000e-09\\\\\n",
              "\\end{tabular}\n"
            ],
            "text/plain": [
              "  gene.name baseMean   log2FoldChange lfcSE     stat       pvalue      \n",
              "1 TSPAN6     25.256745  0.79648366    0.3778646  2.1078545 3.504358e-02\n",
              "2 TNMD        0.288508  0.11136908    0.5380579  0.2069835 8.360228e-01\n",
              "3 DPM1      163.507773 -0.35399129    0.2170358 -1.6310274 1.028845e-01\n",
              "4 SCYL3     296.461713  0.07204111    0.1698354  0.4241819 6.714331e-01\n",
              "5 C1orf112  199.011986  0.20171786    0.2517235  0.8013470 4.229308e-01\n",
              "6 FGR       122.792530 -3.99706084    0.5938327 -6.7309544 1.690000e-11\n",
              "  padj        \n",
              "1 1.592970e-01\n",
              "2           NA\n",
              "3 3.222973e-01\n",
              "4 8.587087e-01\n",
              "5 6.914181e-01\n",
              "6 1.250000e-09"
            ]
          },
          "metadata": {}
        }
      ],
      "execution_count": 195,
      "metadata": {
        "collapsed": false,
        "outputHidden": false,
        "inputHidden": false
      }
    },
    {
      "cell_type": "code",
      "source": [
        "# 5.1-Subset the 2 datafreames\n",
        "df.nav.d14.sub <- df.nav.d14[c(\"baseMean\", \"log2FoldChange\",\"padj\")]\n",
        "df.nav.mem.sub <- df.nav.mem[c(\"baseMean\", \"log2FoldChange\",\"padj\")]\n",
        "head(df.nav.d14.sub)\n",
        "head(df.nav.mem.sub)"
      ],
      "outputs": [
        {
          "output_type": "display_data",
          "data": {
            "text/html": [
              "<table>\n",
              "<thead><tr><th scope=col>baseMean</th><th scope=col>log2FoldChange</th><th scope=col>padj</th></tr></thead>\n",
              "<tbody>\n",
              "\t<tr><td> 25.256745  </td><td> 1.30246882 </td><td>8.209295e-03</td></tr>\n",
              "\t<tr><td>  0.288508  </td><td>-0.05077872 </td><td>          NA</td></tr>\n",
              "\t<tr><td>163.507773  </td><td>-0.05502833 </td><td>9.144493e-01</td></tr>\n",
              "\t<tr><td>296.461713  </td><td> 0.27370099 </td><td>3.312390e-01</td></tr>\n",
              "\t<tr><td>199.011986  </td><td>-1.62012005 </td><td>1.590000e-07</td></tr>\n",
              "\t<tr><td>122.792530  </td><td>-5.60936805 </td><td>7.150000e-17</td></tr>\n",
              "</tbody>\n",
              "</table>\n"
            ],
            "text/markdown": [
              "\n",
              "baseMean | log2FoldChange | padj | \n",
              "|---|---|---|---|---|---|\n",
              "|  25.256745   |  1.30246882  | 8.209295e-03 | \n",
              "|   0.288508   | -0.05077872  |           NA | \n",
              "| 163.507773   | -0.05502833  | 9.144493e-01 | \n",
              "| 296.461713   |  0.27370099  | 3.312390e-01 | \n",
              "| 199.011986   | -1.62012005  | 1.590000e-07 | \n",
              "| 122.792530   | -5.60936805  | 7.150000e-17 | \n",
              "\n\n"
            ],
            "text/latex": [
              "\\begin{tabular}{r|lll}\n",
              " baseMean & log2FoldChange & padj\\\\\n",
              "\\hline\n",
              "\t  25.256745   &  1.30246882  & 8.209295e-03\\\\\n",
              "\t   0.288508   & -0.05077872  &           NA\\\\\n",
              "\t 163.507773   & -0.05502833  & 9.144493e-01\\\\\n",
              "\t 296.461713   &  0.27370099  & 3.312390e-01\\\\\n",
              "\t 199.011986   & -1.62012005  & 1.590000e-07\\\\\n",
              "\t 122.792530   & -5.60936805  & 7.150000e-17\\\\\n",
              "\\end{tabular}\n"
            ],
            "text/plain": [
              "  baseMean   log2FoldChange padj        \n",
              "1  25.256745  1.30246882    8.209295e-03\n",
              "2   0.288508 -0.05077872              NA\n",
              "3 163.507773 -0.05502833    9.144493e-01\n",
              "4 296.461713  0.27370099    3.312390e-01\n",
              "5 199.011986 -1.62012005    1.590000e-07\n",
              "6 122.792530 -5.60936805    7.150000e-17"
            ]
          },
          "metadata": {}
        },
        {
          "output_type": "display_data",
          "data": {
            "text/html": [
              "<table>\n",
              "<thead><tr><th scope=col>baseMean</th><th scope=col>log2FoldChange</th><th scope=col>padj</th></tr></thead>\n",
              "<tbody>\n",
              "\t<tr><td> 25.256745  </td><td> 0.79648366 </td><td>1.592970e-01</td></tr>\n",
              "\t<tr><td>  0.288508  </td><td> 0.11136908 </td><td>          NA</td></tr>\n",
              "\t<tr><td>163.507773  </td><td>-0.35399129 </td><td>3.222973e-01</td></tr>\n",
              "\t<tr><td>296.461713  </td><td> 0.07204111 </td><td>8.587087e-01</td></tr>\n",
              "\t<tr><td>199.011986  </td><td> 0.20171786 </td><td>6.914181e-01</td></tr>\n",
              "\t<tr><td>122.792530  </td><td>-3.99706084 </td><td>1.250000e-09</td></tr>\n",
              "</tbody>\n",
              "</table>\n"
            ],
            "text/markdown": [
              "\n",
              "baseMean | log2FoldChange | padj | \n",
              "|---|---|---|---|---|---|\n",
              "|  25.256745   |  0.79648366  | 1.592970e-01 | \n",
              "|   0.288508   |  0.11136908  |           NA | \n",
              "| 163.507773   | -0.35399129  | 3.222973e-01 | \n",
              "| 296.461713   |  0.07204111  | 8.587087e-01 | \n",
              "| 199.011986   |  0.20171786  | 6.914181e-01 | \n",
              "| 122.792530   | -3.99706084  | 1.250000e-09 | \n",
              "\n\n"
            ],
            "text/latex": [
              "\\begin{tabular}{r|lll}\n",
              " baseMean & log2FoldChange & padj\\\\\n",
              "\\hline\n",
              "\t  25.256745   &  0.79648366  & 1.592970e-01\\\\\n",
              "\t   0.288508   &  0.11136908  &           NA\\\\\n",
              "\t 163.507773   & -0.35399129  & 3.222973e-01\\\\\n",
              "\t 296.461713   &  0.07204111  & 8.587087e-01\\\\\n",
              "\t 199.011986   &  0.20171786  & 6.914181e-01\\\\\n",
              "\t 122.792530   & -3.99706084  & 1.250000e-09\\\\\n",
              "\\end{tabular}\n"
            ],
            "text/plain": [
              "  baseMean   log2FoldChange padj        \n",
              "1  25.256745  0.79648366    1.592970e-01\n",
              "2   0.288508  0.11136908              NA\n",
              "3 163.507773 -0.35399129    3.222973e-01\n",
              "4 296.461713  0.07204111    8.587087e-01\n",
              "5 199.011986  0.20171786    6.914181e-01\n",
              "6 122.792530 -3.99706084    1.250000e-09"
            ]
          },
          "metadata": {}
        }
      ],
      "execution_count": 196,
      "metadata": {
        "collapsed": false,
        "outputHidden": false,
        "inputHidden": false
      }
    },
    {
      "cell_type": "code",
      "source": [
        "# 5.2 Concatenate the 2 dataframes\n",
        "df.nav.d14.mem <- cbind(df.nav.d14.sub, df.nav.mem.sub)\n",
        "colnames(df.nav.d14.mem) <- c(\"baseMean\", \"log2FoldChange.x\", \"padj.x\", \"baseMean_NULL\", \"log2FoldChange.y\", \"padj.y\")\n",
        "df.nav.d14.mem$baseMean_NULL <- NULL\n",
        "head(df.nav.d14.mem)"
      ],
      "outputs": [
        {
          "output_type": "display_data",
          "data": {
            "text/html": [
              "<table>\n",
              "<thead><tr><th scope=col>baseMean</th><th scope=col>log2FoldChange.x</th><th scope=col>padj.x</th><th scope=col>log2FoldChange.y</th><th scope=col>padj.y</th></tr></thead>\n",
              "<tbody>\n",
              "\t<tr><td> 25.256745  </td><td> 1.30246882 </td><td>8.209295e-03</td><td> 0.79648366 </td><td>1.592970e-01</td></tr>\n",
              "\t<tr><td>  0.288508  </td><td>-0.05077872 </td><td>          NA</td><td> 0.11136908 </td><td>          NA</td></tr>\n",
              "\t<tr><td>163.507773  </td><td>-0.05502833 </td><td>9.144493e-01</td><td>-0.35399129 </td><td>3.222973e-01</td></tr>\n",
              "\t<tr><td>296.461713  </td><td> 0.27370099 </td><td>3.312390e-01</td><td> 0.07204111 </td><td>8.587087e-01</td></tr>\n",
              "\t<tr><td>199.011986  </td><td>-1.62012005 </td><td>1.590000e-07</td><td> 0.20171786 </td><td>6.914181e-01</td></tr>\n",
              "\t<tr><td>122.792530  </td><td>-5.60936805 </td><td>7.150000e-17</td><td>-3.99706084 </td><td>1.250000e-09</td></tr>\n",
              "</tbody>\n",
              "</table>\n"
            ],
            "text/markdown": [
              "\n",
              "baseMean | log2FoldChange.x | padj.x | log2FoldChange.y | padj.y | \n",
              "|---|---|---|---|---|---|\n",
              "|  25.256745   |  1.30246882  | 8.209295e-03 |  0.79648366  | 1.592970e-01 | \n",
              "|   0.288508   | -0.05077872  |           NA |  0.11136908  |           NA | \n",
              "| 163.507773   | -0.05502833  | 9.144493e-01 | -0.35399129  | 3.222973e-01 | \n",
              "| 296.461713   |  0.27370099  | 3.312390e-01 |  0.07204111  | 8.587087e-01 | \n",
              "| 199.011986   | -1.62012005  | 1.590000e-07 |  0.20171786  | 6.914181e-01 | \n",
              "| 122.792530   | -5.60936805  | 7.150000e-17 | -3.99706084  | 1.250000e-09 | \n",
              "\n\n"
            ],
            "text/latex": [
              "\\begin{tabular}{r|lllll}\n",
              " baseMean & log2FoldChange.x & padj.x & log2FoldChange.y & padj.y\\\\\n",
              "\\hline\n",
              "\t  25.256745   &  1.30246882  & 8.209295e-03 &  0.79648366  & 1.592970e-01\\\\\n",
              "\t   0.288508   & -0.05077872  &           NA &  0.11136908  &           NA\\\\\n",
              "\t 163.507773   & -0.05502833  & 9.144493e-01 & -0.35399129  & 3.222973e-01\\\\\n",
              "\t 296.461713   &  0.27370099  & 3.312390e-01 &  0.07204111  & 8.587087e-01\\\\\n",
              "\t 199.011986   & -1.62012005  & 1.590000e-07 &  0.20171786  & 6.914181e-01\\\\\n",
              "\t 122.792530   & -5.60936805  & 7.150000e-17 & -3.99706084  & 1.250000e-09\\\\\n",
              "\\end{tabular}\n"
            ],
            "text/plain": [
              "  baseMean   log2FoldChange.x padj.x       log2FoldChange.y padj.y      \n",
              "1  25.256745  1.30246882      8.209295e-03  0.79648366      1.592970e-01\n",
              "2   0.288508 -0.05077872                NA  0.11136908                NA\n",
              "3 163.507773 -0.05502833      9.144493e-01 -0.35399129      3.222973e-01\n",
              "4 296.461713  0.27370099      3.312390e-01  0.07204111      8.587087e-01\n",
              "5 199.011986 -1.62012005      1.590000e-07  0.20171786      6.914181e-01\n",
              "6 122.792530 -5.60936805      7.150000e-17 -3.99706084      1.250000e-09"
            ]
          },
          "metadata": {}
        }
      ],
      "execution_count": 197,
      "metadata": {
        "collapsed": false,
        "outputHidden": false,
        "inputHidden": false
      }
    },
    {
      "cell_type": "code",
      "source": [
        "# 5.3 Sort the rbind dataframe\n",
        "df.nav.d14.mem.srt <- df.nav.d14.mem[order(df.nav.d14.mem$baseMean),]\n",
        "head(df.nav.d14.mem.srt)"
      ],
      "outputs": [
        {
          "output_type": "display_data",
          "data": {
            "text/html": [
              "<table>\n",
              "<thead><tr><th></th><th scope=col>baseMean</th><th scope=col>log2FoldChange.x</th><th scope=col>padj.x</th><th scope=col>log2FoldChange.y</th><th scope=col>padj.y</th></tr></thead>\n",
              "<tbody>\n",
              "\t<tr><th scope=row>78</th><td>0.05932533 </td><td> 0.08516965</td><td>NA         </td><td> 0.03467809</td><td>NA         </td></tr>\n",
              "\t<tr><th scope=row>143</th><td>0.09053621 </td><td> 0.00000000</td><td>NA         </td><td>-0.12804415</td><td>NA         </td></tr>\n",
              "\t<tr><th scope=row>177</th><td>0.11865065 </td><td> 0.15015459</td><td>NA         </td><td> 0.11006061</td><td>NA         </td></tr>\n",
              "\t<tr><th scope=row>399</th><td>0.14345538 </td><td> 0.06952303</td><td>NA         </td><td>-0.05276310</td><td>NA         </td></tr>\n",
              "\t<tr><th scope=row>382</th><td>0.15787023 </td><td>-0.11999276</td><td>NA         </td><td> 0.02561065</td><td>NA         </td></tr>\n",
              "\t<tr><th scope=row>121</th><td>0.21961349 </td><td>-0.05017946</td><td>NA         </td><td> 0.10178886</td><td>NA         </td></tr>\n",
              "</tbody>\n",
              "</table>\n"
            ],
            "text/markdown": [
              "\n",
              "| <!--/--> | baseMean | log2FoldChange.x | padj.x | log2FoldChange.y | padj.y | \n",
              "|---|---|---|---|---|---|\n",
              "| 78 | 0.05932533  |  0.08516965 | NA          |  0.03467809 | NA          | \n",
              "| 143 | 0.09053621  |  0.00000000 | NA          | -0.12804415 | NA          | \n",
              "| 177 | 0.11865065  |  0.15015459 | NA          |  0.11006061 | NA          | \n",
              "| 399 | 0.14345538  |  0.06952303 | NA          | -0.05276310 | NA          | \n",
              "| 382 | 0.15787023  | -0.11999276 | NA          |  0.02561065 | NA          | \n",
              "| 121 | 0.21961349  | -0.05017946 | NA          |  0.10178886 | NA          | \n",
              "\n\n"
            ],
            "text/latex": [
              "\\begin{tabular}{r|lllll}\n",
              "  & baseMean & log2FoldChange.x & padj.x & log2FoldChange.y & padj.y\\\\\n",
              "\\hline\n",
              "\t78 & 0.05932533  &  0.08516965 & NA          &  0.03467809 & NA         \\\\\n",
              "\t143 & 0.09053621  &  0.00000000 & NA          & -0.12804415 & NA         \\\\\n",
              "\t177 & 0.11865065  &  0.15015459 & NA          &  0.11006061 & NA         \\\\\n",
              "\t399 & 0.14345538  &  0.06952303 & NA          & -0.05276310 & NA         \\\\\n",
              "\t382 & 0.15787023  & -0.11999276 & NA          &  0.02561065 & NA         \\\\\n",
              "\t121 & 0.21961349  & -0.05017946 & NA          &  0.10178886 & NA         \\\\\n",
              "\\end{tabular}\n"
            ],
            "text/plain": [
              "    baseMean   log2FoldChange.x padj.x log2FoldChange.y padj.y\n",
              "78  0.05932533  0.08516965      NA      0.03467809      NA    \n",
              "143 0.09053621  0.00000000      NA     -0.12804415      NA    \n",
              "177 0.11865065  0.15015459      NA      0.11006061      NA    \n",
              "399 0.14345538  0.06952303      NA     -0.05276310      NA    \n",
              "382 0.15787023 -0.11999276      NA      0.02561065      NA    \n",
              "121 0.21961349 -0.05017946      NA      0.10178886      NA    "
            ]
          },
          "metadata": {}
        }
      ],
      "execution_count": 198,
      "metadata": {
        "collapsed": false,
        "outputHidden": false,
        "inputHidden": false
      }
    },
    {
      "cell_type": "code",
      "source": [
        "# Alternative Solution: 5.2/5.3-Merge and sort by baseMean\n",
        "df.nav.d14.mem <- merge(df.nav.d14.sub, df.nav.mem.sub, by = \"baseMean\")\n",
        "head(df.nav.d14.mem)"
      ],
      "outputs": [
        {
          "output_type": "display_data",
          "data": {
            "text/html": [
              "<table>\n",
              "<thead><tr><th scope=col>baseMean</th><th scope=col>log2FoldChange.x</th><th scope=col>padj.x</th><th scope=col>log2FoldChange.y</th><th scope=col>padj.y</th></tr></thead>\n",
              "<tbody>\n",
              "\t<tr><td>0.05932533 </td><td> 0.08516965</td><td>NA         </td><td> 0.03467809</td><td>NA         </td></tr>\n",
              "\t<tr><td>0.09053621 </td><td> 0.00000000</td><td>NA         </td><td>-0.12804415</td><td>NA         </td></tr>\n",
              "\t<tr><td>0.11865065 </td><td> 0.15015459</td><td>NA         </td><td> 0.11006061</td><td>NA         </td></tr>\n",
              "\t<tr><td>0.14345538 </td><td> 0.06952303</td><td>NA         </td><td>-0.05276310</td><td>NA         </td></tr>\n",
              "\t<tr><td>0.15787023 </td><td>-0.11999276</td><td>NA         </td><td> 0.02561065</td><td>NA         </td></tr>\n",
              "\t<tr><td>0.21961349 </td><td>-0.05017946</td><td>NA         </td><td> 0.10178886</td><td>NA         </td></tr>\n",
              "</tbody>\n",
              "</table>\n"
            ],
            "text/markdown": [
              "\n",
              "baseMean | log2FoldChange.x | padj.x | log2FoldChange.y | padj.y | \n",
              "|---|---|---|---|---|---|\n",
              "| 0.05932533  |  0.08516965 | NA          |  0.03467809 | NA          | \n",
              "| 0.09053621  |  0.00000000 | NA          | -0.12804415 | NA          | \n",
              "| 0.11865065  |  0.15015459 | NA          |  0.11006061 | NA          | \n",
              "| 0.14345538  |  0.06952303 | NA          | -0.05276310 | NA          | \n",
              "| 0.15787023  | -0.11999276 | NA          |  0.02561065 | NA          | \n",
              "| 0.21961349  | -0.05017946 | NA          |  0.10178886 | NA          | \n",
              "\n\n"
            ],
            "text/latex": [
              "\\begin{tabular}{r|lllll}\n",
              " baseMean & log2FoldChange.x & padj.x & log2FoldChange.y & padj.y\\\\\n",
              "\\hline\n",
              "\t 0.05932533  &  0.08516965 & NA          &  0.03467809 & NA         \\\\\n",
              "\t 0.09053621  &  0.00000000 & NA          & -0.12804415 & NA         \\\\\n",
              "\t 0.11865065  &  0.15015459 & NA          &  0.11006061 & NA         \\\\\n",
              "\t 0.14345538  &  0.06952303 & NA          & -0.05276310 & NA         \\\\\n",
              "\t 0.15787023  & -0.11999276 & NA          &  0.02561065 & NA         \\\\\n",
              "\t 0.21961349  & -0.05017946 & NA          &  0.10178886 & NA         \\\\\n",
              "\\end{tabular}\n"
            ],
            "text/plain": [
              "  baseMean   log2FoldChange.x padj.x log2FoldChange.y padj.y\n",
              "1 0.05932533  0.08516965      NA      0.03467809      NA    \n",
              "2 0.09053621  0.00000000      NA     -0.12804415      NA    \n",
              "3 0.11865065  0.15015459      NA      0.11006061      NA    \n",
              "4 0.14345538  0.06952303      NA     -0.05276310      NA    \n",
              "5 0.15787023 -0.11999276      NA      0.02561065      NA    \n",
              "6 0.21961349 -0.05017946      NA      0.10178886      NA    "
            ]
          },
          "metadata": {}
        }
      ],
      "execution_count": 199,
      "metadata": {
        "collapsed": false,
        "outputHidden": false,
        "inputHidden": false
      }
    },
    {
      "cell_type": "code",
      "source": [
        "# 5.4-Define function to test padj as NA/sig/nonsig\n",
        "sigTest <- function(x){\n",
        "    if (is.na(x)) {\n",
        "        return(NA)\n",
        "    }\n",
        "    if (x > 0.05){\n",
        "        return(\"nonsig\")\n",
        "    }\n",
        "    else if (x <= 0.05){\n",
        "        return(\"sig\")\n",
        "    }\n",
        "}"
      ],
      "outputs": [],
      "execution_count": 279,
      "metadata": {
        "collapsed": false,
        "outputHidden": false,
        "inputHidden": false
      }
    },
    {
      "cell_type": "code",
      "source": [
        "# 5.5-Apply the function to test nav.d14 and nav.mem\n",
        "df.nav.d14.sigtest <- lapply(df.nav.d14$padj,sigTest)\n",
        "df.nav.mem.sigtest <- lapply(df.nav.mem$padj,sigTest)"
      ],
      "outputs": [],
      "execution_count": 282,
      "metadata": {
        "collapsed": false,
        "outputHidden": false,
        "inputHidden": false
      }
    },
    {
      "cell_type": "code",
      "source": [
        "# 5.5-Append results to nav.d14\n",
        "df.nav.d14.type <- data.frame(unlist(df.nav.d14.sigtest),stringsAsFactors=FALSE)\n",
        "colnames(df.nav.d14.type) <- c(\"Type\")\n",
        "df.nav.d14.results <- cbind(df.nav.d14, df.nav.d14.type)\n",
        "head(df.nav.d14.results)"
      ],
      "outputs": [
        {
          "output_type": "display_data",
          "data": {
            "text/html": [
              "<table>\n",
              "<thead><tr><th scope=col>gene.name</th><th scope=col>baseMean</th><th scope=col>log2FoldChange</th><th scope=col>lfcSE</th><th scope=col>stat</th><th scope=col>pvalue</th><th scope=col>padj</th><th scope=col>Type</th></tr></thead>\n",
              "<tbody>\n",
              "\t<tr><td>TSPAN6      </td><td> 25.256745  </td><td> 1.30246882 </td><td>0.4166710   </td><td> 3.1258926  </td><td>1.772662e-03</td><td>8.209295e-03</td><td>sig         </td></tr>\n",
              "\t<tr><td>TNMD        </td><td>  0.288508  </td><td>-0.05077872 </td><td>0.4875003   </td><td>-0.1041614  </td><td>9.170413e-01</td><td>          NA</td><td>NA          </td></tr>\n",
              "\t<tr><td>DPM1        </td><td>163.507773  </td><td>-0.05502833 </td><td>0.2492486   </td><td>-0.2207769  </td><td>8.252662e-01</td><td>9.144493e-01</td><td>nonsig      </td></tr>\n",
              "\t<tr><td>SCYL3       </td><td>296.461713  </td><td> 0.27370099 </td><td>0.1964251   </td><td> 1.3934117  </td><td>1.634953e-01</td><td>3.312390e-01</td><td>nonsig      </td></tr>\n",
              "\t<tr><td>C1orf112    </td><td>199.011986  </td><td>-1.62012005 </td><td>0.2833121   </td><td>-5.7184998  </td><td>1.070000e-08</td><td>1.590000e-07</td><td>sig         </td></tr>\n",
              "\t<tr><td>FGR         </td><td>122.792530  </td><td>-5.60936805 </td><td>0.6378324   </td><td>-8.7944226  </td><td>1.440000e-18</td><td>7.150000e-17</td><td>sig         </td></tr>\n",
              "</tbody>\n",
              "</table>\n"
            ],
            "text/markdown": [
              "\n",
              "gene.name | baseMean | log2FoldChange | lfcSE | stat | pvalue | padj | Type | \n",
              "|---|---|---|---|---|---|\n",
              "| TSPAN6       |  25.256745   |  1.30246882  | 0.4166710    |  3.1258926   | 1.772662e-03 | 8.209295e-03 | sig          | \n",
              "| TNMD         |   0.288508   | -0.05077872  | 0.4875003    | -0.1041614   | 9.170413e-01 |           NA | NA           | \n",
              "| DPM1         | 163.507773   | -0.05502833  | 0.2492486    | -0.2207769   | 8.252662e-01 | 9.144493e-01 | nonsig       | \n",
              "| SCYL3        | 296.461713   |  0.27370099  | 0.1964251    |  1.3934117   | 1.634953e-01 | 3.312390e-01 | nonsig       | \n",
              "| C1orf112     | 199.011986   | -1.62012005  | 0.2833121    | -5.7184998   | 1.070000e-08 | 1.590000e-07 | sig          | \n",
              "| FGR          | 122.792530   | -5.60936805  | 0.6378324    | -8.7944226   | 1.440000e-18 | 7.150000e-17 | sig          | \n",
              "\n\n"
            ],
            "text/latex": [
              "\\begin{tabular}{r|llllllll}\n",
              " gene.name & baseMean & log2FoldChange & lfcSE & stat & pvalue & padj & Type\\\\\n",
              "\\hline\n",
              "\t TSPAN6       &  25.256745   &  1.30246882  & 0.4166710    &  3.1258926   & 1.772662e-03 & 8.209295e-03 & sig         \\\\\n",
              "\t TNMD         &   0.288508   & -0.05077872  & 0.4875003    & -0.1041614   & 9.170413e-01 &           NA & NA          \\\\\n",
              "\t DPM1         & 163.507773   & -0.05502833  & 0.2492486    & -0.2207769   & 8.252662e-01 & 9.144493e-01 & nonsig      \\\\\n",
              "\t SCYL3        & 296.461713   &  0.27370099  & 0.1964251    &  1.3934117   & 1.634953e-01 & 3.312390e-01 & nonsig      \\\\\n",
              "\t C1orf112     & 199.011986   & -1.62012005  & 0.2833121    & -5.7184998   & 1.070000e-08 & 1.590000e-07 & sig         \\\\\n",
              "\t FGR          & 122.792530   & -5.60936805  & 0.6378324    & -8.7944226   & 1.440000e-18 & 7.150000e-17 & sig         \\\\\n",
              "\\end{tabular}\n"
            ],
            "text/plain": [
              "  gene.name baseMean   log2FoldChange lfcSE     stat       pvalue      \n",
              "1 TSPAN6     25.256745  1.30246882    0.4166710  3.1258926 1.772662e-03\n",
              "2 TNMD        0.288508 -0.05077872    0.4875003 -0.1041614 9.170413e-01\n",
              "3 DPM1      163.507773 -0.05502833    0.2492486 -0.2207769 8.252662e-01\n",
              "4 SCYL3     296.461713  0.27370099    0.1964251  1.3934117 1.634953e-01\n",
              "5 C1orf112  199.011986 -1.62012005    0.2833121 -5.7184998 1.070000e-08\n",
              "6 FGR       122.792530 -5.60936805    0.6378324 -8.7944226 1.440000e-18\n",
              "  padj         Type  \n",
              "1 8.209295e-03 sig   \n",
              "2           NA NA    \n",
              "3 9.144493e-01 nonsig\n",
              "4 3.312390e-01 nonsig\n",
              "5 1.590000e-07 sig   \n",
              "6 7.150000e-17 sig   "
            ]
          },
          "metadata": {}
        }
      ],
      "execution_count": 285,
      "metadata": {
        "collapsed": false,
        "outputHidden": false,
        "inputHidden": false
      }
    },
    {
      "cell_type": "code",
      "source": [
        "# 5.5-Append results to nav.mem\n",
        "df.nav.mem.type <- data.frame(unlist(df.nav.mem.sigtest),stringsAsFactors=FALSE)\n",
        "colnames(df.nav.mem.type) <- c(\"Type\")\n",
        "df.nav.mem.results <- cbind(df.nav.mem, df.nav.mem.type)\n",
        "head(df.nav.mem.results)"
      ],
      "outputs": [
        {
          "output_type": "display_data",
          "data": {
            "text/html": [
              "<table>\n",
              "<thead><tr><th scope=col>gene.name</th><th scope=col>baseMean</th><th scope=col>log2FoldChange</th><th scope=col>lfcSE</th><th scope=col>stat</th><th scope=col>pvalue</th><th scope=col>padj</th><th scope=col>Type</th></tr></thead>\n",
              "<tbody>\n",
              "\t<tr><td>TSPAN6      </td><td> 25.256745  </td><td> 0.79648366 </td><td>0.3778646   </td><td> 2.1078545  </td><td>3.504358e-02</td><td>1.592970e-01</td><td>nonsig      </td></tr>\n",
              "\t<tr><td>TNMD        </td><td>  0.288508  </td><td> 0.11136908 </td><td>0.5380579   </td><td> 0.2069835  </td><td>8.360228e-01</td><td>          NA</td><td>NA          </td></tr>\n",
              "\t<tr><td>DPM1        </td><td>163.507773  </td><td>-0.35399129 </td><td>0.2170358   </td><td>-1.6310274  </td><td>1.028845e-01</td><td>3.222973e-01</td><td>nonsig      </td></tr>\n",
              "\t<tr><td>SCYL3       </td><td>296.461713  </td><td> 0.07204111 </td><td>0.1698354   </td><td> 0.4241819  </td><td>6.714331e-01</td><td>8.587087e-01</td><td>nonsig      </td></tr>\n",
              "\t<tr><td>C1orf112    </td><td>199.011986  </td><td> 0.20171786 </td><td>0.2517235   </td><td> 0.8013470  </td><td>4.229308e-01</td><td>6.914181e-01</td><td>nonsig      </td></tr>\n",
              "\t<tr><td>FGR         </td><td>122.792530  </td><td>-3.99706084 </td><td>0.5938327   </td><td>-6.7309544  </td><td>1.690000e-11</td><td>1.250000e-09</td><td>sig         </td></tr>\n",
              "</tbody>\n",
              "</table>\n"
            ],
            "text/markdown": [
              "\n",
              "gene.name | baseMean | log2FoldChange | lfcSE | stat | pvalue | padj | Type | \n",
              "|---|---|---|---|---|---|\n",
              "| TSPAN6       |  25.256745   |  0.79648366  | 0.3778646    |  2.1078545   | 3.504358e-02 | 1.592970e-01 | nonsig       | \n",
              "| TNMD         |   0.288508   |  0.11136908  | 0.5380579    |  0.2069835   | 8.360228e-01 |           NA | NA           | \n",
              "| DPM1         | 163.507773   | -0.35399129  | 0.2170358    | -1.6310274   | 1.028845e-01 | 3.222973e-01 | nonsig       | \n",
              "| SCYL3        | 296.461713   |  0.07204111  | 0.1698354    |  0.4241819   | 6.714331e-01 | 8.587087e-01 | nonsig       | \n",
              "| C1orf112     | 199.011986   |  0.20171786  | 0.2517235    |  0.8013470   | 4.229308e-01 | 6.914181e-01 | nonsig       | \n",
              "| FGR          | 122.792530   | -3.99706084  | 0.5938327    | -6.7309544   | 1.690000e-11 | 1.250000e-09 | sig          | \n",
              "\n\n"
            ],
            "text/latex": [
              "\\begin{tabular}{r|llllllll}\n",
              " gene.name & baseMean & log2FoldChange & lfcSE & stat & pvalue & padj & Type\\\\\n",
              "\\hline\n",
              "\t TSPAN6       &  25.256745   &  0.79648366  & 0.3778646    &  2.1078545   & 3.504358e-02 & 1.592970e-01 & nonsig      \\\\\n",
              "\t TNMD         &   0.288508   &  0.11136908  & 0.5380579    &  0.2069835   & 8.360228e-01 &           NA & NA          \\\\\n",
              "\t DPM1         & 163.507773   & -0.35399129  & 0.2170358    & -1.6310274   & 1.028845e-01 & 3.222973e-01 & nonsig      \\\\\n",
              "\t SCYL3        & 296.461713   &  0.07204111  & 0.1698354    &  0.4241819   & 6.714331e-01 & 8.587087e-01 & nonsig      \\\\\n",
              "\t C1orf112     & 199.011986   &  0.20171786  & 0.2517235    &  0.8013470   & 4.229308e-01 & 6.914181e-01 & nonsig      \\\\\n",
              "\t FGR          & 122.792530   & -3.99706084  & 0.5938327    & -6.7309544   & 1.690000e-11 & 1.250000e-09 & sig         \\\\\n",
              "\\end{tabular}\n"
            ],
            "text/plain": [
              "  gene.name baseMean   log2FoldChange lfcSE     stat       pvalue      \n",
              "1 TSPAN6     25.256745  0.79648366    0.3778646  2.1078545 3.504358e-02\n",
              "2 TNMD        0.288508  0.11136908    0.5380579  0.2069835 8.360228e-01\n",
              "3 DPM1      163.507773 -0.35399129    0.2170358 -1.6310274 1.028845e-01\n",
              "4 SCYL3     296.461713  0.07204111    0.1698354  0.4241819 6.714331e-01\n",
              "5 C1orf112  199.011986  0.20171786    0.2517235  0.8013470 4.229308e-01\n",
              "6 FGR       122.792530 -3.99706084    0.5938327 -6.7309544 1.690000e-11\n",
              "  padj         Type  \n",
              "1 1.592970e-01 nonsig\n",
              "2           NA NA    \n",
              "3 3.222973e-01 nonsig\n",
              "4 8.587087e-01 nonsig\n",
              "5 6.914181e-01 nonsig\n",
              "6 1.250000e-09 sig   "
            ]
          },
          "metadata": {}
        }
      ],
      "execution_count": 288,
      "metadata": {
        "collapsed": false,
        "outputHidden": false,
        "inputHidden": false
      }
    },
    {
      "cell_type": "code",
      "source": [],
      "outputs": [],
      "execution_count": null,
      "metadata": {
        "collapsed": false,
        "outputHidden": false,
        "inputHidden": false
      }
    }
  ],
  "metadata": {
    "kernelspec": {
      "name": "ir",
      "language": "R",
      "display_name": "R"
    },
    "language_info": {
      "name": "R",
      "codemirror_mode": "r",
      "pygments_lexer": "r",
      "mimetype": "text/x-r-source",
      "file_extension": ".r",
      "version": "3.5.1"
    },
    "kernel_info": {
      "name": "ir"
    },
    "nteract": {
      "version": "0.11.9"
    }
  },
  "nbformat": 4,
  "nbformat_minor": 2
}