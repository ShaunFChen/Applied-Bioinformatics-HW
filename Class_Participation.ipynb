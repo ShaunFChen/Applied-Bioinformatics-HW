{
  "cells": [
    {
      "cell_type": "markdown",
      "source": [
        "# Class Participation - Shaun Chen"
      ],
      "metadata": {}
    },
    {
      "cell_type": "markdown",
      "source": [
        "### Question asked on Biostars: (as ID: freezingsleet97)  \n",
        " - [CrossMap liftover: REF alleles in VCF files overwritten by reference genome file.](https://www.biostars.org/p/350271/)"
      ],
      "metadata": {}
    },
    {
      "cell_type": "markdown",
      "source": [
        "### Answer questions on Slack:\n",
        " - [Configurate multiple versions of R.](https://scrippsresearch.slack.com/archives/CC9A0LQ3B/p1536162392000100)\n",
        " - [View text file.](https://scrippsresearch.slack.com/archives/CC9A0LQ3B/p1536184731000100)\n",
        " - [\"`wc -l`\" actually counts line number by line break \"`\\n`\".](https://scrippsresearch.slack.com/archives/CC9A0LQ3B/p1536618597000100)"
      ],
      "metadata": {}
    },
    {
      "cell_type": "markdown",
      "source": [],
      "metadata": {}
    },
    {
      "cell_type": "markdown",
      "source": [],
      "metadata": {}
    }
  ],
  "metadata": {
    "kernel_info": {
      "name": "python3"
    },
    "language_info": {
      "name": "python",
      "version": "3.7.1",
      "mimetype": "text/x-python",
      "codemirror_mode": {
        "name": "ipython",
        "version": 3
      },
      "pygments_lexer": "ipython3",
      "nbconvert_exporter": "python",
      "file_extension": ".py"
    },
    "kernelspec": {
      "name": "python3",
      "language": "python",
      "display_name": "Python 3"
    },
    "nteract": {
      "version": "0.12.3"
    }
  },
  "nbformat": 4,
  "nbformat_minor": 4
}