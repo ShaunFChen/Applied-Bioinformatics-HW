{
  "cells": [
    {
      "cell_type": "markdown",
      "source": [
        "# 1.6 awk\n",
        "\nThis notebook will demonstrate the basics of using `awk` to extract specific fields from within data files."
      ],
      "metadata": {}
    },
    {
      "cell_type": "markdown",
      "source": [
        "#### manual inspection of `artists.txt`\n",
        "\n",
        "There are at least two options for loading `artists.txt` into your favorite spreadsheet program:\n",
        "\n",
        "* you already have the file on your computer somewhere on your file system, so you can load it from there (if you can figure it out)\n",
        "* you can download the text file from https://raw.githubusercontent.com/SuLab/Applied-Bioinformatics/master/Module-1_bash-jupyter-git/data/art/artists.txt\n",
        "\nNote that every row has four columns. "
      ],
      "metadata": {}
    },
    {
      "cell_type": "markdown",
      "source": [
        "#### confirm using awk that each row has four columns\n",
        "Find and fix the error.\n",
        "\n",
        "```\n",
        "%%bash\n",
        "awk '{print NF}' artists.txt\n",
        "```"
      ],
      "metadata": {}
    },
    {
      "cell_type": "code",
      "source": [
        "%%bash\n",
        "awk ' BEGIN{ FS = \"\\t\" } ; {print NF}' artists.txt"
      ],
      "outputs": [
        {
          "output_type": "stream",
          "name": "stdout",
          "text": [
            "4\n",
            "4\n",
            "4\n",
            "4\n",
            "4\n",
            "4\n",
            "4\n",
            "4\n",
            "4\n",
            "4\n",
            "4\n",
            "4\n",
            "4\n",
            "4\n",
            "4\n",
            "4\n",
            "4\n",
            "4\n",
            "4\n",
            "4\n",
            "4\n",
            "4\n",
            "4\n",
            "4\n",
            "4\n",
            "4\n",
            "4\n",
            "4\n",
            "4\n",
            "4\n",
            "4\n",
            "4\n",
            "4\n",
            "4\n",
            "4\n",
            "4\n",
            "4\n",
            "4\n",
            "4\n",
            "4\n",
            "4\n",
            "4\n",
            "4\n",
            "4\n",
            "4\n",
            "4\n",
            "4\n",
            "4\n",
            "4\n",
            "4\n",
            "4\n",
            "4\n",
            "4\n",
            "4\n",
            "4\n",
            "4\n",
            "4\n",
            "4\n",
            "4\n",
            "4\n",
            "4\n",
            "4\n",
            "4\n",
            "4\n",
            "4\n",
            "4\n",
            "4\n",
            "4\n",
            "4\n",
            "4\n",
            "4\n",
            "4\n",
            "4\n",
            "4\n",
            "4\n",
            "4\n",
            "4\n",
            "4\n",
            "4\n",
            "4\n",
            "4\n",
            "4\n",
            "4\n",
            "4\n",
            "4\n",
            "4\n",
            "4\n",
            "4\n",
            "4\n",
            "4\n",
            "4\n",
            "4\n",
            "4\n",
            "4\n",
            "4\n",
            "4\n",
            "4\n",
            "4\n",
            "4\n",
            "4\n",
            "4\n",
            "4\n",
            "4\n",
            "4\n",
            "4\n",
            "4\n",
            "4\n",
            "4\n",
            "4\n",
            "4\n",
            "4\n",
            "4\n",
            "4\n",
            "4\n",
            "4\n",
            "4\n",
            "4\n",
            "4\n",
            "4\n",
            "4\n",
            "4\n",
            "4\n",
            "4\n",
            "4\n",
            "4\n",
            "4\n",
            "4\n",
            "4\n",
            "4\n",
            "4\n",
            "4\n",
            "4\n",
            "4\n",
            "4\n",
            "4\n",
            "4\n",
            "4\n",
            "4\n",
            "4\n",
            "4\n",
            "4\n",
            "4\n",
            "4\n",
            "4\n",
            "4\n",
            "4\n",
            "4\n",
            "4\n",
            "4\n",
            "4\n"
          ]
        }
      ],
      "execution_count": 4,
      "metadata": {}
    },
    {
      "cell_type": "markdown",
      "source": [
        "#### Print the third column\n",
        "Find and fix the error.\n",
        "```\n",
        "%%bash\n",
        "awk '{print $3}' artists.txt\n",
        "```"
      ],
      "metadata": {}
    },
    {
      "cell_type": "code",
      "source": [
        "%%bash\n",
        "awk ' BEGIN{ FS = \"\\t\" } ; {print $3}' artists.txt"
      ],
      "outputs": [
        {
          "output_type": "stream",
          "name": "stdout",
          "text": [
            "Baroque\n",
            "Romanticism\n",
            "Romanticism\n",
            "Romanticism\n",
            "Baroque\n",
            "Romanticism\n",
            "Baroque\n",
            "Realism\n",
            "Northern Renaissance\n",
            "Realism\n",
            "Romanticism\n",
            "Baroque\n",
            "Baroque\n",
            "Early Renaissance\n",
            "Medieval\n",
            "Early Renaissance\n",
            "Realism\n",
            "Medieval\n",
            "Medieval\n",
            "Early Renaissance\n",
            "High Renaissance\n",
            "Early Renaissance\n",
            "Baroque\n",
            "Baroque\n",
            "Baroque\n",
            "Rococo\n",
            "Neoclassicism\n",
            "Impressionism\n",
            "Baroque\n",
            "Baroque\n",
            "Mannerism\n",
            "Baroque\n",
            "Baroque\n",
            "Rococo\n",
            "Romanticism\n",
            "Baroque\n",
            "Baroque\n",
            "Rococo\n",
            "Baroque\n",
            "Baroque\n",
            "Mannerism\n",
            "Romanticism\n",
            "Rococo\n",
            "Baroque\n",
            "Baroque\n",
            "Baroque\n",
            "Neoclassicism\n",
            "Baroque\n",
            "Baroque\n",
            "Baroque\n",
            "Baroque\n",
            "Baroque\n",
            "Baroque\n",
            "Baroque\n",
            "Neoclassicism\n",
            "Mannerism\n",
            "Baroque\n",
            "Baroque\n",
            "Baroque\n",
            "Baroque\n",
            "Mannerism\n",
            "Romanticism\n",
            "Baroque\n",
            "Baroque\n",
            "Baroque\n",
            "Realism\n",
            "Romanticism\n",
            "Romanticism\n",
            "Romanticism\n",
            "Rococo\n",
            "Baroque\n",
            "Neoclassicism\n",
            "Baroque\n",
            "Baroque\n",
            "Baroque\n",
            "Rococo\n",
            "Rococo\n",
            "Rococo\n",
            "Neoclassicism\n",
            "Romanticism\n",
            "Northern Renaissance\n",
            "Romanticism\n",
            "Romanticism\n",
            "Baroque\n",
            "Baroque\n",
            "Romanticism\n",
            "Northern Renaissance\n",
            "Baroque\n",
            "Baroque\n",
            "Neoclassicism\n",
            "Rococo\n",
            "Mannerism\n",
            "Baroque\n",
            "Baroque\n",
            "Baroque\n",
            "Baroque\n",
            "Baroque\n",
            "Baroque\n",
            "Northern Renaissance\n",
            "Romanticism\n",
            "Mannerism\n",
            "Realism\n",
            "Early Renaissance\n",
            "High Renaissance\n",
            "Mannerism\n",
            "Realism\n",
            "Baroque\n",
            "High Renaissance\n",
            "Baroque\n",
            "Romanticism\n",
            "Mannerism\n",
            "Baroque\n",
            "Realism\n",
            "Romanticism\n",
            "Baroque\n",
            "Baroque\n",
            "Baroque\n",
            "Realism\n",
            "Neoclassicism\n",
            "Neoclassicism\n",
            "Baroque\n",
            "Baroque\n",
            "Baroque\n",
            "Baroque\n",
            "Baroque\n",
            "Early Renaissance\n",
            "Baroque\n",
            "Baroque\n",
            "Northern Renaissance\n",
            "Northern Renaissance\n",
            "Neoclassicism\n",
            "Medieval\n",
            "Early Renaissance\n",
            "Medieval\n",
            "Early Renaissance\n",
            "Medieval\n",
            "High Renaissance\n",
            "High Renaissance\n",
            "Neoclassicism\n",
            "Realism\n",
            "Rococo\n",
            "Medieval\n",
            "Early Renaissance\n",
            "Baroque\n",
            "Medieval\n",
            "Early Renaissance\n",
            "Mannerism\n",
            "Mannerism\n",
            "Early Renaissance\n",
            "Early Renaissance\n"
          ]
        }
      ],
      "execution_count": 3,
      "metadata": {}
    },
    {
      "cell_type": "markdown",
      "source": [
        "#### Use `uniq` (and another command) to find the most common art periods\n",
        "Find and fix the error(s).\n",
        "```\n",
        "%%bash\n",
        "awk '{print $3}' artists.txt | uniq\n",
        "```"
      ],
      "metadata": {}
    },
    {
      "cell_type": "code",
      "source": [
        "%%bash\n",
        "awk '{FS=\"\\t\";print$3}' artists.txt | sort | uniq"
      ],
      "outputs": [
        {
          "output_type": "stream",
          "name": "stdout",
          "text": [
            "(1581-1662)\n",
            "Baroque\n",
            "Early Renaissance\n",
            "High Renaissance\n",
            "Impressionism\n",
            "Mannerism\n",
            "Medieval\n",
            "Neoclassicism\n",
            "Northern Renaissance\n",
            "Realism\n",
            "Rococo\n",
            "Romanticism\n"
          ]
        }
      ],
      "execution_count": 39,
      "metadata": {}
    },
    {
      "cell_type": "code",
      "source": [
        "%%bash\n",
        "awk ' BEGIN{ FS = \"\\t\" } ; {print$3}' artists.txt | sort | uniq"
      ],
      "outputs": [
        {
          "output_type": "stream",
          "name": "stdout",
          "text": [
            "Baroque\n",
            "Early Renaissance\n",
            "High Renaissance\n",
            "Impressionism\n",
            "Mannerism\n",
            "Medieval\n",
            "Neoclassicism\n",
            "Northern Renaissance\n",
            "Realism\n",
            "Rococo\n",
            "Romanticism\n"
          ]
        }
      ],
      "execution_count": 46,
      "metadata": {}
    },
    {
      "cell_type": "code",
      "source": [
        "%%bash\n",
        "\nawk -F $'\\t' '{print $3}' artists.txt | sort | uniq"
      ],
      "outputs": [
        {
          "output_type": "stream",
          "name": "stdout",
          "text": [
            "Baroque\n",
            "Early Renaissance\n",
            "High Renaissance\n",
            "Impressionism\n",
            "Mannerism\n",
            "Medieval\n",
            "Neoclassicism\n",
            "Northern Renaissance\n",
            "Realism\n",
            "Rococo\n",
            "Romanticism\n"
          ]
        }
      ],
      "execution_count": 33,
      "metadata": {}
    },
    {
      "cell_type": "markdown",
      "source": [
        "## Homework"
      ],
      "metadata": {}
    },
    {
      "cell_type": "markdown",
      "source": [
        "### HW1: Repeat the above command (finding the most common art periods) restricting to Dutch painters only.\n",
        "HINT: start by searching/filtering for Dutch painters..."
      ],
      "metadata": {}
    },
    {
      "cell_type": "code",
      "source": [
        "%%bash\n",
        "cat artists.txt | grep \"Dutch\" | awk -F $'\\t' '{print$3}' | sort | uniq"
      ],
      "outputs": [
        {
          "output_type": "stream",
          "name": "stdout",
          "text": [
            "Baroque\n",
            "Neoclassicism\n",
            "Realism\n",
            "Rococo\n",
            "Romanticism\n"
          ]
        }
      ],
      "execution_count": 20,
      "metadata": {}
    },
    {
      "cell_type": "markdown",
      "source": [
        "### HW2: Find the most common last names among all artists in `artists.txt`.\n",
        "HINT: you will use `awk`, `sort`, and `uniq`, and you may use one or more of those commands multiple times"
      ],
      "metadata": {}
    },
    {
      "cell_type": "code",
      "source": [
        "%%bash\n",
        "cat artists.txt | awk '{gsub(/\\,/,\"\",$1);print$1}' | uniq -c | sort -r | head -1 | awk '{print$2}'"
      ],
      "outputs": [
        {
          "output_type": "stream",
          "name": "stdout",
          "text": [
            "KOBELL\n"
          ]
        }
      ],
      "execution_count": 30,
      "metadata": {
        "outputHidden": false,
        "outputExpanded": true
      }
    },
    {
      "cell_type": "code",
      "source": [],
      "outputs": [],
      "execution_count": null,
      "metadata": {
        "collapsed": false,
        "outputHidden": false,
        "inputHidden": false
      }
    }
  ],
  "metadata": {
    "kernelspec": {
      "name": "python3",
      "language": "python",
      "display_name": "Python 3"
    },
    "language_info": {
      "name": "python",
      "version": "3.6.6",
      "mimetype": "text/x-python",
      "codemirror_mode": {
        "name": "ipython",
        "version": 3
      },
      "pygments_lexer": "ipython3",
      "nbconvert_exporter": "python",
      "file_extension": ".py"
    },
    "kernel_info": {
      "name": "python3"
    },
    "nteract": {
      "version": "0.11.7"
    }
  },
  "nbformat": 4,
  "nbformat_minor": 2
}