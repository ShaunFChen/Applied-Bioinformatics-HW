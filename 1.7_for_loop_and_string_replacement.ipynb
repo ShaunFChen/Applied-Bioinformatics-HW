{
  "cells": [
    {
      "cell_type": "markdown",
      "source": [
        "## For\n",
        "\n",
        "```\n",
        "for i in {1..10}\n",
        "do\n",
        "echo $i\n",
        "done\n",
        "```\n",
        "\n",
        "## Loop through files using ls\n",
        "\n",
        "ls - lists all files and directories\n",
        "\n",
        "```\n",
        "for i in $(ls data/fastq/)\n",
        "do\n",
        "echo $i\n",
        "done\n",
        "```\n",
        "\n",
        "## String Replacement\n",
        "\n",
        "```\n",
        "a=\"helloworld\"\n",
        "echo $a\n",
        "echo ${a/world/foo}\n",
        "```\n",
        "\n",
        "## For loop to rename files\n",
        "\n",
        "```\n",
        "cd data/fastq\n",
        "for i in $(ls)\n",
        "do\n",
        "mv $i ${i/.fq/.fastq}\n",
        "done\n",
        "\n",
        "ls #See if files have been renamed\n",
        "```\n",
        "\n",
        "## Homework\n",
        "\n",
        "#### HW1: Print first 10 alphabets each in a new line\n",
        "\n",
        "#### HW2: Print first 10 multiples of 42 \n",
        "Tip: Use this syntax `echo $((2*2))` to evaluate numerical expressions.\n",
        "\n",
        "#### HW3: Find the error in the program below. It is supposed to print the first 10 alphabets\n",
        "\n",
        "```\n",
        "for i in {a.,j}\n",
        "do\n",
        "echo $i\n",
        "done\n",
        "```\n",
        "\n",
        "#### HW4(Bonus): Print only odd numbers till 10\n",
        "\n"
      ],
      "metadata": {}
    },
    {
      "cell_type": "code",
      "source": [
        "%%bash\n",
        "for i in {a..j}; do\n",
        "echo \"$i\"\n",
        "done"
      ],
      "outputs": [
        {
          "output_type": "stream",
          "name": "stdout",
          "text": [
            "a\n",
            "b\n",
            "c\n",
            "d\n",
            "e\n",
            "f\n",
            "g\n",
            "h\n",
            "i\n",
            "j\n"
          ]
        }
      ],
      "execution_count": 1,
      "metadata": {}
    },
    {
      "cell_type": "code",
      "source": [
        "%%bash\n",
        "for i in {1..10}; do\n",
        "echo $(($i*42))\n",
        "done"
      ],
      "outputs": [
        {
          "output_type": "stream",
          "name": "stdout",
          "text": [
            "42\n",
            "84\n",
            "126\n",
            "168\n",
            "210\n",
            "252\n",
            "294\n",
            "336\n",
            "378\n",
            "420\n"
          ]
        }
      ],
      "execution_count": 2,
      "metadata": {}
    },
    {
      "cell_type": "code",
      "source": [
        "%%bash\n",
        "for i in {a..j}; do\n",
        "echo \"$i\"\n",
        "done\n",
        "# should be {a..j} instead of {a.,j}"
      ],
      "outputs": [
        {
          "output_type": "stream",
          "name": "stdout",
          "text": [
            "a\n",
            "b\n",
            "c\n",
            "d\n",
            "e\n",
            "f\n",
            "g\n",
            "h\n",
            "i\n",
            "j\n"
          ]
        }
      ],
      "execution_count": 4,
      "metadata": {}
    },
    {
      "cell_type": "code",
      "source": [
        "%%bash\n",
        "for i in {0..4}; do\n",
        "echo $((2*$i+1))\n",
        "done"
      ],
      "outputs": [
        {
          "output_type": "stream",
          "name": "stdout",
          "text": [
            "1\n",
            "3\n",
            "5\n",
            "7\n",
            "9\n"
          ]
        }
      ],
      "execution_count": 1,
      "metadata": {}
    },
    {
      "cell_type": "code",
      "source": [],
      "outputs": [],
      "execution_count": null,
      "metadata": {}
    }
  ],
  "metadata": {
    "kernelspec": {
      "name": "python3",
      "language": "python",
      "display_name": "Python 3"
    },
    "language_info": {
      "name": "python",
      "version": "3.6.6",
      "mimetype": "text/x-python",
      "codemirror_mode": {
        "name": "ipython",
        "version": 3
      },
      "pygments_lexer": "ipython3",
      "nbconvert_exporter": "python",
      "file_extension": ".py"
    },
    "kernel_info": {
      "name": "python3"
    },
    "nteract": {
      "version": "0.11.7"
    }
  },
  "nbformat": 4,
  "nbformat_minor": 2
}